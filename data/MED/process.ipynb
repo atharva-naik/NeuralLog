{
 "metadata": {
  "language_info": {
   "codemirror_mode": {
    "name": "ipython",
    "version": 3
   },
   "file_extension": ".py",
   "mimetype": "text/x-python",
   "name": "python",
   "nbconvert_exporter": "python",
   "pygments_lexer": "ipython3",
   "version": "3.8.5-final"
  },
  "orig_nbformat": 2,
  "kernelspec": {
   "name": "python3",
   "display_name": "Python 3.8.5 64-bit ('Admin': virtualenv)",
   "metadata": {
    "interpreter": {
     "hash": "183bbf6827d058c2a2fb0f4acdc0420849dda2b4380af0e437e38c64d798d8b7"
    }
   }
  }
 },
 "nbformat": 4,
 "nbformat_minor": 2,
 "cells": [
  {
   "cell_type": "code",
   "execution_count": 3,
   "metadata": {},
   "outputs": [
    {
     "output_type": "execute_result",
     "data": {
      "text/plain": [
       "Index(['index', 'promptID', 'pairID', 'genre', 'sentence1_binary_parse',\n",
       "       'sentence2_binary_parse', 'sentence1_parse', 'sentence2_parse',\n",
       "       'sentence1', 'sentence2', 'label1', 'label2', 'label3', 'label4',\n",
       "       'label5', 'gold_label'],\n",
       "      dtype='object')"
      ]
     },
     "metadata": {},
     "execution_count": 3
    }
   ],
   "source": [
    "import pandas as pd \n",
    "\n",
    "df = pd.read_table(\"MED.tsv\")\n",
    "df.columns"
   ]
  },
  {
   "cell_type": "code",
   "execution_count": 5,
   "metadata": {
    "tags": []
   },
   "outputs": [],
   "source": [
    "with open(\"upward.txt\", 'w') as upward:\n",
    "    with open(\"downward.txt\", 'w') as downward:\n",
    "        for index, row in df.iterrows():\n",
    "            #print(row['genre'])\n",
    "            if row['gold_label'] == 'entailment': \n",
    "                if 'upward' in row['genre'] and not 'lexical' in row['genre']: \n",
    "                    upward.write(row['genre'] + '\\n')\n",
    "                    upward.write(row['sentence1'] + '\\n')\n",
    "                    upward.write(row['sentence2'] + '\\n')\n",
    "                    upward.write('\\n')\n",
    "                if 'downward' in row['genre'] and not 'lexical' in row['genre']: \n",
    "                    downward.write(row['genre'] + '\\n')\n",
    "                    downward.write(row['sentence1'] + '\\n')\n",
    "                    downward.write(row['sentence2'] + '\\n')\n",
    "                    downward.write('\\n')\n",
    "    "
   ]
  },
  {
   "cell_type": "code",
   "execution_count": null,
   "metadata": {},
   "outputs": [],
   "source": []
  }
 ]
}