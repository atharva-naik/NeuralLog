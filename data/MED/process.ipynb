{
 "metadata": {
  "language_info": {
   "codemirror_mode": {
    "name": "ipython",
    "version": 3
   },
   "file_extension": ".py",
   "mimetype": "text/x-python",
   "name": "python",
   "nbconvert_exporter": "python",
   "pygments_lexer": "ipython3",
   "version": 3
  },
  "orig_nbformat": 2
 },
 "nbformat": 4,
 "nbformat_minor": 2,
 "cells": [
  {
   "cell_type": "code",
   "execution_count": null,
   "metadata": {},
   "outputs": [],
   "source": [
    "import pandas as pd \n",
    "\n",
    "df = pd.read_table(\"../data/MED/MED.tsv\")\n",
    "df.columns"
   ]
  },
  {
   "cell_type": "code",
   "execution_count": null,
   "metadata": {},
   "outputs": [],
   "source": [
    "with open(\"../data/MED/upward.txt\", 'w') as upward:\n",
    "    with open(\"../data/MED/downward.txt\", 'w') as downward:\n",
    "        for index, row in df.iterrows():\n",
    "            print(row['genre'])\n",
    "            if row['gold_label'] == 'entailment': \n",
    "                if 'upward' in row['genre']: \n",
    "                    upward.write(row['genre'] + '\\n')\n",
    "                    upward.write(row['sentence1'] + '\\n')\n",
    "                    upward.write(row['sentence2'] + '\\n')\n",
    "                    upward.write('\\n')\n",
    "                if 'downward' in row['genre']: \n",
    "                    downward.write(row['genre'] + '\\n')\n",
    "                    downward.write(row['sentence1'] + '\\n')\n",
    "                    downward.write(row['sentence2'] + '\\n')\n",
    "                    downward.write('\\n')\n",
    "    "
   ]
  }
 ]
}