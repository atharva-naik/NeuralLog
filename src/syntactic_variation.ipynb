{
 "cells": [
  {
   "cell_type": "code",
   "execution_count": 3,
   "metadata": {},
   "outputs": [],
   "source": [
    "LOGIC = [\"Negation\", \"Double negation\", \"Intervals/Numbers\", \"Conjunction\", \"Disjunction\",\n",
    "          \"Conditionals\", \"Universal\", \"Existential\", \"Temporal\", \"Upward monotone\",\n",
    "          \"Downward monotone\", \"Non-monotone\",\n",
    "        ]\n",
    "LEXSEM = [\"Lexical entailment\", \"Morphological negation\", \"Factivity\", \"Symmetry/Collectivity\",\n",
    "            \"Redundancy\", \"Named entities\", \"Quantifiers\",\n",
    "         ]\n",
    "PAS = [\"Core args\", \"Prepositional phrases\", \"Ellipsis/Implicits\", \"Anaphora/Coreference\",\n",
    "        \"Active/Passive\", \"Nominalization\", \"Genitives/Partitives\", \"Datives\", \"Relative clauses\",\n",
    "        \"Coordination scope\", \"Intersectivity\", \"Restrictivity\",\n",
    "      ]\n",
    "KNOWLEDGE = [\"Common sense\", \"World knowledge\"]"
   ]
  },
  {
   "cell_type": "code",
   "execution_count": 4,
   "metadata": {},
   "outputs": [],
   "source": [
    "from allennlp.predictors.predictor import Predictor\n",
    "import allennlp_models.structured_prediction\n",
    "\n",
    "ie_extractor = Predictor.from_path(\"https://storage.googleapis.com/allennlp-public-models/openie-model.2020.03.26.tar.gz\")"
   ]
  },
  {
   "cell_type": "code",
   "execution_count": 5,
   "metadata": {},
   "outputs": [
    {
     "name": "stderr",
     "output_type": "stream",
     "text": [
      "INFO:stanza:Loading these models for language: en (English):\n",
      "=========================\n",
      "| Processor | Package   |\n",
      "-------------------------\n",
      "| tokenize  | gum       |\n",
      "| pos       | gum       |\n",
      "| lemma     | gum       |\n",
      "| depparse  | gum       |\n",
      "| sentiment | sstplus   |\n",
      "| ner       | ontonotes |\n",
      "=========================\n",
      "\n",
      "INFO:stanza:Use device: cpu\n",
      "INFO:stanza:Loading: tokenize\n",
      "INFO:stanza:Loading: pos\n",
      "INFO:stanza:Loading: lemma\n",
      "INFO:stanza:Loading: depparse\n",
      "INFO:stanza:Loading: sentiment\n",
      "INFO:stanza:Loading: ner\n",
      "INFO:stanza:Done loading processors!\n"
     ]
    }
   ],
   "source": [
    "from Udep2Mono.dependency_parse import dependencyParse\n",
    "from Udep2Mono.binarization import *\n",
    "from Udep2Mono.util import *\n",
    "from nltk.tree import Tree\n",
    "from nltk.draw import TreeWidget\n",
    "from nltk.draw.util import CanvasFrame\n",
    "from IPython.display import Image, display\n",
    "import os\n",
    "\n",
    "def jupyter_draw_nltk_tree(tree):\n",
    "    cf = CanvasFrame()\n",
    "    tc = TreeWidget(cf.canvas(), tree)\n",
    "    tc['node_font'] = 'arial 14 bold'\n",
    "    tc['leaf_font'] = 'arial 14'\n",
    "    tc['node_color'] = '#005990'\n",
    "    tc['leaf_color'] = '#3F8F57'\n",
    "    tc['line_color'] = '#175252'\n",
    "    cf.add_widget(tc, 20, 20)\n",
    "    os.system('rm -rf ../data/tree.png')\n",
    "    os.system('rm -rf ../data/tree.ps')\n",
    "    cf.print_to_file('../data/tree.ps')\n",
    "    cf.destroy()\n",
    "    os.system('magick convert ../data/tree.ps ../data/tree.png')\n",
    "    display(Image(filename='../data/tree.png'))\n",
    "    \n",
    "binarizer = Binarizer()"
   ]
  },
  {
   "cell_type": "code",
   "execution_count": 6,
   "metadata": {},
   "outputs": [
    {
     "data": {
      "image/png": "[encoded data removed]",
      "text/plain": [
       "<IPython.core.display.Image object>"
      ]
     },
     "metadata": {},
     "output_type": "display_data"
    }
   ],
   "source": [
    "parsed, replaced = dependencyParse(\"John ate Lucy's apple\", \"stanza\")\n",
    "tree, postag, words = parsed\n",
    "\n",
    "binarizer.parseTable = tree\n",
    "binarizer.postag = postag\n",
    "binarizer.words = words\n",
    "binaryDepdency, relation = binarizer.binarization()\n",
    "\n",
    "sexpression = btreeToList(binaryDepdency, len(words), replaced, 0)[0]\n",
    "sexpression = str(sexpression).replace(',', ' ').replace(\"'\", '')\n",
    "sexpression = sexpression.replace('[', '(').replace(']', ')')\n",
    "btreeViz = Tree.fromstring(sexpression)\n",
    "jupyter_draw_nltk_tree(btreeViz) "
   ]
  },
  {
   "cell_type": "code",
   "execution_count": 9,
   "metadata": {},
   "outputs": [],
   "source": [
    "from pattern.en import conjugate, lemma, lexeme, PAST, PRESENT, PARTICIPLE\n",
    "\n",
    "def pass2act(sentence, postag):\n",
    "    ie_pred = ie_extractor.predict(sentence)['verbs']\n",
    "    \n",
    "    def fix_info(desc):\n",
    "        out = desc.replace(\"ARG0: \", \"\")\n",
    "        out = out.replace(\"ARG1: \", \"\")\n",
    "        out = out.replace(\"V: \", \"\")\n",
    "        out = out.replace(\"[\", \"\")\n",
    "        out = out.replace(\"]\", \",\")\n",
    "        out = out.split(\",\")\n",
    "        return out\n",
    "    \n",
    "    def get_aux(noun, verb):\n",
    "        aux = \"is\"\n",
    "        if postag[noun][1] == \"NN\":\n",
    "            if postag[verb][1] == \"VBD\":\n",
    "                aux = \"was\"\n",
    "            elif postag[verb][1] == \"VBS\":\n",
    "                aux = \"will be\"\n",
    "            else:\n",
    "                aux = \"is\"\n",
    "        elif postag[noun][1] == \"NNS\":\n",
    "            if postag[verb][1] == \"VBD\":\n",
    "                aux = \"were\"\n",
    "            elif postag[verb][1] == \"VBS\":\n",
    "                aux = \"will be\"\n",
    "            else:\n",
    "                aux = \"are\"\n",
    "        return aux + \" \"\n",
    "        \n",
    "    \n",
    "    for verb in ie_pred:\n",
    "        predicate = fix_info(verb['description'])\n",
    "        print(predicate)\n",
    "        passive = [0,0,0]\n",
    "        passive[0] = predicate[2].strip()\n",
    "        passive[2] = \"by \" + predicate[0].strip()\n",
    "        passive_verb = conjugate(predicate[1].strip(), (PAST,PARTICIPLE), 1)\n",
    "        parsed, _ = dependencyParse(passive[0], \"stanza\")\n",
    "        tree, _, words = parsed \n",
    "        noun = \"\"\n",
    "        for node in tree:\n",
    "            if node[0] == \"root\":\n",
    "                noun = words[node[1]][0]\n",
    "                print(noun)\n",
    "        aux = get_aux(noun, predicate[1].strip())\n",
    "        passive[1] = aux + passive_verb\n",
    "        print(passive)"
   ]
  },
  {
   "cell_type": "code",
   "execution_count": 11,
   "metadata": {},
   "outputs": [
    {
     "name": "stdout",
     "output_type": "stream",
     "text": [
      "{'john': (1, 'NN'), 'took': (2, 'VBD'), 'some': (3, 'DT'), 'apples': (4, 'NNS')}\n",
      "['John', ' took', ' some apples', '']\n",
      "apples\n",
      "['some apples', 'were taken', 'by John']\n"
     ]
    }
   ],
   "source": [
    "parsed, replaced = dependencyParse(\"John took some apples\", \"stanza\")\n",
    "tree, postag, words = parsed\n",
    "print(postag)\n",
    "pass2act(\"John took some apples\", postag)"
   ]
  },
  {
   "cell_type": "code",
   "execution_count": 12,
   "metadata": {},
   "outputs": [
    {
     "data": {
      "text/plain": [
       "{'verbs': [{'verb': 'took',\n",
       "   'description': \"[ARG0: John] [V: took] [ARG1: Lucy 's book] [ARGM-PRP: to study]\",\n",
       "   'tags': ['B-ARG0',\n",
       "    'B-V',\n",
       "    'B-ARG1',\n",
       "    'I-ARG1',\n",
       "    'I-ARG1',\n",
       "    'B-ARGM-PRP',\n",
       "    'I-ARGM-PRP']},\n",
       "  {'verb': 'study',\n",
       "   'description': \"[ARG0: John] took Lucy 's book to [V: study]\",\n",
       "   'tags': ['B-ARG0', 'O', 'O', 'O', 'O', 'O', 'B-V']}],\n",
       " 'words': ['John', 'took', 'Lucy', \"'s\", 'book', 'to', 'study']}"
      ]
     },
     "execution_count": 12,
     "metadata": {},
     "output_type": "execute_result"
    }
   ],
   "source": [
    "ie_extractor.predict(\n",
    "  sentence=\"John took Lucy's book to study\"\n",
    ")"
   ]
  },
  {
   "cell_type": "code",
   "execution_count": null,
   "metadata": {},
   "outputs": [],
   "source": []
  }
 ],
 "metadata": {
  "kernelspec": {
   "display_name": "Python 3",
   "language": "python",
   "name": "python3"
  },
  "language_info": {
   "codemirror_mode": {
    "name": "ipython",
    "version": 3
   },
   "file_extension": ".py",
   "mimetype": "text/x-python",
   "name": "python",
   "nbconvert_exporter": "python",
   "pygments_lexer": "ipython3",
   "version": "3.8.5"
  }
 },
 "nbformat": 4,
 "nbformat_minor": 4
}
