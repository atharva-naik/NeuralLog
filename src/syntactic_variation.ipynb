{
 "cells": [
  {
   "cell_type": "code",
   "execution_count": 3,
   "metadata": {},
   "outputs": [],
   "source": [
    "LOGIC = [\"Negation\", \"Double negation\", \"Intervals/Numbers\", \"Conjunction\", \"Disjunction\",\n",
    "          \"Conditionals\", \"Universal\", \"Existential\", \"Temporal\", \"Upward monotone\",\n",
    "          \"Downward monotone\", \"Non-monotone\",\n",
    "        ]\n",
    "LEXSEM = [\"Lexical entailment\", \"Morphological negation\", \"Factivity\", \"Symmetry/Collectivity\",\n",
    "            \"Redundancy\", \"Named entities\", \"Quantifiers\",\n",
    "         ]\n",
    "PAS = [\"Core args\", \"Prepositional phrases\", \"Ellipsis/Implicits\", \"Anaphora/Coreference\",\n",
    "        \"Active/Passive\", \"Nominalization\", \"Genitives/Partitives\", \"Datives\", \"Relative clauses\",\n",
    "        \"Coordination scope\", \"Intersectivity\", \"Restrictivity\",\n",
    "      ]\n",
    "KNOWLEDGE = [\"Common sense\", \"World knowledge\"]"
   ]
  },
  {
   "cell_type": "code",
   "execution_count": 12,
   "metadata": {},
   "outputs": [],
   "source": [
    "from allennlp.predictors.predictor import Predictor\n",
    "import allennlp_models.structured_prediction\n",
    "\n",
    "ie_extractor = Predictor.from_path(\"https://storage.googleapis.com/allennlp-public-models/openie-model.2020.03.26.tar.gz\")"
   ]
  },
  {
   "cell_type": "code",
   "execution_count": 34,
   "metadata": {},
   "outputs": [],
   "source": [
    "from Udep2Mono.dependency_parse import dependencyParse\n",
    "from Udep2Mono.binarization import *\n",
    "from Udep2Mono.util import *\n",
    "from nltk.tree import Tree\n",
    "from nltk.draw import TreeWidget\n",
    "from nltk.draw.util import CanvasFrame\n",
    "from IPython.display import Image, display\n",
    "import os\n",
    "\n",
    "def jupyter_draw_nltk_tree(tree):\n",
    "    cf = CanvasFrame()\n",
    "    tc = TreeWidget(cf.canvas(), tree)\n",
    "    tc['node_font'] = 'arial 14 bold'\n",
    "    tc['leaf_font'] = 'arial 14'\n",
    "    tc['node_color'] = '#005990'\n",
    "    tc['leaf_color'] = '#3F8F57'\n",
    "    tc['line_color'] = '#175252'\n",
    "    cf.add_widget(tc, 20, 20)\n",
    "    cf.print_to_file('../data/tree.ps')\n",
    "    cf.destroy()\n",
    "    os.system('magick convert ../data/tree.ps ../data/tree.png')\n",
    "    display(Image(filename='../data/tree.png'))\n",
    "\n",
    "parsed, replaced = dependencyParse(\"John ate an apple\", \"stanza\")\n",
    "tree, postag, words = parsed\n",
    "\n",
    "# print(\"s\")\n",
    "# print(words)\n",
    "# print(parseTreeCopy)\n",
    "binarizer = Binarizer()"
   ]
  },
  {
   "cell_type": "code",
   "execution_count": 36,
   "metadata": {},
   "outputs": [
    {
     "data": {
      "image/png": "[encoded data removed]",
      "text/plain": [
       "<IPython.core.display.Image object>"
      ]
     },
     "metadata": {},
     "output_type": "display_data"
    }
   ],
   "source": [
    "binarizer.parseTable = tree\n",
    "binarizer.postag = postag\n",
    "binarizer.words = words\n",
    "\n",
    "sexpression = btreeToList(binaryDepdency, len(words), replaced, 0)[0]\n",
    "sexpression = str(sexpression).replace(',', ' ').replace(\"'\", '')\n",
    "sexpression = sexpression.replace('[', '(').replace(']', ')')\n",
    "btreeViz = Tree.fromstring(sexpression)\n",
    "jupyter_draw_nltk_tree(btreeViz) "
   ]
  },
  {
   "cell_type": "code",
   "execution_count": 6,
   "metadata": {},
   "outputs": [],
   "source": [
    "from pattern.en import conjugate, lemma, lexeme, PAST, PRESENT, PARTICIPLE\n",
    "\n",
    "def pass2act(sentence=\"John ate an apple\"):\n",
    "    ie_pred = ie_extractor.predict(sentence)['verbs']\n",
    "    \n",
    "    def fix_info(desc):\n",
    "        out = desc.replace(\"ARG0: \", \"\")\n",
    "        out = out.replace(\"ARG1: \", \"\")\n",
    "        out = out.replace(\"V: \", \"\")\n",
    "        out = out.replace(\"[\", \"\")\n",
    "        out = out.replace(\"]\", \",\")\n",
    "        out = out.split(\",\")\n",
    "        return out\n",
    "    \n",
    "    for verb in ie_pred:\n",
    "        predicate = fix_info(verb['description'])\n",
    "        print(predicate)\n",
    "        passive = [0,0,0]\n",
    "        passive[0] = predicate[2].strip()\n",
    "        passive[2] = \"by \" + predicate[0].strip()\n",
    "        passive_verb = conjugate(predicate[1].strip(), (PAST,PARTICIPLE), 1)\n",
    "        passive[1] = \"was \" + passive_verb\n",
    "        print(passive)"
   ]
  },
  {
   "cell_type": "code",
   "execution_count": 8,
   "metadata": {},
   "outputs": [
    {
     "name": "stdout",
     "output_type": "stream",
     "text": [
      "['John', ' eat', ' an apple', '']\n",
      "['an apple', 'was eaten', 'by John']\n"
     ]
    }
   ],
   "source": [
    "pass2act(\"John eat an apple\")"
   ]
  },
  {
   "cell_type": "code",
   "execution_count": 13,
   "metadata": {},
   "outputs": [
    {
     "data": {
      "text/plain": [
       "{'verbs': [{'verb': 'took',\n",
       "   'description': \"[ARG0: John] [V: took] [ARG1: Lucy 's book] [ARGM-PRP: to study]\",\n",
       "   'tags': ['B-ARG0',\n",
       "    'B-V',\n",
       "    'B-ARG1',\n",
       "    'I-ARG1',\n",
       "    'I-ARG1',\n",
       "    'B-ARGM-PRP',\n",
       "    'I-ARGM-PRP']},\n",
       "  {'verb': 'study',\n",
       "   'description': \"[ARG0: John] took Lucy 's book to [V: study]\",\n",
       "   'tags': ['B-ARG0', 'O', 'O', 'O', 'O', 'O', 'B-V']}],\n",
       " 'words': ['John', 'took', 'Lucy', \"'s\", 'book', 'to', 'study']}"
      ]
     },
     "execution_count": 13,
     "metadata": {},
     "output_type": "execute_result"
    }
   ],
   "source": [
    "ie_extractor.predict(\n",
    "  sentence=\"John took Lucy's book to study\"\n",
    ")"
   ]
  },
  {
   "cell_type": "code",
   "execution_count": null,
   "metadata": {},
   "outputs": [],
   "source": []
  }
 ],
 "metadata": {
  "kernelspec": {
   "display_name": "Python 3",
   "language": "python",
   "name": "python3"
  },
  "language_info": {
   "codemirror_mode": {
    "name": "ipython",
    "version": 3
   },
   "file_extension": ".py",
   "mimetype": "text/x-python",
   "name": "python",
   "nbconvert_exporter": "python",
   "pygments_lexer": "ipython3",
   "version": "3.8.5"
  }
 },
 "nbformat": 4,
 "nbformat_minor": 4
}
