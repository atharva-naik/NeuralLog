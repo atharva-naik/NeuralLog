{
 "cells": [
  {
   "cell_type": "code",
   "execution_count": 2,
   "metadata": {},
   "outputs": [],
   "source": [
    "LOGIC = [\"Negation\", \"Double negation\", \"Intervals/Numbers\", \"Conjunction\", \"Disjunction\",\n",
    "          \"Conditionals\", \"Universal\", \"Existential\", \"Temporal\", \"Upward monotone\",\n",
    "          \"Downward monotone\", \"Non-monotone\",\n",
    "        ]\n",
    "LEXSEM = [\"Lexical entailment\", \"Morphological negation\", \"Factivity\", \"Symmetry/Collectivity\",\n",
    "            \"Redundancy\", \"Named entities\", \"Quantifiers\",\n",
    "         ]\n",
    "PAS = [\"Core args\", \"Prepositional phrases\", \"Ellipsis/Implicits\", \"Anaphora/Coreference\",\n",
    "        \"Active/Passive\", \"Nominalization\", \"Genitives/Partitives\", \"Datives\", \"Relative clauses\",\n",
    "        \"Coordination scope\", \"Intersectivity\", \"Restrictivity\",\n",
    "      ]\n",
    "KNOWLEDGE = [\"Common sense\", \"World knowledge\"]"
   ]
  },
  {
   "cell_type": "code",
   "execution_count": 197,
   "metadata": {},
   "outputs": [],
   "source": [
    "from allennlp.predictors.predictor import Predictor\n",
    "import allennlp_models.structured_prediction\n",
    "\n",
    "sem_role_labeler = Predictor.from_path(\"https://storage.googleapis.com/allennlp-public-models/bert-base-srl-2020.11.19.tar.gz\")\n",
    "ie_extractor = Predictor.from_path(\"https://storage.googleapis.com/allennlp-public-models/openie-model.2020.03.26.tar.gz\")"
   ]
  },
  {
   "cell_type": "code",
   "execution_count": 198,
   "metadata": {},
   "outputs": [
    {
     "data": {
      "text/plain": [
       "{'verbs': [{'verb': 'took',\n",
       "   'description': \"[ARG0: John] [V: took] [ARG1: Lucy 's book]\",\n",
       "   'tags': ['B-ARG0', 'B-V', 'B-ARG1', 'I-ARG1', 'I-ARG1']}],\n",
       " 'words': ['John', 'took', 'Lucy', \"'s\", 'book']}"
      ]
     },
     "execution_count": 198,
     "metadata": {},
     "output_type": "execute_result"
    }
   ],
   "source": [
    "sem_role_labeler.predict(\n",
    "  sentence=\"John took Lucy's book\"\n",
    ")"
   ]
  },
  {
   "cell_type": "code",
   "execution_count": 193,
   "metadata": {},
   "outputs": [],
   "source": [
    "from pattern.en import conjugate, lemma, lexeme, PAST, PRESENT, PARTICIPLE\n",
    "\n",
    "def pass2act(sentence=\"John ate an apple\"):\n",
    "    ie_pred = ie_extractor.predict(sentence)['verbs']\n",
    "    \n",
    "    def fix_info(desc):\n",
    "        out = desc.replace(\"ARG0: \", \"\")\n",
    "        out = out.replace(\"ARG1: \", \"\")\n",
    "        out = out.replace(\"V: \", \"\")\n",
    "        out = out.replace(\"[\", \"\")\n",
    "        out = out.replace(\"]\", \",\")\n",
    "        out = out.split(\",\")\n",
    "        return out\n",
    "    \n",
    "    for verb in ie_pred:\n",
    "        predicate = fix_info(verb['description'])\n",
    "        print(predicate)\n",
    "        passive = [0,0,0]\n",
    "        passive[0] = predicate[2].strip()\n",
    "        passive[2] = \"by \" + predicate[0].strip()\n",
    "        passive_verb = conjugate(predicate[1].strip(), (PAST,PARTICIPLE), 1)\n",
    "        passive[1] = \"was \" + passive_verb\n",
    "        print(passive)"
   ]
  },
  {
   "cell_type": "code",
   "execution_count": 194,
   "metadata": {},
   "outputs": [
    {
     "name": "stdout",
     "output_type": "stream",
     "text": [
      "['John', ' eat', ' an apple', '']\n",
      "['an apple', 'was eaten', 'by John']\n"
     ]
    }
   ],
   "source": [
    "pass2act(\"John eat an apple\")"
   ]
  },
  {
   "cell_type": "code",
   "execution_count": 195,
   "metadata": {},
   "outputs": [
    {
     "data": {
      "text/plain": [
       "{'verbs': [{'verb': 'took',\n",
       "   'description': \"[ARG0: John] [V: took] [ARG1: Lucy 's book]\",\n",
       "   'tags': ['B-ARG0', 'B-V', 'B-ARG1', 'I-ARG1', 'I-ARG1']}],\n",
       " 'words': ['John', 'took', 'Lucy', \"'s\", 'book']}"
      ]
     },
     "execution_count": 195,
     "metadata": {},
     "output_type": "execute_result"
    }
   ],
   "source": [
    "ie_extractor.predict(\n",
    "  sentence=\"John took Lucy's book\"\n",
    ")"
   ]
  },
  {
   "cell_type": "code",
   "execution_count": null,
   "metadata": {},
   "outputs": [],
   "source": []
  }
 ],
 "metadata": {
  "kernelspec": {
   "display_name": "Python 3",
   "language": "python",
   "name": "python3"
  },
  "language_info": {
   "codemirror_mode": {
    "name": "ipython",
    "version": 3
   },
   "file_extension": ".py",
   "mimetype": "text/x-python",
   "name": "python",
   "nbconvert_exporter": "python",
   "pygments_lexer": "ipython3",
   "version": "3.8.5"
  }
 },
 "nbformat": 4,
 "nbformat_minor": 4
}
