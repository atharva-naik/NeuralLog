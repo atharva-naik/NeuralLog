{
    "metadata": {
        "kernelspec": {
            "name": "python3",
            "display_name": "Python 3",
            "language": "python"
        },
        "language_info": {
            "name": "python",
            "version": "3.8.5-final",
            "mimetype": "text/x-python",
            "codemirror_mode": {
                "name": "ipython",
                "version": 3
            },
            "pygments_lexer": "ipython3",
            "nbconvert_exporter": "python",
            "file_extension": ".py"
        }
    },
    "nbformat_minor": 2,
    "nbformat": 4,
    "cells": [
        {
            "cell_type": "code",
            "source": [
                "LOGIC = [\"Negation\", \"Double negation\", \"Intervals/Numbers\", \"Conjunction\", \"Disjunction\",\n",
                "          \"Conditionals\", \"Universal\", \"Existential\", \"Temporal\", \"Upward monotone\",\n",
                "          \"Downward monotone\", \"Non-monotone\",\n",
                "        ]\n",
                "LEXSEM = [\"Lexical entailment\", \"Morphological negation\", \"Factivity\", \"Symmetry/Collectivity\",\n",
                "            \"Redundancy\", \"Named entities\", \"Quantifiers\",\n",
                "         ]\n",
                "PAS = [\"Core args\", \"Prepositional phrases\", \"Ellipsis/Implicits\", \"Anaphora/Coreference\",\n",
                "        \"Active/Passive\", \"Nominalization\", \"Genitives/Partitives\", \"Datives\", \"Relative clauses\",\n",
                "        \"Coordination scope\", \"Intersectivity\", \"Restrictivity\",\n",
                "      ]\n",
                "KNOWLEDGE = [\"Common sense\", \"World knowledge\"]"
            ],
            "metadata": {
                "azdata_cell_guid": "a8145a35-5746-4490-a5f1-88cb7bcbb239"
            },
            "outputs": [],
            "execution_count": 1
        },
        {
            "cell_type": "code",
            "source": [
                "from allennlp.predictors.predictor import Predictor\n",
                "import allennlp_models.structured_prediction\n",
                "\n",
                "ie_extractor = Predictor.from_path(\"https://storage.googleapis.com/allennlp-public-models/openie-model.2020.03.26.tar.gz\")"
            ],
            "metadata": {
                "azdata_cell_guid": "e24540b0-0e64-4f16-9b8b-68f1a7f3a1a7"
            },
            "outputs": [
                {
                    "output_type": "stream",
                    "name": "stderr",
                    "text": [
                        "error loading _jsonnet (this is expected on Windows), treating C:\\Users\\Admin\\AppData\\Local\\Temp\\tmp2c2xwgeu\\config.json as plain json\n"
                    ]
                }
            ],
            "execution_count": 2
        },
        {
            "cell_type": "markdown",
            "source": [
                "## Potentail Chunking Method"
            ],
            "metadata": {
                "azdata_cell_guid": "74d1ae86-697e-4d0e-850d-866403c16ca3"
            }
        },
        {
            "cell_type": "code",
            "source": [
                "import os\n",
                "from Udep2Mono.util import *\n",
                "from Udep2Mono.dependency_parse import dependency_parse\n",
                "from Udep2Mono.binarization import BinaryDependencyTree, Binarizer\n",
                "from Udep2Mono.polarization import PolarizationPipeline\n",
                "\n",
                "from nltk.tree import Tree\n",
                "from nltk.draw import TreeWidget\n",
                "from nltk.draw.util import CanvasFrame\n",
                "from IPython.display import Image, display\n",
                "\n",
                "def jupyter_draw_nltk_tree(tree):\n",
                "    cf = CanvasFrame()\n",
                "    tc = TreeWidget(cf.canvas(), tree)\n",
                "    tc['node_font'] = 'arial 14 bold'\n",
                "    tc['leaf_font'] = 'arial 14'\n",
                "    tc['node_color'] = '#005990'\n",
                "    tc['leaf_color'] = '#3F8F57'\n",
                "    tc['line_color'] = '#175252'\n",
                "    cf.add_widget(tc, 20, 20)\n",
                "    os.system('rm -rf ../data/tree.png')\n",
                "    os.system('rm -rf ../data/tree.ps')\n",
                "    cf.print_to_file('../data/tree.ps')\n",
                "    cf.destroy()\n",
                "    os.system('convert ../data/tree.ps ../data/tree.png')\n",
                "    display(Image(filename='../data/tree.png'))\n",
                "    \n",
                "binarizer = Binarizer()"
            ],
            "metadata": {
                "azdata_cell_guid": "68f67be8-da45-4a25-90df-889025898cb2"
            },
            "outputs": [
                {
                    "output_type": "stream",
                    "name": "stderr",
                    "text": [
                        "2021-03-24 23:34:57 INFO: Loading these models for language: en (English):\n",
                        "========================================\n",
                        "| Processor | Package                  |\n",
                        "----------------------------------------\n",
                        "| tokenize  | ../model/e...ize/gum.pt  |\n",
                        "| pos       | ../model/en/pos/ewt.pt   |\n",
                        "| lemma     | ../model/en/lemma/gum.pt |\n",
                        "| depparse  | ../model/e...rse/gum.pt  |\n",
                        "========================================\n",
                        "\n",
                        "2021-03-24 23:34:57 INFO: Use device: gpu\n",
                        "2021-03-24 23:34:57 INFO: Loading: tokenize\n",
                        "2021-03-24 23:34:59 INFO: Loading: pos\n",
                        "2021-03-24 23:34:59 INFO: Loading: lemma\n",
                        "2021-03-24 23:34:59 INFO: Loading: depparse\n",
                        "2021-03-24 23:35:00 INFO: Done loading processors!\n",
                        "2021-03-24 23:35:00 INFO: Loading these models for language: en (English):\n",
                        "=======================================\n",
                        "| Processor | Package                 |\n",
                        "---------------------------------------\n",
                        "| tokenize  | ../model/e...ize/gum.pt |\n",
                        "=======================================\n",
                        "\n",
                        "2021-03-24 23:35:00 INFO: Use device: cpu\n",
                        "2021-03-24 23:35:00 INFO: Loading: tokenize\n",
                        "2021-03-24 23:35:00 INFO: Done loading processors!\n"
                    ]
                }
            ],
            "execution_count": 2
        },
        {
            "cell_type": "code",
            "source": [
                "pipeline = PolarizationPipeline()\n",
                "sentence = \"It premiered on 27 June, 2016 and airs Monday-Friday 10-11pm IST\"\n",
                "parsed, replaced = dependency_parse(sentence, pipeline.parser)\n",
                "binary_dep, relation = pipeline.run_binarization(parsed, replaced, sentence)\n",
                "sexpression = pipeline.postprocess(binary_dep, replaced).replace(\"[\", \"(\").replace(\"]\",\")\")\n",
                "btreeViz = Tree.fromstring(sexpression)\n",
                "jupyter_draw_nltk_tree(btreeViz) "
            ],
            "metadata": {
                "azdata_cell_guid": "0a917935-cc0b-411a-a246-67121ce6bf6e"
            },
            "outputs": [
                {
                    "output_type": "display_data",
                    "data": {
                        "image/png": "[encoded data removed]",
                        "text/plain": "<IPython.core.display.Image object>"
                    },
                    "metadata": {}
                }
            ],
            "execution_count": 30
        },
        {
            "cell_type": "code",
            "source": [
                "sentence = \"He also played in the North-South Shrine Game and was named MVP of the Senior Bowl\"\n",
                "parsed, replaced = dependency_parse(sentence, pipeline.parser)\n",
                "binary_dep, relation = pipeline.run_binarization(parsed, replaced, sentence)\n",
                "sexpression = pipeline.postprocess(binary_dep, replaced).replace(\"[\", \"(\").replace(\"]\",\")\")\n",
                "btreeViz = Tree.fromstring(sexpression)\n",
                "jupyter_draw_nltk_tree(btreeViz) "
            ],
            "metadata": {
                "azdata_cell_guid": "7142ffbd-9eeb-454f-9be5-cfcbd926d89a"
            },
            "outputs": [
                {
                    "output_type": "display_data",
                    "data": {
                        "image/png": "[encoded data removed]",
                        "text/plain": "<IPython.core.display.Image object>"
                    },
                    "metadata": {}
                }
            ],
            "execution_count": 31
        },
        {
            "cell_type": "code",
            "source": [
                "phrase_tags = [\"nsubj\", \"xcomp\", \"obj\", \"csubj\", \"acl\", \"advcl\", \"acl:relcl\", \"advmod\", \"amod\", \"det\", \"nmod\",\"case\"]\n",
                "\n",
                "def collect_phrases(tree, phrases):\n",
                "    if tree.val in phrase_tags and not tree.is_root:\n",
                "        phrases.append(tree.copy())\n",
                "    if tree.left.is_tree:\n",
                "        collect_phrases(tree.left, phrases)\n",
                "    if tree.right.is_tree:\n",
                "        collect_phrases(tree.right, phrases)\n",
                "\n",
                "pipeline = PolarizationPipeline()\n",
                "\n",
                "sentence = \"John ate some red apples yesterday with Lucy\"\n",
                "parsed, replaced = dependency_parse(sentence, pipeline.parser)\n",
                "print(parsed[0])\n",
                "print(parsed[1])\n",
                "binary_dep, relation = pipeline.run_binarization(parsed, replaced, sentence)\n",
                "phrases = []\n",
                "sexpression = pipeline.postprocess(binary_dep, replaced).replace(\"[\", \"(\").replace(\"]\",\")\")\n",
                "btreeViz = Tree.fromstring(sexpression)\n",
                "jupyter_draw_nltk_tree(btreeViz)\n",
                "collect_phrases(binary_dep, phrases)\n",
                "for tree in phrases:\n",
                "    print([x[0] for x in list(tree.sorted_leaves().popkeys())])"
            ],
            "metadata": {
                "azdata_cell_guid": "38448fe5-dfd8-4f26-a34c-23d39c982e90"
            },
            "outputs": [
                {
                    "output_type": "stream",
                    "name": "stdout",
                    "text": "[['nsubj', 1, 2], ['root', 2, 'root'], ['det', 3, 5], ['amod', 4, 5], ['obj', 5, 2], ['obl:tmod', 6, 2], ['case', 7, 8], ['obl', 8, 2]]\n{'John': (1, 'NNP'), 'ate': (2, 'VBD'), 'some': (3, 'DT'), 'red': (4, 'JJ'), 'apples': (5, 'NNS'), 'yesterday': (6, 'NN'), 'with': (7, 'IN'), 'Lucy': (8, 'NNP')}\n"
                },
                {
                    "output_type": "display_data",
                    "data": {
                        "image/png": "[encoded data removed]",
                        "text/plain": "<IPython.core.display.Image object>"
                    },
                    "metadata": {}
                },
                {
                    "output_type": "stream",
                    "name": "stdout",
                    "text": "['with', 'Lucy']\n['ate', 'some', 'red', 'apples']\n['some', 'red', 'apples']\n['red', 'apples']\n"
                }
            ],
            "execution_count": 4
        },
        {
            "cell_type": "code",
            "source": [
                "sentence = \"A person with a smile on his face\"\n",
                "parsed, replaced = dependency_parse(sentence, pipeline.parser)\n",
                "binary_dep, relation = pipeline.run_binarization(parsed, replaced, sentence)\n",
                "phrases = []\n",
                "sexpression = pipeline.postprocess(binary_dep, replaced).replace(\"[\", \"(\").replace(\"]\",\")\")\n",
                "btreeViz = Tree.fromstring(sexpression)\n",
                "jupyter_draw_nltk_tree(btreeViz) \n",
                "collect_phrases(binary_dep, phrases)\n",
                "for tree in phrases:\n",
                "    print([x[0] for x in list(tree.sorted_leaves().popkeys())])"
            ],
            "metadata": {
                "azdata_cell_guid": "e8c3fed5-6f91-475e-b884-915d4dbe43dc"
            },
            "outputs": [
                {
                    "output_type": "display_data",
                    "data": {
                        "image/png": "[encoded data removed]",
                        "text/plain": "<IPython.core.display.Image object>"
                    },
                    "metadata": {}
                },
                {
                    "output_type": "stream",
                    "name": "stdout",
                    "text": "['with', 'a', 'smile', 'on', 'his', 'face']\n['a', 'smile', 'on', 'his', 'face']\n['on', 'his', 'face']\n['a', 'smile']\n['a', 'person']\n"
                }
            ],
            "execution_count": 33
        },
        {
            "cell_type": "markdown",
            "source": [
                "## Passive to Active and Active to Passive"
            ],
            "metadata": {
                "azdata_cell_guid": "4896d158-9a90-4284-a71f-7dfb7a90cd46"
            }
        },
        {
            "cell_type": "code",
            "source": [
                "from pattern.en import conjugate, lemma, lexeme, PAST, PRESENT, PARTICIPLE\n",
                "\n",
                "def pass2act(sentence, postag):\n",
                "    ie_pred = ie_extractor.predict(sentence)['verbs']\n",
                "    \n",
                "    def fix_info(desc):\n",
                "        out = desc.replace(\"ARG0: \", \"\")\n",
                "        out = out.replace(\"ARG1: \", \"\")\n",
                "        out = out.replace(\"V: \", \"\")\n",
                "        out = out.replace(\"[\", \"\")\n",
                "        out = out.replace(\"]\", \",\")\n",
                "        out = out.split(\",\")\n",
                "        return out\n",
                "    \n",
                "    def get_aux(noun, verb):\n",
                "        aux = \"is\"\n",
                "        if postag[noun][1] == \"NN\":\n",
                "            if postag[verb][1] == \"VBD\":\n",
                "                aux = \"was\"\n",
                "            elif postag[verb][1] == \"VBS\":\n",
                "                aux = \"will be\"\n",
                "            else:\n",
                "                aux = \"is\"\n",
                "        elif postag[noun][1] == \"NNS\":\n",
                "            if postag[verb][1] == \"VBD\":\n",
                "                aux = \"were\"\n",
                "            elif postag[verb][1] == \"VBS\":\n",
                "                aux = \"will be\"\n",
                "            else:\n",
                "                aux = \"are\"\n",
                "        return aux + \" \"\n",
                "        \n",
                "    \n",
                "    for verb in ie_pred:\n",
                "        predicate = fix_info(verb['description'])\n",
                "        print(predicate)\n",
                "        passive = [0,0,0]\n",
                "        passive[0] = predicate[2].strip()\n",
                "        passive[2] = \"by \" + predicate[0].strip()\n",
                "        passive_verb = conjugate(predicate[1].strip(), (PAST,PARTICIPLE), 1)\n",
                "        parsed, _ = dependency_parse(passive[0], \"stanza\")\n",
                "        tree, _, words = parsed \n",
                "        noun = \"\"\n",
                "        for node in tree:\n",
                "            if node[0] == \"root\":\n",
                "                noun = words[node[1]][0]\n",
                "                print(noun)\n",
                "        aux = get_aux(noun, predicate[1].strip())\n",
                "        passive[1] = aux + passive_verb\n",
                "        print(passive)"
            ],
            "metadata": {
                "azdata_cell_guid": "b086d2cc-3b13-4705-a74a-a7664bb20852"
            },
            "outputs": [],
            "execution_count": 3
        },
        {
            "cell_type": "code",
            "source": [
                "def fix_info(desc):\n",
                "    out = desc.replace(\"[ARG0: \", \"\")\n",
                "    out = out.replace(\"[ARG1: \", \"\")\n",
                "    out = out.replace(\"[V: \", \"\")\n",
                "    out = out.replace(\"]\", \",\")\n",
                "    out = out.split(\",\")\n",
                "    return out\n",
                "\n",
                "def get_aux(noun, verb):\n",
                "    aux = \"is\"\n",
                "    if postag[noun][1] == \"NN\":\n",
                "        if postag[verb][1] == \"VBD\":\n",
                "            aux = \"was\"\n",
                "        elif postag[verb][1] == \"VBS\":\n",
                "            aux = \"will be\"\n",
                "        else:\n",
                "            aux = \"is\"\n",
                "    elif postag[noun][1] == \"NNS\":\n",
                "        if postag[verb][1] == \"VBD\":\n",
                "            aux = \"were\"\n",
                "        elif postag[verb][1] == \"VBS\":\n",
                "            aux = \"will be\"\n",
                "        else:\n",
                "            aux = \"are\"\n",
                "    return aux + \" \""
            ],
            "metadata": {
                "azdata_cell_guid": "8936b271-5bd2-4a4f-a123-56c308a40fe8"
            },
            "outputs": [],
            "execution_count": 1
        },
        {
            "cell_type": "code",
            "execution_count": 3,
            "metadata": {},
            "outputs": [],
            "source": [
                "def fix_info(desc):\n",
                "    out = desc.replace(\"[ARG0: \", \"\")\n",
                "    out = out.replace(\"[ARG1: \", \"\")\n",
                "    out = out.replace(\"[ARG2: \", \"\")\n",
                "    out = out.replace(\"[ARGM-DIR: \", \"\")\n",
                "    out = out.replace(\"[ARGM-ADV: \", \"\")\n",
                "    out = out.replace(\"[ARGM-LOC: \", \"\")\n",
                "    out = out.replace(\"[V: \", \"\")\n",
                "    out = out.replace(\"]\", \",\")\n",
                "    out = out.split(\",\")\n",
                "    return out"
            ]
        },
        {
            "cell_type": "code",
            "execution_count": 3,
            "metadata": {},
            "outputs": [],
            "source": [
                "def extract_context(sentence, ie_pred):\n",
                "    context = []\n",
                "    for verb in ie_pred:\n",
                "        if \"ARG\" in verb['description']:\n",
                "            is_obj = False\n",
                "            rel = []\n",
                "            subj = []\n",
                "            obj = []\n",
                "            for word, tag in zip(sentence.replace(',', ' ,').split(' '), verb['tags']):\n",
                "                if tag == 'O':\n",
                "                    rel.append(word)\n",
                "                elif tag == 'B-V':\n",
                "                    rel.append(word)\n",
                "                    is_obj = True\n",
                "                elif 'ARG' in tag and not is_obj:\n",
                "                    subj.append(word.replace(' ,', ','))\n",
                "                elif 'ARG' in tag and is_obj:\n",
                "                    obj.append(word.replace(' ,', ','))\n",
                "            context.append((subj, rel, obj))\n",
                "    return context"
            ]
        },
        {
            "cell_type": "code",
            "execution_count": 50,
            "metadata": {},
            "outputs": [
                {
                    "output_type": "execute_result",
                    "data": {
                        "text/plain": [
                            "True"
                        ]
                    },
                    "metadata": {},
                    "execution_count": 50
                }
            ],
            "source": [
                "s1 = \"A big wave is being ridden by a surfer across dark green water\"\n",
                "s2 = \"The surfer is riding a big wave\"\n",
                "\n",
                "ie_pred1 = ie_extractor.predict(s1)['verbs']\n",
                "ie_pred2 = ie_extractor.predict(s2)['verbs']\n",
                "\n",
                "def check_passact(ie1, ie2):\n",
                "    for verb in ie1:\n",
                "        if 'ARG1' in verb['tags'][0] or 'ARG1' in verb['tags'][1]:\n",
                "            return True\n",
                "\n",
                "    for verb in ie2:\n",
                "        if 'ARG1' in verb['tags'][0] or 'ARG1' in verb['tags'][1]:\n",
                "            return True\n",
                "    \n",
                "    return False\n",
                "\n",
                "check_passact(ie_pred1, ie_pred2)"
            ]
        },
        {
            "cell_type": "code",
            "execution_count": 4,
            "metadata": {},
            "outputs": [
                {
                    "output_type": "stream",
                    "name": "stderr",
                    "text": [
                        "Using cache found in C:\\Users\\Admin/.cache\\torch\\hub\\pytorch_fairseq_master\n"
                    ]
                }
            ],
            "source": [
                "import torch\n",
                "roberta = torch.hub.load('pytorch/fairseq', 'roberta.large.mnli')\n",
                "_eval = roberta.eval()"
            ]
        },
        {
            "cell_type": "code",
            "execution_count": 5,
            "metadata": {},
            "outputs": [],
            "source": [
                "from copy import deepcopy\n",
                "\n",
                "knowledge_base = {}\n",
                "\n",
                "def abduction(seq1, seq2, label):\n",
                "    ie_pred_a = ie_extractor.predict(seq1)['verbs']\n",
                "    ie_pred_b = ie_extractor.predict(seq2)['verbs']\n",
                "    context_a = extract_context(seq1, ie_pred_a)\n",
                "    context_b = extract_context(seq2, ie_pred_b)\n",
                "\n",
                "    #print(context_a)\n",
                "    #print(context_b)\n",
                "\n",
                "    def check_quality(pair, label):\n",
                "        new_pair1 = deepcopy(pair[0])\n",
                "        new_pair2 = deepcopy(pair[1])\n",
                "\n",
                "        for w in pair[0]:\n",
                "            if w in new_pair1 and w in new_pair2 and len(new_pair1) > 0 and len(new_pair2) > 0:\n",
                "                new_pair1.remove(w)\n",
                "                new_pair2.remove(w)\n",
                "\n",
                "        if label == 3:\n",
                "            if \"not\" in pair[0] or \"not\" in pair[1]:\n",
                "                return ()\n",
                "            if \"no\" in pair[0] or \"no\" in pair[1]:\n",
                "                return ()\n",
                "\n",
                "        return (new_pair1, new_pair2)\n",
                "\n",
                "    def add_knowledge(seqs, label):\n",
                "        pair = check_quality(seqs,label)\n",
                "        if len(pair) < 1:\n",
                "            return\n",
                "        \n",
                "        phrase1 = ' '.join(pair[0])\n",
                "        phrase2 = ' '.join(pair[1])\n",
                "\n",
                "        tokens = roberta.encode(phrase1, phrase2)\n",
                "        pred = roberta.predict('mnli', tokens).argmax().cpu().item()\n",
                "        if pred != 0:\n",
                "            return\n",
                "\n",
                "        if phrase1 != phrase2 and phrase1 != \"\" and phrase2 != \"\":\n",
                "            if phrase1+':'+phrase2 in knowledge_base:\n",
                "                knowledge_base[phrase1+':'+phrase2][label+1] += 1\n",
                "            else:\n",
                "                label_list = [phrase1, phrase2, 0,0,0]\n",
                "                label_list[label+1] += 1\n",
                "                knowledge_base[phrase1+':'+phrase2] = label_list\n",
                "\n",
                "    for c1 in context_a:\n",
                "        for c2 in context_b:\n",
                "            add_knowledge((c1[0], c2[0]), label)\n",
                "            add_knowledge((c1[1], c2[1]), label)\n",
                "            add_knowledge((c1[2], c2[2]), label)         "
            ]
        },
        {
            "cell_type": "code",
            "execution_count": 6,
            "metadata": {},
            "outputs": [
                {
                    "output_type": "execute_result",
                    "data": {
                        "text/plain": [
                            "{'huge:very small': ['huge', 'very small', 2, 0, 0],\n",
                            " 'The young girl:a bubble that': ['The young girl', 'a bubble that', 1, 0, 0],\n",
                            " 'a bubble that is huge:very small': ['a bubble that is huge',\n",
                            "  'very small',\n",
                            "  1,\n",
                            "  0,\n",
                            "  0],\n",
                            " 'huge:a bubble that is very small': ['huge',\n",
                            "  'a bubble that is very small',\n",
                            "  1,\n",
                            "  0,\n",
                            "  0]}"
                        ]
                    },
                    "metadata": {},
                    "execution_count": 6
                }
            ],
            "source": [
                "knowledge_base = {}\n",
                "P = \"The young girl is blowing a bubble that is huge\"\n",
                "H = \"The young girl is blowing a bubble that is very small\"\n",
                "\n",
                "abduction(P, H, 1)\n",
                "knowledge_base"
            ]
        },
        {
            "cell_type": "code",
            "execution_count": 7,
            "metadata": {},
            "outputs": [
                {
                    "output_type": "execute_result",
                    "data": {
                        "text/plain": [
                            "{'naked:gear which is black': ['naked', 'gear which is black', 1, 0, 0]}"
                        ]
                    },
                    "metadata": {},
                    "execution_count": 7
                }
            ],
            "source": [
                "knowledge_base = {}\n",
                "P = \"A hiker is on top of the mountain and is dancing\"\n",
                "H = \"There is no hiker is on top of the mountain and is dancing\"\n",
                "\n",
                "P = \"A biker is naked\"\n",
                "H = \"A biker is wearing gear which is black\"\n",
                "\n",
                "abduction(P, H, 1)\n",
                "knowledge_base"
            ]
        },
        {
            "cell_type": "code",
            "execution_count": 21,
            "metadata": {},
            "outputs": [
                {
                    "output_type": "stream",
                    "name": "stdout",
                    "text": [
                        "1298\n1298\n2535\n2535\n664\n664\n"
                    ]
                }
            ],
            "source": [
                "entail_p = []\n",
                "entail_h = []\n",
                "neutral_p = []\n",
                "neutral_h = []\n",
                "contra_p = []\n",
                "contra_h = []\n",
                "\n",
                "with open(\"../data/SICk/train_entail.txt\", 'r') as sick_entail:\n",
                "    lines = sick_entail.readlines()\n",
                "    for i in range(len(lines) // 3):\n",
                "        entail_p.append(lines[i*3])\n",
                "        entail_h.append(lines[i*3+1])\n",
                "        \n",
                "\n",
                "with open(\"../data/SICk/train_neutral.txt\", 'r') as sick_noun:\n",
                "    lines = sick_noun.readlines()\n",
                "    for i in range(len(lines) // 3):\n",
                "        neutral_p.append(lines[i*3])\n",
                "        neutral_h.append(lines[i*3+1])\n",
                "        \n",
                "\n",
                "with open(\"../data/SICk/train_contradict.txt\", 'r') as sick_contra:\n",
                "    lines = sick_contra.readlines()\n",
                "    for i in range(len(lines) // 3):\n",
                "        contra_p.append(lines[i*3])\n",
                "        contra_h.append(lines[i*3+1])\n",
                "        \n",
                "print(len(entail_p))\n",
                "print(len(entail_h))\n",
                "print(len(neutral_p))\n",
                "print(len(neutral_h))\n",
                "print(len(contra_p))\n",
                "print(len(contra_h))"
            ]
        },
        {
            "cell_type": "code",
            "execution_count": 23,
            "metadata": {},
            "outputs": [],
            "source": [
                "from tqdm import tqdm"
            ]
        },
        {
            "cell_type": "code",
            "execution_count": 109,
            "metadata": {},
            "outputs": [
                {
                    "output_type": "stream",
                    "name": "stderr",
                    "text": [
                        "100%|██████████| 1298/1298 [03:16<00:00,  6.60it/s]\n"
                    ]
                }
            ],
            "source": [
                "from tqdm import tqdm\n",
                "\n",
                "for i in tqdm(range(len(entail_p))):\n",
                "    abduction(entail_p[i].replace('\\n',''), entail_h[i].replace('\\n',''), 1)"
            ]
        },
        {
            "cell_type": "code",
            "execution_count": 110,
            "metadata": {},
            "outputs": [
                {
                    "output_type": "stream",
                    "name": "stderr",
                    "text": [
                        "100%|██████████| 2535/2535 [06:27<00:00,  6.55it/s]\n"
                    ]
                }
            ],
            "source": [
                "for i in tqdm(range(len(neutral_p))):\n",
                "    abduction(neutral_p[i].replace('\\n',''), neutral_h[i].replace('\\n',''), 2)"
            ]
        },
        {
            "cell_type": "code",
            "execution_count": 46,
            "metadata": {},
            "outputs": [
                {
                    "output_type": "stream",
                    "name": "stderr",
                    "text": [
                        "100%|██████████| 664/664 [06:13<00:00,  1.78it/s]\n"
                    ]
                }
            ],
            "source": [
                "for i in tqdm(range(len(contra_p))):\n",
                "    abduction(contra_p[i].replace('\\n',''), contra_h[i].replace('\\n',''), 3)"
            ]
        },
        {
            "cell_type": "code",
            "execution_count": 48,
            "metadata": {},
            "outputs": [
                {
                    "output_type": "execute_result",
                    "data": {
                        "text/plain": [
                            "                                                   phrase_A  \\\n",
                            "A:no                                                      A   \n",
                            "an empty:a full                                    an empty   \n",
                            "one kid:none of the kids                            one kid   \n",
                            "Five:none of the                                       Five   \n",
                            "one kid a gun:Five kids close together        one kid a gun   \n",
                            "one kid:Five kids                                   one kid   \n",
                            "Five close together:none of the a gun   Five close together   \n",
                            "is jumping:isn't over                            is jumping   \n",
                            "Several people:Nobody                        Several people   \n",
                            "A:No                                                      A   \n",
                            "\n",
                            "                                                        phrase_B  E  N  C  \n",
                            "A:no                                                          no  2  0  0  \n",
                            "an empty:a full                                           a full  0  0  1  \n",
                            "one kid:none of the kids                        none of the kids  0  0  2  \n",
                            "Five:none of the                                     none of the  0  0  1  \n",
                            "one kid a gun:Five kids close together  Five kids close together  0  0  1  \n",
                            "one kid:Five kids                                      Five kids  0  0  1  \n",
                            "Five close together:none of the a gun          none of the a gun  0  0  1  \n",
                            "is jumping:isn't over                                 isn't over  0  0  1  \n",
                            "Several people:Nobody                                     Nobody  0  0  1  \n",
                            "A:No                                                          No  0  0  8  "
                        ],
                        "text/html": "<div>\n<style scoped>\n    .dataframe tbody tr th:only-of-type {\n        vertical-align: middle;\n    }\n\n    .dataframe tbody tr th {\n        vertical-align: top;\n    }\n\n    .dataframe thead th {\n        text-align: right;\n    }\n</style>\n<table border=\"1\" class=\"dataframe\">\n  <thead>\n    <tr style=\"text-align: right;\">\n      <th></th>\n      <th>phrase_A</th>\n      <th>phrase_B</th>\n      <th>E</th>\n      <th>N</th>\n      <th>C</th>\n    </tr>\n  </thead>\n  <tbody>\n    <tr>\n      <th>A:no</th>\n      <td>A</td>\n      <td>no</td>\n      <td>2</td>\n      <td>0</td>\n      <td>0</td>\n    </tr>\n    <tr>\n      <th>an empty:a full</th>\n      <td>an empty</td>\n      <td>a full</td>\n      <td>0</td>\n      <td>0</td>\n      <td>1</td>\n    </tr>\n    <tr>\n      <th>one kid:none of the kids</th>\n      <td>one kid</td>\n      <td>none of the kids</td>\n      <td>0</td>\n      <td>0</td>\n      <td>2</td>\n    </tr>\n    <tr>\n      <th>Five:none of the</th>\n      <td>Five</td>\n      <td>none of the</td>\n      <td>0</td>\n      <td>0</td>\n      <td>1</td>\n    </tr>\n    <tr>\n      <th>one kid a gun:Five kids close together</th>\n      <td>one kid a gun</td>\n      <td>Five kids close together</td>\n      <td>0</td>\n      <td>0</td>\n      <td>1</td>\n    </tr>\n    <tr>\n      <th>one kid:Five kids</th>\n      <td>one kid</td>\n      <td>Five kids</td>\n      <td>0</td>\n      <td>0</td>\n      <td>1</td>\n    </tr>\n    <tr>\n      <th>Five close together:none of the a gun</th>\n      <td>Five close together</td>\n      <td>none of the a gun</td>\n      <td>0</td>\n      <td>0</td>\n      <td>1</td>\n    </tr>\n    <tr>\n      <th>is jumping:isn't over</th>\n      <td>is jumping</td>\n      <td>isn't over</td>\n      <td>0</td>\n      <td>0</td>\n      <td>1</td>\n    </tr>\n    <tr>\n      <th>Several people:Nobody</th>\n      <td>Several people</td>\n      <td>Nobody</td>\n      <td>0</td>\n      <td>0</td>\n      <td>1</td>\n    </tr>\n    <tr>\n      <th>A:No</th>\n      <td>A</td>\n      <td>No</td>\n      <td>0</td>\n      <td>0</td>\n      <td>8</td>\n    </tr>\n  </tbody>\n</table>\n</div>"
                    },
                    "metadata": {},
                    "execution_count": 48
                }
            ],
            "source": [
                "import pandas as pd\n",
                "\n",
                "df = pd.DataFrame.from_dict(knowledge_base, orient='index',columns=['phrase_A', 'phrase_B', 'E', 'N', 'C'])\n",
                "df.head(10)"
            ]
        },
        {
            "cell_type": "code",
            "execution_count": 49,
            "metadata": {},
            "outputs": [],
            "source": [
                "df.to_csv(\"knowledge.csv\")"
            ]
        },
        {
            "cell_type": "code",
            "source": [
                "parsed, replaced = dependency_parse(\"John took some apples\", \"stanza\")\n",
                "tree, postag, words = parsed\n",
                "pass2act(\"John took some apples\", postag)"
            ],
            "metadata": {
                "azdata_cell_guid": "3be9f208-5486-4f4a-ac2b-8d641ca80428"
            },
            "outputs": [
                {
                    "output_type": "stream",
                    "name": "stdout",
                    "text": "['John', ' took', ' some apples', '']\napples\n['some apples', 'were taken', 'by John']\n"
                }
            ],
            "execution_count": 37
        },
        {
            "cell_type": "code",
            "source": [
                "parsed, replaced = dependency_parse(\"John took my exam yesterday\", \"stanza\")\n",
                "tree, postag, words = parsed\n",
                "pass2act(\"John took my exam yesterday\", postag)"
            ],
            "metadata": {
                "azdata_cell_guid": "ca3db3bc-49f9-4c5e-9642-eff792488262"
            },
            "outputs": [
                {
                    "output_type": "stream",
                    "name": "stdout",
                    "text": [
                        "['John', ' took', ' my exam', ' ARGM-TMP: yesterday', '']\nexam\n['my exam', 'was taken', 'by John']\n"
                    ]
                }
            ],
            "execution_count": 6
        },
        {
            "cell_type": "code",
            "source": [
                "import spacy\n",
                "\n",
                "nlp = spacy.load(\"en_core_web_sm\")\n",
                "doc = nlp(\"A man, a women, and two children are walking on the beach\")\n",
                "\n",
                "for ent in doc.ents:\n",
                "    print(ent.text, ent.start_char, ent.end_char, ent.label_)"
            ],
            "metadata": {
                "azdata_cell_guid": "b511c492-76a5-48b7-ac99-b3ebad2968c2"
            },
            "outputs": [
                {
                    "output_type": "stream",
                    "name": "stdout",
                    "text": "two 20 23 CARDINAL\n"
                }
            ],
            "execution_count": 1
        },
        {
            "cell_type": "code",
            "source": [
                "import spacy\n",
                "\n",
                "nlp = spacy.load(\"en_core_web_sm\")\n",
                "print(\"Pipeline:\", nlp.pipe_names)\n",
                "doc = nlp(\"I, a woman, and a children are walking.\")\n",
                "for i in range(len(doc)):\n",
                "    token = doc[i]\n",
                "    print(token.morph)  # 'Case=Nom|Number=Sing|Person=1|PronType=Prs'\n",
                "    print(token.morph.get(\"PronType\"))  # ['Prs']"
            ],
            "metadata": {
                "azdata_cell_guid": "5d2b1d44-a071-4da4-a251-1c16013ac59f"
            },
            "outputs": [
                {
                    "output_type": "stream",
                    "name": "stdout",
                    "text": "Pipeline: ['tok2vec', 'tagger', 'parser', 'ner', 'attribute_ruler', 'lemmatizer']\nCase=Nom|Number=Sing|Person=1|PronType=Prs\n['Prs']\nPunctType=Comm\n[]\nDefinite=Ind|PronType=Art\n['Art']\nNumber=Sing\n[]\nPunctType=Comm\n[]\nConjType=Cmp\n[]\nDefinite=Ind|PronType=Art\n['Art']\nNumber=Plur\n[]\nMood=Ind|Tense=Pres|VerbForm=Fin\n[]\nAspect=Prog|Tense=Pres|VerbForm=Part\n[]\nPunctType=Peri\n[]\n"
                }
            ],
            "execution_count": 1
        },
        {
            "cell_type": "code",
            "execution_count": 28,
            "metadata": {},
            "outputs": [],
            "source": [
                "from gensim.models.keyedvectors import KeyedVectors\n",
                "word_vecs = KeyedVectors.load_word2vec_format('../model/numberbatch-en.txt', binary=False)"
            ]
        },
        {
            "cell_type": "code",
            "execution_count": 30,
            "metadata": {},
            "outputs": [],
            "source": [
                "word_vecs.save('numberbatch-en.gensim')\n",
                "model = KeyedVectors.load('numberbatch-en.gensim', mmap='r')"
            ]
        },
        {
            "cell_type": "code",
            "execution_count": 93,
            "metadata": {},
            "outputs": [
                {
                    "output_type": "execute_result",
                    "data": {
                        "text/plain": [
                            "0.9766295794875614"
                        ]
                    },
                    "metadata": {},
                    "execution_count": 93
                }
            ],
            "source": [
                "model.wmdistance('boy', 'male_child')"
            ]
        },
        {
            "cell_type": "code",
            "execution_count": 64,
            "metadata": {},
            "outputs": [
                {
                    "output_type": "execute_result",
                    "data": {
                        "text/plain": [
                            "[('speartooth_shark', 0.9956071972846985),\n",
                            " ('awake_thing', 0.9956071972846985),\n",
                            " ('fictional_animal', 0.9956071972846985),\n",
                            " ('dicrocoelium_dendriticum', 0.9956071972846985),\n",
                            " ('range_animal', 0.9956071972846985),\n",
                            " ('animalhood', 0.9810202121734619),\n",
                            " ('animalkind', 0.9714459776878357),\n",
                            " ('fat_animal', 0.9649683237075806),\n",
                            " ('short_animal', 0.9593656063079834),\n",
                            " ('tall_thing', 0.9593656063079834)]"
                        ]
                    },
                    "metadata": {},
                    "execution_count": 64
                }
            ],
            "source": [
                "model.similar_by_word('animal')"
            ]
        },
        {
            "cell_type": "code",
            "execution_count": 98,
            "metadata": {},
            "outputs": [
                {
                    "output_type": "execute_result",
                    "data": {
                        "text/plain": [
                            "0.4686582684516907"
                        ]
                    },
                    "metadata": {},
                    "execution_count": 98
                }
            ],
            "source": [
                "model.distance(\"boy\", \"man\")"
            ]
        },
        {
            "cell_type": "code",
            "execution_count": 111,
            "metadata": {},
            "outputs": [],
            "source": [
                "from nltk.parse import CoreNLPParser\n",
                "parser = CoreNLPParser(url='http://localhost:9000')"
            ]
        },
        {
            "cell_type": "code",
            "execution_count": 143,
            "metadata": {},
            "outputs": [],
            "source": [
                "tree = str(list(parser.raw_parse('I bought a box to store candy'))).replace(\"[\", \"\").replace(\"]\", \"\").replace(\"Tree\", \"\").replace(\",\", \"\").replace(\"'\", \"\")"
            ]
        },
        {
            "cell_type": "code",
            "execution_count": 144,
            "metadata": {},
            "outputs": [],
            "source": [
                "from nltk.tree import Tree\n",
                "from nltk.draw import TreeWidget\n",
                "from nltk.draw.util import CanvasFrame\n",
                "from IPython.display import Image, display\n",
                "\n",
                "def jupyter_draw_nltk_tree(tree):\n",
                "    cf = CanvasFrame()\n",
                "    t = Tree.fromstring(tree)\n",
                "    tc = TreeWidget(cf.canvas(), t)\n",
                "    tc['node_font'] = 'arial 14 bold'\n",
                "    tc['leaf_font'] = 'arial 14'\n",
                "    tc['node_color'] = '#005990'\n",
                "    tc['leaf_color'] = '#3F8F57'\n",
                "    tc['line_color'] = '#175252'\n",
                "    cf.add_widget(tc, 20, 20)\n",
                "    os.system('rm -rf ../data/tree.png')\n",
                "    os.system('rm -rf ../data/tree.ps')\n",
                "    cf.print_to_file('../data/tree.ps')\n",
                "    cf.destroy()\n",
                "    os.system('convert ../data/tree.ps ../data/tree.png')\n",
                "    display(Image(filename='../data/tree.png'))"
            ]
        },
        {
            "cell_type": "code",
            "execution_count": 145,
            "metadata": {},
            "outputs": [
                {
                    "output_type": "display_data",
                    "data": {
                        "image/png": "[encoded data removed]",
                        "text/plain": "<IPython.core.display.Image object>"
                    },
                    "metadata": {}
                }
            ],
            "source": [
                "jupyter_draw_nltk_tree(tree)"
            ]
        },
        {
            "cell_type": "code",
            "execution_count": 2,
            "metadata": {},
            "outputs": [],
            "source": [
                "import io\n",
                "\n",
                "def load_vectors(fname):\n",
                "    fin = io.open(fname, 'r', encoding='utf-8', newline='\\n', errors='ignore')\n",
                "    n, d = map(int, fin.readline().split())\n",
                "    data = {}\n",
                "    for line in fin:\n",
                "        tokens = line.rstrip().split(' ')\n",
                "        data[tokens[0]] = map(float, tokens[1:])\n",
                "    return data"
            ]
        },
        {
            "cell_type": "code",
            "execution_count": 10,
            "metadata": {},
            "outputs": [
                {
                    "output_type": "stream",
                    "name": "stderr",
                    "text": [
                        "Warning : `load_model` does not return WordVectorModel or SupervisedModel any more, but a `FastText` object which is very similar.\n"
                    ]
                }
            ],
            "source": [
                "import fasttext\n",
                "from sapphire import Sapphire\n",
                "model = fasttext.load_model(\"../model/wiki.en.bin\")\n",
                "aligner = Sapphire(model)"
            ]
        },
        {
            "cell_type": "code",
            "execution_count": 24,
            "metadata": {},
            "outputs": [],
            "source": [
                "aligner.set_params(lambda_=0.5, delta=0.1, alpha=0.01, hungarian=True)\n",
                "tokenized_sentence_a = \"Leicester failed in both enterprises\".split(' ')\n",
                "tokenized_sentence_b = \"He did not succeed in either case\".split(' ')\n",
                "word_alignment, phrase_alignment = aligner(tokenized_sentence_a, tokenized_sentence_b)"
            ]
        },
        {
            "cell_type": "code",
            "execution_count": 25,
            "metadata": {},
            "outputs": [
                {
                    "output_type": "execute_result",
                    "data": {
                        "text/plain": [
                            "[(2, 2, 2, 2), (3, 3, 5, 5), (4, 4, 6, 6)]"
                        ]
                    },
                    "metadata": {},
                    "execution_count": 25
                }
            ],
            "source": [
                "phrase_alignment"
            ]
        },
        {
            "cell_type": "code",
            "execution_count": 1,
            "metadata": {},
            "outputs": [
                {
                    "output_type": "stream",
                    "name": "stdout",
                    "text": [
                        "Apples 8566208034543834098 apple\nand 2283656566040971221 and\noranges 2208928596161743350 orange\nare 10382539506755952630 be\nsimilar 18166476740537071113 similar\n. 12646065887601541794 .\nBoots 9918665227421442029 boot\nand 2283656566040971221 and\nhippos 4133693291145879083 hippos\nare 10382539506755952630 be\nn't 2043519015752540944 n't\n. 12646065887601541794 .\n"
                    ]
                }
            ],
            "source": [
                "import spacy\n",
                "nlp = spacy.load('en_core_web_sm')\n",
                "\n",
                "doc = nlp(\"Apples and oranges are similar. Boots and hippos aren't.\")\n",
                "\n",
                "for token in doc:\n",
                "    print(token, token.lemma, token.lemma_)"
            ]
        },
        {
            "cell_type": "code",
            "execution_count": null,
            "metadata": {},
            "outputs": [],
            "source": []
        }
    ]
}