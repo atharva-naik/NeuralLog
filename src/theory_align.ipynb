{
 "metadata": {
  "language_info": {
   "codemirror_mode": {
    "name": "ipython",
    "version": 3
   },
   "file_extension": ".py",
   "mimetype": "text/x-python",
   "name": "python",
   "nbconvert_exporter": "python",
   "pygments_lexer": "ipython3",
   "version": "3.7.6-final"
  },
  "orig_nbformat": 2,
  "kernelspec": {
   "name": "python3",
   "display_name": "Python 3",
   "language": "python"
  }
 },
 "nbformat": 4,
 "nbformat_minor": 2,
 "cells": [
  {
   "cell_type": "code",
   "execution_count": 4,
   "metadata": {},
   "outputs": [
    {
     "output_type": "stream",
     "name": "stderr",
     "text": [
      "2021-01-23 15:11:43 INFO: Loading these models for language: en (English):\n",
      "=========================\n",
      "| Processor | Package   |\n",
      "-------------------------\n",
      "| tokenize  | gum       |\n",
      "| pos       | gum       |\n",
      "| lemma     | gum       |\n",
      "| depparse  | gum       |\n",
      "| sentiment | sstplus   |\n",
      "| ner       | ontonotes |\n",
      "=========================\n",
      "\n",
      "2021-01-23 15:11:43 INFO: Use device: gpu\n",
      "2021-01-23 15:11:43 INFO: Loading: tokenize\n",
      "2021-01-23 15:11:48 INFO: Loading: pos\n",
      "2021-01-23 15:11:50 INFO: Loading: lemma\n",
      "2021-01-23 15:11:50 INFO: Loading: depparse\n",
      "2021-01-23 15:11:51 INFO: Loading: sentiment\n",
      "2021-01-23 15:11:52 INFO: Loading: ner\n",
      "2021-01-23 15:11:54 INFO: Done loading processors!\n"
     ]
    }
   ],
   "source": [
    "from Udep2Mono.polarization import PolarizationPipeline\n",
    "import networkx as nx\n",
    "import matplotlib.pyplot as plt\n",
    "import binarytree as bt\n",
    "from wordnet import find_relation, get_word_sets\n",
    "from PIL import Image, ImageDraw\n",
    "from nltk.tree import Tree\n",
    "from nltk.draw import TreeWidget\n",
    "from nltk.draw.util import CanvasFrame\n",
    "from IPython.display import Image, display\n",
    "import json\n",
    "import _pickle as pickle\n"
   ]
  },
  {
   "cell_type": "code",
   "execution_count": 5,
   "metadata": {},
   "outputs": [],
   "source": [
    "#G = Ugraph()\n",
    "nounModifiers = {\"det\", \"nummod\", \"amod\",\"obl:tmod\", \"acl:relcl\", \"nmod\", \"case\"}\n",
    "verbModifiers = {\"advmod\", \"obl\"}\n",
    "nounCategories = {\"compound\"}\n",
    "verbs = {\"VBZ\", \"VBP\", \"VBD\"}\n",
    "modified = {\"NN\", \"JJ\"}.union(verbs)\n",
    "modifiers = nounModifiers.union(verbModifiers)\n",
    "offFocus = {\"expl\"}\n",
    "contents = {\"nsubj\",\"obj\",\"cop\",\"compound\",\"conj\", \"cc\", \"aux\"}\n",
    "cont_npos = {\"nsubj\":'nn', \"obj\": 'nn', \"cop\": 'vbz', \"verb\": 'vbz'}\n",
    "mark_toProp = {\"+\": {\"hyponym\",\"synonym\"}, \"-\": {\"hypernym\",\"synonym\"}, \"=\": {\"synonym\"}}\n",
    "clause_prop = {\"which\", \"that\", \"who\"}\n",
    "be_verbs = {\"is\", \"am\", \"are\", \"be\"}\n",
    "directions = {0: \"lexical\", 1: \"phrasal\", 2: \"syntatic_variation\", 3: \"implicative\"}"
   ]
  },
  {
   "cell_type": "code",
   "execution_count": 6,
   "metadata": {},
   "outputs": [],
   "source": [
    "#G.add_node(\"ok\",id=1)\n",
    "#G.add_node(\"fine\")"
   ]
  },
  {
   "cell_type": "code",
   "execution_count": 68,
   "metadata": {},
   "outputs": [],
   "source": [
    "#nx.draw(G, with_labels=True)\n",
    "sentenceset = [\"This are 2 specially cool dog food\", \"Animal cut fresh meat carefully every month\"]\n",
    "test1 = [\"A lady cuts some meat\", \"A woman cuts some meat\"]\n",
    "testWhich = [\"a lady who is beautiful drives a car that is old \", \"A beautiful woman drives a old car\"]\n",
    "testAnd = [\"A girl eats an pear and an orange\", \"A girl makes coffee and eats an apple\", \"A girl and a boy are carefully writing homework\"]\n",
    "testWith = [\"A girl carries the bag with a tie\", \"A girl with a costume eats an apple\", \"A boy shocks the dog under the roof\"]\n",
    "testThere = [\"There is a girl with a bag\", \"Here is the homework that I just wrote\", \"This is the pizza that I just ordered\"]\n",
    "testExtract = [\"The beautiful girl eats a pretty pear\", \"The beautiful girl eats a beautiful pear\", \"The beautiful girl eats a pear that has beautiful marks\"]\n",
    "test2 = [\"A dog is eating food\", \"A dog is blue\"] \n",
    "#det order\n",
    "#add word/modifier\n",
    "#\"and\" in connection "
   ]
  },
  {
   "cell_type": "code",
   "execution_count": 69,
   "metadata": {},
   "outputs": [],
   "source": [
    "arrows = {\n",
    "    \"+\": \"\\u2191\",\n",
    "    \"-\": \"\\u2193\",\n",
    "    \"=\": \"=\",\n",
    "    \"0\": \"\"\n",
    "}\n",
    "def annotation2string(annotation):\n",
    "    annotated = list(annotation['annotated'].popkeys())\n",
    "    def compose_token(word):\n",
    "        if '-' in word[0]:\n",
    "            orig = word[0].split('-')\n",
    "            return ' '.join([x + arrows[word[2]] for x in orig])\n",
    "        else:\n",
    "            return word[0] + arrows[word[2]]\n",
    "    annotated_sent = ' '.join([compose_token(x) for x in annotated])\n",
    "    return annotated_sent"
   ]
  },
  {
   "cell_type": "code",
   "execution_count": 70,
   "metadata": {},
   "outputs": [
    {
     "output_type": "stream",
     "name": "stdout",
     "text": [
      "['[nsubj↑  [det=  [DT  the↑]  [amod=  [JJ  beautiful=]  [NN  girl=]]]  [obj↑  [det↑  [DT  a↑]  [amod↑  [JJ  pretty↑]  [NN  pear↑]]]  [VBZ  eats↑]]]', '[nsubj↑  [det=  [DT  the↑]  [amod=  [JJ  beautiful=]  [NN  girl=]]]  [obj↑  [det↑  [DT  a↑]  [amod↑  [JJ  beautiful↑]  [NN  pear↑]]]  [VBZ  eats↑]]]', '[nsubj↑  [det=  [DT  the↑]  [amod=  [JJ  beautiful=]  [NN  girl=]]]  [obj↑  [acl:relcl↑  [nsubj↑  [WDT  that↑]  [obj=  [amod=  [JJ  beautiful=]  [NNS  marks=]]  [VBZ  has=]]]  [det↑  [DT  a↑]  [NN  pear↑]]]  [VBZ  eats↑]]]']\n"
     ]
    }
   ],
   "source": [
    "pipeline = PolarizationPipeline(verbose = 1)\n",
    "results = []\n",
    "results_tree = []\n",
    "for sent in testExtract:\n",
    "    tree = pipeline.single_polarization(sent)[\"polarized_tree\"]\n",
    "    results_tree.append(tree)\n",
    "    results.append(pipeline.postprocess(tree,\"\"))\n",
    "print(results)"
   ]
  },
  {
   "cell_type": "code",
   "execution_count": 71,
   "metadata": {},
   "outputs": [],
   "source": [
    "class Unode:\n",
    "    def __init__(self,prop,word,npos, mark):\n",
    "        self.nexts = dict()\n",
    "        self.prop = prop\n",
    "        self.isRoot = False\n",
    "        self.nexts[\"all\"] = set()\n",
    "        self.word = word\n",
    "        self.npos = npos\n",
    "        self.mark = mark\n",
    "    def add_Unode(self, node):\n",
    "        #print(node.prop)\n",
    "        if(self.isRoot):\n",
    "            self.nexts[node.prop].add(node)\n",
    "        else:\n",
    "            self.nexts[\"all\"].add(node)\n",
    "    def getText(self):\n",
    "        if(self.isRoot):\n",
    "            output = \"\"\n",
    "            for cont in [\"nsubj\", \"verb\",\"obj\"]:\n",
    "                for ele in self.nexts[cont]:\n",
    "                    output += ele.getText()\n",
    "                    output += \" \"\n",
    "            return output.strip()\n",
    "        else:\n",
    "            if(self.nexts[\"all\"] == set()):\n",
    "                return self.word\n",
    "            output = self.word\n",
    "            for element in self.nexts[\"all\"]:\n",
    "                if(element.prop == \"amod\"):\n",
    "                    output = \" \" + output\n",
    "                    output =  element.getText() + output\n",
    "                else:\n",
    "                    output += \" \"\n",
    "                    output +=  element.getText()\n",
    "                \n",
    "            return output\n",
    "    def get_inText(self, index):\n",
    "        connected_info = \"\"\n",
    "        if(self.isRoot):\n",
    "            for key in self.nexts.keys():\n",
    "                if(key != \"all\"):\n",
    "                    print(key)\n",
    "                    for keyItem in self.nexts[key]:\n",
    "                        connected_info += (key + \": \" + keyItem.get_inText(index + 1) + \" \")\n",
    "            return \"{ \" + connected_info + \"}\"\n",
    "        else:\n",
    "            for node in self.nexts[\"all\"]:\n",
    "                if(node != None):\n",
    "                    print(\"111\")\n",
    "                    connected_info += node.get_inText(index + 1)\n",
    "            return \"{ The \" + str(index) + \" layer\" + \": \" + self.word + connected_info + \"}\"\n"
   ]
  },
  {
   "cell_type": "code",
   "execution_count": 72,
   "metadata": {},
   "outputs": [],
   "source": [
    "class Ugraph:\n",
    "    def __init__(self, rootNode):\n",
    "        self.root = rootNode\n",
    "        self.root.isRoot = True\n",
    "        self.root.nexts.pop(\"all\",None)\n",
    "        for main in {\"nsubj\", \"obj\", \"verb\"}:\n",
    "            self.root.nexts[main] = set()\n",
    "        self.nodes = set()\n",
    "        self.contentSet = set()\n",
    "    def add_node(self,node):\n",
    "        self.nodes.add(node)\n",
    "    def add_edge(self, node1, node2):\n",
    "        if(node1.isRoot):\n",
    "            self.contentSet.add(node2.word)\n",
    "        node1.add_Unode(node2)\n",
    "    def contains(self, word_assigned):\n",
    "        return word_assigned in self.contentSet"
   ]
  },
  {
   "cell_type": "code",
   "execution_count": 73,
   "metadata": {},
   "outputs": [],
   "source": [
    "def print_as_graph(tree):\n",
    "    G = nx.DiGraph()\n",
    "    construct_treeGraph(tree,G)\n",
    "    #G.add_node(\"this\",id=2)\n",
    "    nx.draw_planar(G, with_labels=True)"
   ]
  },
  {
   "cell_type": "code",
   "execution_count": 74,
   "metadata": {},
   "outputs": [],
   "source": [
    "def print_tree_simple(tree):\n",
    "    if(tree == \"N\"):\n",
    "        return bt.Node(\"Not a Tree\")\n",
    "    root = bt.Node(tree.val)\n",
    "    construct_tree(tree, root)\n",
    "    print(root)"
   ]
  },
  {
   "cell_type": "code",
   "execution_count": 75,
   "metadata": {},
   "outputs": [],
   "source": [
    "def construct_treeGraph(tree,G):\n",
    "    if(tree == \"N\"):\n",
    "        return\n",
    "    else:\n",
    "        if(tree.left != \"N\"):\n",
    "            \n",
    "            G.add_node(tree.left.val,id=1)\n",
    "            G.add_edge(tree.val, tree.left.val)\n",
    "            construct_treeGraph(tree.left,G)\n",
    "        if(tree.right != \"N\"):\n",
    "            #print(tree.right.npos==None)\n",
    "            G.add_node(tree.right.val,id=1)\n",
    "            G.add_edge(tree.val, tree.right.val)\n",
    "            construct_treeGraph(tree.right,G)"
   ]
  },
  {
   "cell_type": "code",
   "execution_count": 76,
   "metadata": {},
   "outputs": [],
   "source": [
    "def construct_tree(tree, subtree):\n",
    "    if(tree == \"N\"):\n",
    "        return\n",
    "    if(tree.left != \"N\"):\n",
    "        subtree.left = bt.Node(tree.left.val)\n",
    "        construct_tree(tree.left, subtree.left)\n",
    "    if(tree.right != \"N\"):\n",
    "        subtree.right = bt.Node(tree.right.val)\n",
    "        construct_tree(tree.right, subtree.right)\n",
    "    "
   ]
  },
  {
   "cell_type": "code",
   "execution_count": 77,
   "metadata": {},
   "outputs": [],
   "source": [
    "def jupyter_draw_nltk_tree(tree):\n",
    "    cf = CanvasFrame()\n",
    "    tc = TreeWidget(cf.canvas(), tree)\n",
    "    tc['node_font'] = 'arial 14 bold'\n",
    "    tc['leaf_font'] = 'arial 14'\n",
    "    tc['node_color'] = '#005990'\n",
    "    tc['leaf_color'] = '#3F8F57'\n",
    "    tc['line_color'] = '#175252'\n",
    "    cf.add_widget(tc, 20, 20)\n",
    "    cf.print_to_file('../data/tree_img/tree.ps')\n",
    "    cf.destroy()\n",
    "    os.system('magick convert ../data/tree_img/tree.ps ../data/tree_img/tree.png')\n",
    "    display(Image(filename='../data/tree_img/tree.png'))"
   ]
  },
  {
   "cell_type": "code",
   "execution_count": 78,
   "metadata": {},
   "outputs": [],
   "source": [
    "def visualize_tree(tree):\n",
    "    btree = Tree.fromstring(tree.replace('[', '(').replace(']', ')'))\n",
    "    jupyter_draw_nltk_tree(btree)"
   ]
  },
  {
   "source": [
    "#print_as_graph(results[0][4])\n",
    "visualize_tree(results[2])\n",
    "#print_tree_simple(results[0][4])"
   ],
   "cell_type": "code",
   "metadata": {},
   "execution_count": 79,
   "outputs": [
    {
     "output_type": "display_data",
     "data": {
      "image/png": "[encoded data removed]",
      "text/plain": "<IPython.core.display.Image object>"
     },
     "metadata": {}
    }
   ]
  },
  {
   "cell_type": "code",
   "execution_count": 80,
   "metadata": {},
   "outputs": [],
   "source": [
    "def draw_graph():\n",
    "    output = Image.new(\"RGB\", (500, 500), (255,255,255))\n",
    "    draw = ImageDraw.Draw(output)\n",
    "    #draw.ellipse([100,100,200,200])\n",
    "    draw.multiline_text((100, 100), \"aaabbb\\nword\", fill=(0,0,0))\n",
    "    output.show()"
   ]
  },
  {
   "cell_type": "code",
   "execution_count": 81,
   "metadata": {},
   "outputs": [],
   "source": [
    "#draw_graph()"
   ]
  },
  {
   "cell_type": "code",
   "execution_count": 82,
   "metadata": {},
   "outputs": [],
   "source": [
    "class graph_Info():\n",
    "    def __init__(self,graph,crucials):\n",
    "        self.graph = graph\n",
    "        self.crucials = crucials"
   ]
  },
  {
   "cell_type": "code",
   "execution_count": 83,
   "metadata": {},
   "outputs": [],
   "source": [
    "def mono2Graph(sent_info):\n",
    "    G = Ugraph(Unode(\"root\", \"Root\",\"r00t\",\"=\"))\n",
    "    #extract_NOV(sent_info, G)\n",
    "    #print(G.root.nexts)\n",
    "    #print(sent_info)\n",
    "    mono2Graph_recur(sent_info, G, set()) ### root directly assigned for test here\n",
    "    return G"
   ]
  },
  {
   "cell_type": "code",
   "execution_count": 84,
   "metadata": {},
   "outputs": [],
   "source": [
    "def printUgraph_inText(Ugraph):\n",
    "    print(Ugraph.root.get_inText(1))"
   ]
  },
  {
   "cell_type": "code",
   "execution_count": 85,
   "metadata": {},
   "outputs": [
    {
     "output_type": "stream",
     "name": "stdout",
     "text": [
      "True\nnsubj\n111\n111\nverb\nobj\n111\n111\n{ nsubj: { The 2 layer: girl{ The 3 layer: the}{ The 3 layer: beautiful}} verb: { The 2 layer: eats} obj: { The 2 layer: pear{ The 3 layer: a}{ The 3 layer: beautiful}} }\n7\nbeautiful222\ngirl222\nthe222\na222\nbeautiful222\npear222\neats222\ndict_keys(['nsubj', 'verb', 'obj'])\n"
     ]
    }
   ],
   "source": [
    "G = mono2Graph(results_tree[1])\n",
    "print(results_tree[1].left.left.left == None)\n",
    "printUgraph_inText(G)\n",
    "print(len(G.nodes))\n",
    "for node_p in G.nodes:\n",
    "    print(node_p.word+ \"222\")\n",
    "print(G.root.nexts.keys())"
   ]
  },
  {
   "cell_type": "code",
   "execution_count": 86,
   "metadata": {},
   "outputs": [],
   "source": [
    "# def extract_NOV(sent, G):\n",
    "#     if(sent == \"N\"):\n",
    "#         return\n",
    "#     #print(sent.npos)\n",
    "#     if((sent.val in contents or sent.npos in verbs) and not(sent.val in G.root.nexts.keys())):\n",
    "#         print(sent.npos)\n",
    "#         if sent.npos in verbs and sent.parent.val not in {\"cop\"}:\n",
    "#             tempNode = Unode(\"verb\", sent.val)\n",
    "#         else:\n",
    "#             if (sent != \"N\"):\n",
    "#                 print(sent.val)\n",
    "#             else:\n",
    "#                 print(sent)\n",
    "#             currentNode = sent.left\n",
    "#             while(currentNode.right != \"N\"):\n",
    "#                 currentNode = currentNode.right\n",
    "#             tempNode = Unode(sent.val,currentNode.val)\n",
    "#             G.add_node(tempNode)\n",
    "#             G.add_edge(G.root, tempNode)\n",
    "#             if(sent.val == \"cop\"):\n",
    "#                 currentNode = sent.right\n",
    "#                 while(currentNode.right != \"N\"):\n",
    "#                     if(currentNode.val == \"compound\"):\n",
    "#                         tempNode1 = Unode(\"obj\",currentNode.left.val + \" \" + currentNode.right.val)\n",
    "#                         G.add_node(tempNode1)\n",
    "#                         G.add_edge(G.root, tempNode1)\n",
    "#                         return\n",
    "#                     currentNode = currentNode.right\n",
    "#                 tempNode1 = Unode(sent.val,currentNode.val)\n",
    "#                 G.add_node(tempNode1)\n",
    "#                 G.add_edge(G.root, tempNode1)\n",
    "        \n",
    "#     #if(sent.val == \"obj\"):\n",
    "#         #extract_NOV(sent.left, G)\n",
    "#     extract_NOV(sent.right, G)"
   ]
  },
  {
   "cell_type": "code",
   "execution_count": 87,
   "metadata": {},
   "outputs": [],
   "source": [
    "def mono2Graph_recur(sent_tree, G, mods, pos = None):\n",
    "    needleft = True\n",
    "    needright = True\n",
    "    if(sent_tree == None):\n",
    "        return\n",
    "    #print(sent_tree.val)\n",
    "    # \n",
    "    #if(sent_tree.nposif(sent_tree.val == \"compound\"):\n",
    "    #         compound_out = sent_tree.left.val+\" \" + sent_tree.right.val\n",
    "    #         G.add_node(compound_out)\n",
    "    #         G.add_edge(root,compound_out)\n",
    "    #         #ls.append(compound_out)\n",
    "            \n",
    "    #         return != None):\n",
    "        #print(sent_tree.val + \" \" + sent_tree.parent.val)\n",
    "        # if((sent_tree.npos in modified and sent_tree.npos != \"JJ\") or (sent_tree.parent!= \"N\" and sent_tree.parent.val == \"nsubj\")):\n",
    "        #     ls.append(sent_tree.val)\n",
    "        #     #G.add_node(sent_tree.val)\n",
    "        #     G.add_node(sent_tree.parent.val,name=sent_tree.val)\n",
    "        #     G.add_edge(root, sent_tree.parent.val)\n",
    "        #     #G.add_edge(sent_tree.parent.val, sent_tree.val)\n",
    "    #    print(\"\")\n",
    "    else:\n",
    "        #print(sent_tree.val)\n",
    "        if(sent_tree.val in modifiers):\n",
    "            if(sent_tree.val == \"acl:relcl\"):\n",
    "                G_prime = mono2Graph(sent_tree.left)\n",
    "                mods.add(G_prime.root)\n",
    "            else:\n",
    "                left_result = mono2Graph_recur(sent_tree.left, G, set(), sent_tree.val)\n",
    "                if(left_result != None):\n",
    "                    mods.add(left_result)\n",
    "            #print(\"000000000\")\n",
    "            #for item_print in mods:\n",
    "            #    if(item_print!=None):\n",
    "            #        print(item_print.word)\n",
    "            #print(\"000000000\")\n",
    "            return mono2Graph_recur(sent_tree.right, G, mods, pos)            \n",
    "        else:\n",
    "            if ((sent_tree.left == None and sent_tree.right == None) or sent_tree.val == \"compound\" ):\n",
    "                    if(sent_tree.val == 'and'):\n",
    "                        return\n",
    "                    if(sent_tree.val == \"compound\"):\n",
    "                        newNode = Unode(pos, sent_tree.left.val + \" \" + sent_tree.right.val,                                                        sent_tree.npos, sent_tree.mark)\n",
    "                    else:\n",
    "                        newNode = Unode(pos, sent_tree.val, sent_tree.pos, sent_tree.mark)\n",
    "                    G.add_node(newNode)\n",
    "                    if (sent_tree.pos in modified or pos in contents or pos == \"verb\"):\n",
    "                        if(pos in contents or pos == \"verb\"):\n",
    "                            # if(pos in G.root.nexts.keys()):\n",
    "                            #     print(G.root.nexts.keys())\n",
    "                            #     print(pos)\n",
    "                            #     print(\"Error occured in concentrating contents\")\n",
    "                            # else:\n",
    "                                G.add_edge(G.root,newNode)\n",
    "                        for node in mods:\n",
    "                            #if(G.contains(sent_tree.val)):\n",
    "                                # loc = \"\"\n",
    "                                # if(sent_tree.npos in verbs):\n",
    "                                #     loc = \"verb\"\n",
    "                                # else:\n",
    "                                #     for key_cont in G.root.nexts.keys():\n",
    "                                #         if(key_cont != \"all\"):\n",
    "                                #             if(G.root.nexts[key_cont].word == sent_tree.val):\n",
    "                                #                 loc = key_cont\n",
    "                                #                 break\n",
    "                                G.add_edge(newNode, node)\n",
    "                        return newNode\n",
    "                    else:\n",
    "                        mods.add(newNode)\n",
    "                        return newNode\n",
    "            else: \n",
    "                if(sent_tree.val in contents):\n",
    "                    pos_left = sent_tree.val\n",
    "                    pos_right = pos\n",
    "                    if(sent_tree.val == \"nsubj\"):\n",
    "                        pos_right = \"verb\"\n",
    "                    if(sent_tree.val == \"cop\"):\n",
    "                        pos_left = \"verb\"\n",
    "                        pos_right = \"obj\"\n",
    "                    if(sent_tree.val == 'conj'):\n",
    "                        mono2Graph_recur(sent_tree.left, G, set(), pos)\n",
    "                        mono2Graph_recur(sent_tree.right, G, mods, pos)\n",
    "                    elif(sent_tree.val == \"aux\"):\n",
    "                        mono2Graph_recur(sent_tree.right, G, mods, \"verb\")\n",
    "                    else:\n",
    "                        mono2Graph_recur(sent_tree.left, G,set(),pos_left)\n",
    "                        mono2Graph_recur(sent_tree.right, G, mods, pos_right)\n",
    "                elif(sent_tree.val in offFocus):\n",
    "                    mono2Graph_recur(sent_tree.right, G, mods, pos)\n",
    "    #if(needleft):\n",
    "    #    mono2Graph_recur(sent_tree.left, G, mods)\n",
    "    #if(needright):\n",
    "    #    mono2Graph_recur(sent_tree.right, G, mods)"
   ]
  },
  {
   "cell_type": "code",
   "execution_count": 88,
   "metadata": {},
   "outputs": [],
   "source": [
    "#def mono2Graph_categorize(sent_tree, G, root):\n",
    "    "
   ]
  },
  {
   "cell_type": "code",
   "execution_count": 89,
   "metadata": {},
   "outputs": [],
   "source": [
    "# def find_nearest_belongTo(sent_tree, G, content_mark):\n",
    "#     if(sent_tree == \"N\"):\n",
    "#         print(\"Seems to have a parsing or binarization error\")\n",
    "#         return \"\", -2\n",
    "#     if(sent_tree.npos == None):\n",
    "#         if(sent_tree.val == \"compound\"):\n",
    "#             comp_node = sent_tree.left.val + \" \" + sent_tree.right.val\n",
    "#             if(comp_node in G.['dict'].keys()):\n",
    "#                 print(comp_node)\n",
    "#                 #G.nodes[\"C1\"]['dict'].update({comp_node: content_mark})\n",
    "\n",
    "#             return sent_tree, 2\n",
    "#         return find_nearest_belongTo(sent_tree.right,G,content_mark)\n",
    "\n",
    "#     elif (sent_tree.npos in modified or sent_tree.val in {\"this\", \"these\", \"there\", \"that\"} ):\n",
    "#         if(sent_tree.parent.val in contents):\n",
    "#             key = sent_tree.val\n",
    "#             #print(sent_tree.val)\n",
    "#             G.nodes[\"C1\"]['dict'].update({key: sent_tree.parent.val})\n",
    "#         return sent_tree, 1\n",
    "#     else: \n",
    "#         print(sent_tree.val)\n",
    "#         return \"\", -1"
   ]
  },
  {
   "cell_type": "code",
   "execution_count": 90,
   "metadata": {},
   "outputs": [],
   "source": [
    "#graph_out1 = mono2Graph(results[0])\n",
    "#graph_out2 = mono2Graph(results[0])\n",
    "#print(graph_out2.graph.nodes['obl:tmod'])\n",
    "#nx.draw(graph_out2.graph, with_labels=True,center=\"C1\")"
   ]
  },
  {
   "cell_type": "code",
   "execution_count": 91,
   "metadata": {},
   "outputs": [
    {
     "output_type": "execute_result",
     "data": {
      "text/plain": [
       "False"
      ]
     },
     "metadata": {},
     "execution_count": 91
    }
   ],
   "source": [
    "\"compound\" == (\"a\" or \"compound\" )"
   ]
  },
  {
   "cell_type": "code",
   "execution_count": 92,
   "metadata": {},
   "outputs": [
    {
     "output_type": "stream",
     "name": "stdout",
     "text": [
      "nsubj\n111\n111\nverb\nobj\n111\n111\n{ nsubj: { The 2 layer: girl{ The 3 layer: the}{ The 3 layer: beautiful}} verb: { The 2 layer: eats} obj: { The 2 layer: pear{ The 3 layer: a}{ The 3 layer: pretty}} }\nnsubj\n111\n111\nverb\nobj\n111\n111\n{ nsubj: { The 2 layer: girl{ The 3 layer: beautiful}{ The 3 layer: the}} verb: { The 2 layer: eats} obj: { The 2 layer: pear{ The 3 layer: beautiful}{ The 3 layer: a}} }\ndict_keys(['nsubj', 'verb', 'obj'])\n"
     ]
    }
   ],
   "source": [
    "G1 = mono2Graph(results_tree[0])\n",
    "G2 = mono2Graph(results_tree[1])\n",
    "printUgraph_inText(G1)\n",
    "printUgraph_inText(G2)\n",
    "print(G.root.nexts.keys())"
   ]
  },
  {
   "cell_type": "code",
   "execution_count": 93,
   "metadata": {},
   "outputs": [],
   "source": [
    "def check_alignment(graph1, graph2):\n",
    "    return check_alignByRoot(graph1.root, graph2.root)"
   ]
  },
  {
   "cell_type": "code",
   "execution_count": 94,
   "metadata": {},
   "outputs": [],
   "source": [
    "def check_alignByRoot(root1, root2):\n",
    "    for cont in {\"nsubj\", \"verb\", \"obj\"}:\n",
    "        if(not(check_cont(root1, root2, cont))):\n",
    "            print(cont)\n",
    "            return \"UnAligned\"\n",
    "    return \"Aligned\"  "
   ]
  },
  {
   "cell_type": "code",
   "execution_count": 95,
   "metadata": {},
   "outputs": [],
   "source": [
    "def check_cont(root1, root2, cont):\n",
    "    core1 = root1.nexts[cont]\n",
    "    core2 = root2.nexts[cont]\n",
    "    return depth_check(core1, core2)\n"
   ]
  },
  {
   "cell_type": "code",
   "execution_count": 96,
   "metadata": {},
   "outputs": [],
   "source": [
    "def depth_check(node1, node2):\n",
    "    if(node1.isRoot and node2.isRoot):\n",
    "        return check_alignByRoot(node1, node2)\n",
    "    if(node1.isRoot or node2.isRoot):\n",
    "        return compare_nodeGraph(node1, node2)\n",
    "    if(node1.pos != node2.pos and not(node1.pos in verbs and node2.pos in verbs)): \n",
    "        #currently on lexical level of comparison\n",
    "        print(1)\n",
    "        return False\n",
    "    # if(len(node1.nexts[\"all\"]) != len(node2.nexts[\"all\"])):\n",
    "    #     #currently only caring about equal numebr of qualifiers\n",
    "    #     print(2)\n",
    "    #     return False\n",
    "    if(node1.mark != node2.mark):\n",
    "        #currently only caring about same mark\n",
    "        print(\"node with\" + \" \" + node1.word + \" \" + node1.mark)\n",
    "        print(\"node with\" + \" \" + node2.word + \" \" + node2.mark)\n",
    "        print(3)\n",
    "        return False\n",
    "    if((find_relation(node1.word, node2.word, node1.pos) not in mark_toProp[node1.mark]) and node1.word != node2.word):\n",
    "        print(\"node with\" + \" \" + node1.word + \" \" + node1.mark)\n",
    "        print(\"node with\" + \" \" + node2.word + \" \" + node2.mark)\n",
    "        print(find_relation(node1.word, node2.word, node1.pos))\n",
    "        print(4)\n",
    "        return False\n",
    "    for next1 in node1.nexts[\"all\"]:\n",
    "        corr_found = False\n",
    "        for next2 in node2.nexts[\"all\"]:\n",
    "            if(next1.word == \"Root\"):\n",
    "                print(next2.word)\n",
    "            if(depth_check(next1, next2)):\n",
    "                corr_found = True\n",
    "                break\n",
    "        if(not(corr_found)):\n",
    "            print(5)\n",
    "            print(next1.word)\n",
    "            return False\n",
    "    return True"
   ]
  },
  {
   "cell_type": "code",
   "execution_count": 97,
   "metadata": {
    "tags": []
   },
   "outputs": [
    {
     "output_type": "stream",
     "name": "stdout",
     "text": [
      "[]\n"
     ]
    },
    {
     "output_type": "execute_result",
     "data": {
      "text/plain": [
       "<function TextIOWrapper.close()>"
      ]
     },
     "metadata": {},
     "execution_count": 97
    }
   ],
   "source": [
    "file = open(\"../data/SICK/train.txt\", \"r\")\n",
    "lines = file.readlines()\n",
    "indexStart = 0\n",
    "output = []\n",
    "fileOut = open(\"./sickEntailment.txt\", \"w\")\n",
    "fileOut1 = open(\"./sickContradiction.txt\", \"w\")\n",
    "for line in lines:\n",
    "    if(indexStart < 1):\n",
    "        indexStart = indexStart + 1\n",
    "    else:\n",
    "        argArr = line.split(\"\\t\")\n",
    "        if(argArr[4]==\"ENTAILMENT\\n\"):\n",
    "            #output.append(learn_variation(argArr[1], argArr[2], argArr[3], argArr[4][0:len(argArr[4])-2]))\n",
    "            fileOut.write(line)\n",
    "        if(argArr[4] == \"CONTRADICTION\\n\"):\n",
    "            fileOut1.write(line)\n",
    "print(output)\n",
    "file.close\n",
    "fileOut.close\n",
    "fileOut1.close"
   ]
  },
  {
   "cell_type": "code",
   "execution_count": 98,
   "metadata": {},
   "outputs": [],
   "source": [
    "def compare_nodeGraph(node, node2):\n",
    "    if(node.isRoot):\n",
    "        root = node\n",
    "        wordNode = node2\n",
    "    else:\n",
    "        root = node2\n",
    "        wordNode = node\n",
    "    if(root.nexts[\"verb\"].word in be_verbs):\n",
    "        \n",
    "        for adjs in {root.nexts[\"obj\"]}:\n",
    "            if(depth_check(wordNode, adjs)):\n",
    "                return True\n",
    "        return False"
   ]
  },
  {
   "cell_type": "code",
   "execution_count": 99,
   "metadata": {},
   "outputs": [],
   "source": [
    "def check_branch(node1, node2, label = \"all\"):\n",
    "    if(node1.word != node2.word or len(node1.nexts) != len(node2.nexts)):\n",
    "        return False\n",
    "    toRemove = set()\n",
    "    for next1 in node1.nexts[label]:\n",
    "        cor = False\n",
    "        for next2 in node2.nexts[label]:\n",
    "                if(next1.word == next2.word and check_branch(next1, next2)):\n",
    "                    cor = True\n",
    "                    node2.nexts[label].remove(next2)\n",
    "                    break\n",
    "        if(cor):\n",
    "            toRemove.add(next1)\n",
    "    #print(list(k.word for k in toRemove))\n",
    "    #print(list(k.word for k in node2.nexts[label]))\n",
    "    for item in toRemove:\n",
    "        node1.nexts[label].discard(item)\n",
    "    #node1.nexts[label] = node1.nexts[label]-toRemove\n",
    "    if(node1.nexts[label] == set() and node2.nexts[label] == set()):\n",
    "        return True\n",
    "    else:\n",
    "        \n",
    "        return False\n",
    "                    "
   ]
  },
  {
   "cell_type": "code",
   "execution_count": 100,
   "metadata": {},
   "outputs": [],
   "source": [
    "def extract_syntatic_var(node1, node2):\n",
    "   if (node2 == None):\n",
    "       return node1.getText(),-1\n",
    "   if (node1 == None):\n",
    "       return -1, node2.getText()\n",
    "   if(node1.nexts[\"all\"] == set() or node2.nexts[\"all\"] == set()):\n",
    "       return -1, -1\n",
    "   return node1.getText(), node2.getText()"
   ]
  },
  {
   "cell_type": "code",
   "execution_count": 101,
   "metadata": {},
   "outputs": [],
   "source": [
    "def learn_variation(sent1, sent2, score, rel):\n",
    "    graph1 = mono2Graph(sent1)\n",
    "    graph2 = mono2Graph(sent2)\n",
    "    printUgraph_inText(graph1)\n",
    "    printUgraph_inText(graph2)\n",
    "    root1 = graph1.root\n",
    "    root2 = graph2.root\n",
    "    for cont in root1.nexts.keys():\n",
    "        check_branch(root1, root2, cont)\n",
    "        fileOut = open(\"./\" + cont + \"SyntacticVar\" + \".txt\", \"w\")\n",
    "        list_ref1 = list(root1.nexts[cont])\n",
    "        list_ref2 = list(root2.nexts[cont])\n",
    "        size_iter = max(len(list_ref1), len(list_ref2))\n",
    "        line1 = dict()\n",
    "        line2 = dict()\n",
    "        for i in range(size_iter):\n",
    "            \n",
    "            result1, result2 = extract_syntatic_var(list_ref1[i] if i < len(list_ref1) else None, list_ref2[i] if i < len(list_ref2) else None)\n",
    "            if(result1 != -1):\n",
    "                if(list_ref1[i].word not in line1.keys()):\n",
    "                    line1[list_ref1[i].word] = set()\n",
    "                line1[list_ref1[i].word].add(result1)\n",
    "            if(result2 != -1):\n",
    "                if(list_ref2[i].word not in line2.keys()):\n",
    "                    line2[list_ref2[i].word] = set()\n",
    "                line2[list_ref2[i].word].add(result2)\n",
    "        print(line1,file=fileOut)\n",
    "        print(\"\\t\",file=fileOut)\n",
    "        print(line2,file=fileOut)\n",
    "        print(\"\\n\",file=fileOut)\n",
    "    printUgraph_inText(graph1)\n",
    "    printUgraph_inText(graph2)\n",
    "    return 2\n",
    "#Problem with \"and\" in main cores alignment\n",
    "#Problem with aligning different forms of the same word (i.e eat/eats, apple/apples, a/an)"
   ]
  },
  {
   "cell_type": "code",
   "execution_count": 102,
   "metadata": {},
   "outputs": [],
   "source": [
    "# def det_branch(graph1, graph2, label = \"all\"):\n",
    "#     for\n",
    "        "
   ]
  },
  {
   "cell_type": "code",
   "execution_count": 103,
   "metadata": {},
   "outputs": [
    {
     "output_type": "error",
     "ename": "TypeError",
     "evalue": "can only concatenate str (not \"NoneType\") to str",
     "traceback": [
      "\u001b[1;31m---------------------------------------------------------------------------\u001b[0m",
      "\u001b[1;31mTypeError\u001b[0m                                 Traceback (most recent call last)",
      "\u001b[1;32m<ipython-input-103-8b2f227aa8a7>\u001b[0m in \u001b[0;36m<module>\u001b[1;34m\u001b[0m\n\u001b[1;32m----> 1\u001b[1;33m \u001b[0mprint\u001b[0m\u001b[1;33m(\u001b[0m\u001b[1;34m\"s\"\u001b[0m \u001b[1;33m+\u001b[0m \u001b[1;32mNone\u001b[0m \u001b[1;33m+\u001b[0m \u001b[1;34m\"test\"\u001b[0m\u001b[1;33m)\u001b[0m\u001b[1;33m\u001b[0m\u001b[1;33m\u001b[0m\u001b[0m\n\u001b[0m",
      "\u001b[1;31mTypeError\u001b[0m: can only concatenate str (not \"NoneType\") to str"
     ]
    }
   ],
   "source": [
    "print(\"s\" + None + \"test\")"
   ]
  },
  {
   "cell_type": "code",
   "execution_count": 149,
   "metadata": {},
   "outputs": [
    {
     "output_type": "error",
     "ename": "AttributeError",
     "evalue": "'dict' object has no attribute 'toString'",
     "traceback": [
      "\u001b[1;31m---------------------------------------------------------------------------\u001b[0m",
      "\u001b[1;31mAttributeError\u001b[0m                            Traceback (most recent call last)",
      "\u001b[1;32m<ipython-input-149-09a6af64c98b>\u001b[0m in \u001b[0;36m<module>\u001b[1;34m\u001b[0m\n\u001b[0;32m      2\u001b[0m \u001b[0mtest222\u001b[0m \u001b[1;33m=\u001b[0m \u001b[0mdict\u001b[0m\u001b[1;33m(\u001b[0m\u001b[1;33m)\u001b[0m\u001b[1;33m\u001b[0m\u001b[1;33m\u001b[0m\u001b[0m\n\u001b[0;32m      3\u001b[0m \u001b[0mtest222\u001b[0m\u001b[1;33m[\u001b[0m\u001b[1;34m\"app\"\u001b[0m\u001b[1;33m]\u001b[0m \u001b[1;33m=\u001b[0m \u001b[1;33m[\u001b[0m\u001b[1;36m1\u001b[0m\u001b[1;33m,\u001b[0m\u001b[1;36m5\u001b[0m\u001b[1;33m]\u001b[0m\u001b[1;33m\u001b[0m\u001b[1;33m\u001b[0m\u001b[0m\n\u001b[1;32m----> 4\u001b[1;33m \u001b[0mtest222\u001b[0m\u001b[1;33m.\u001b[0m\u001b[0mtoString\u001b[0m\u001b[1;33m(\u001b[0m\u001b[1;33m)\u001b[0m\u001b[1;33m\u001b[0m\u001b[1;33m\u001b[0m\u001b[0m\n\u001b[0m\u001b[0;32m      5\u001b[0m \u001b[0mprint\u001b[0m\u001b[1;33m(\u001b[0m\u001b[0mtest222\u001b[0m\u001b[1;33m)\u001b[0m\u001b[1;33m\u001b[0m\u001b[1;33m\u001b[0m\u001b[0m\n\u001b[0;32m      6\u001b[0m \u001b[1;31m#test111[4]\u001b[0m\u001b[1;33m\u001b[0m\u001b[1;33m\u001b[0m\u001b[1;33m\u001b[0m\u001b[0m\n",
      "\u001b[1;31mAttributeError\u001b[0m: 'dict' object has no attribute 'toString'"
     ]
    }
   ],
   "source": [
    "test111 = [1,2,3]\n",
    "test222 = dict()\n",
    "test222[\"app\"] = [1,5]\n",
    "test222.toString()\n",
    "print(test222)\n",
    "#test111[4]\n",
    "print(0 if 1>0 else 1)"
   ]
  },
  {
   "cell_type": "code",
   "execution_count": null,
   "metadata": {},
   "outputs": [],
   "source": []
  },
  {
   "cell_type": "code",
   "execution_count": 104,
   "metadata": {},
   "outputs": [
    {
     "output_type": "stream",
     "name": "stdout",
     "text": [
      "nsubj\n111\n111\nverb\nobj\n111\n111\n{ nsubj: { The 2 layer: girl{ The 3 layer: the}{ The 3 layer: beautiful}} verb: { The 2 layer: eats} obj: { The 2 layer: pear{ The 3 layer: a}{ The 3 layer: pretty}} }\nnsubj\n111\n111\nverb\nobj\n111\n111\nnsubj\nverb\nobj\n111\n{ nsubj: { The 2 layer: girl{ The 3 layer: the}{ The 3 layer: beautiful}} verb: { The 2 layer: eats} obj: { The 2 layer: pear{ The 3 layer: a}{ nsubj: { The 4 layer: that} verb: { The 4 layer: has} obj: { The 4 layer: marks{ The 5 layer: beautiful}} }} }\nnsubj\nverb\nobj\n111\n{ obj: { The 2 layer: pear{ The 3 layer: pretty}} }\nnsubj\nverb\nobj\n111\nnsubj\nverb\nobj\n111\n{ obj: { The 2 layer: pear{ nsubj: { The 4 layer: that} verb: { The 4 layer: has} obj: { The 4 layer: marks{ The 5 layer: beautiful}} }} }\n"
     ]
    },
    {
     "output_type": "execute_result",
     "data": {
      "text/plain": [
       "2"
      ]
     },
     "metadata": {},
     "execution_count": 104
    }
   ],
   "source": [
    "learn_variation(results_tree[0], results_tree[2], 4.0, \"entailment\")"
   ]
  },
  {
   "cell_type": "code",
   "execution_count": 108,
   "metadata": {},
   "outputs": [],
   "source": [
    "def check_difference(node1, node2, ranks):\n",
    "    #Node might be root which is not considered now.\n",
    "    #indexs: 0->lexical 1->phrasal 2->syntatic variation 3->implicative\n",
    "    for nextNode1 in node1.nexts[\"all\"]:\n",
    "        related = []\n",
    "        \n",
    "        if(node2.nexts[\"all\"] == set()):\n",
    "            ranks[nextNode1.nexts[\"all\"] != set()] += 1\n",
    "            continue\n",
    "        for nextNode2 in node2.nexts[\"all\"]:\n",
    "            #print(nextNode2.nexts)\n",
    "            if_related = False\n",
    "            if(nextNode1.isRoot != nextNode2.isRoot):\n",
    "                if_related = True\n",
    "                ranks[2] += 1\n",
    "                break\n",
    "            if(nextNode1.nexts[\"all\"] == set() and nextNode2.nexts[\"all\"] == set()):\n",
    "                if_related = True\n",
    "                ranks[0] += 1\n",
    "                break\n",
    "            related.append(nextNode2)\n",
    "        if(if_related):\n",
    "            node2.nexts[\"all\"].remove(nextNode2)\n",
    "            related = []\n",
    "        if(related != []):\n",
    "            if(nextNode1.nexts[\"all\"] == set()):\n",
    "                ranks[2] += 1\n",
    "            else:\n",
    "                if(related[0].nexts[\"all\"] == set()):\n",
    "                    ranks[2] += 1\n",
    "                else:\n",
    "                    next_set = [0] * 4\n",
    "                    check_difference(nextNode1, related[0], next_set)\n",
    "                    ranks += next_set\n",
    "                    sum = sum(next_set)\n",
    "                    if(sum > 1):\n",
    "                        ranks[1] += 1\n",
    "                    elif((sum == 1) != (nextNode1.word != related[0].word)):\n",
    "                        ranks[0] += 1\n",
    "                    elif(sum ==1):\n",
    "                        ranks[1] += 1\n",
    "                    else:\n",
    "                        print(\"Error in check_difference because of check_branch\")\n",
    "    if(node2.nexts[\"all\"] != set()):\n",
    "        for node2_left in node2.nexts[\"all\"]:\n",
    "            ranks[node2_left.nexts[\"all\"] != set()] += 1\n",
    "        \n"
   ]
  },
  {
   "cell_type": "code",
   "execution_count": 109,
   "metadata": {},
   "outputs": [],
   "source": [
    "def control_direct(sent1, sent2, isRoot = True):\n",
    "    if(not(isRoot)):\n",
    "        graph1 = mono2Graph(sent1)  \n",
    "        graph2 = mono2Graph(sent2)\n",
    "        root1 = graph1.root\n",
    "        root2 = graph2.root\n",
    "    else:\n",
    "        root1 = sent1\n",
    "        root2 = sent2\n",
    "        \n",
    "    diffs = [0] * 4\n",
    "    for cont in root1.nexts.keys():\n",
    "        check_branch(root1, root2, cont)\n",
    "        for node1 in root1.nexts[cont]:\n",
    "            corr = None\n",
    "            for node2 in root2.nexts[cont]:\n",
    "                if(node1.word == node2.word):\n",
    "                    corr = node2\n",
    "                    root2.nexts[cont].remove(node2)\n",
    "                    break\n",
    "            if(corr != None):\n",
    "                check_difference(node1, corr, diffs)\n",
    "    return directions[diffs.index(max(diffs))]"
   ]
  },
  {
   "cell_type": "code",
   "execution_count": 110,
   "metadata": {},
   "outputs": [
    {
     "output_type": "stream",
     "name": "stdout",
     "text": [
      "1\n"
     ]
    }
   ],
   "source": [
    "for i in range(3):\n",
    "   test = 1\n",
    "print(test) "
   ]
  },
  {
   "cell_type": "code",
   "execution_count": 111,
   "metadata": {},
   "outputs": [
    {
     "output_type": "stream",
     "name": "stdout",
     "text": [
      "syntatic_variation\n[nsubj↑  [det=  [DT  the↑]  [amod=  [JJ  beautiful=]  [NN  girl=]]]  [obj↑  [det↑  [DT  a↑]  [amod↑  [JJ  pretty↑]  [NN  pear↑]]]  [VBZ  eats↑]]]\n[nsubj↑  [det=  [DT  the↑]  [amod=  [JJ  beautiful=]  [NN  girl=]]]  [obj↑  [acl:relcl↑  [nsubj↑  [WDT  that↑]  [obj=  [amod=  [JJ  beautiful=]  [NNS  marks=]]  [VBZ  has=]]]  [det↑  [DT  a↑]  [NN  pear↑]]]  [VBZ  eats↑]]]\n"
     ]
    }
   ],
   "source": [
    "print(control_direct(results_tree[0], results_tree[2],False))\n",
    "print(results[0])\n",
    "print(results[2])"
   ]
  },
  {
   "cell_type": "code",
   "execution_count": 7,
   "metadata": {},
   "outputs": [
    {
     "output_type": "execute_result",
     "data": {
      "text/plain": [
       "'2'"
      ]
     },
     "metadata": {},
     "execution_count": 7
    }
   ],
   "source": [
    "dict1 = {1:\"2\"}\n",
    "dict1[1]"
   ]
  },
  {
   "cell_type": "code",
   "execution_count": null,
   "metadata": {},
   "outputs": [],
   "source": []
  },
  {
   "cell_type": "code",
   "execution_count": null,
   "metadata": {},
   "outputs": [],
   "source": []
  },
  {
   "cell_type": "code",
   "execution_count": null,
   "metadata": {},
   "outputs": [],
   "source": []
  },
  {
   "cell_type": "code",
   "execution_count": 44,
   "metadata": {},
   "outputs": [
    {
     "output_type": "execute_result",
     "data": {
      "text/plain": [
       "set()"
      ]
     },
     "metadata": {},
     "execution_count": 44
    }
   ],
   "source": [
    "test1 = Unode(\"root\", \"root\", \"root\", \"root\")\n",
    "testSet = set()\n",
    "testSet.add(test1)\n",
    "testSet.remove(test1)\n",
    "testSet"
   ]
  },
  {
   "cell_type": "code",
   "execution_count": 175,
   "metadata": {},
   "outputs": [],
   "source": [
    "#get_word_sets(\"car\",\"hypernym\")"
   ]
  },
  {
   "cell_type": "code",
   "execution_count": 176,
   "metadata": {},
   "outputs": [
    {
     "output_type": "error",
     "ename": "AttributeError",
     "evalue": "'set' object has no attribute 'isRoot'",
     "traceback": [
      "\u001b[1;31m---------------------------------------------------------------------------\u001b[0m",
      "\u001b[1;31mAttributeError\u001b[0m                            Traceback (most recent call last)",
      "\u001b[1;32m<ipython-input-176-5aac0b67a840>\u001b[0m in \u001b[0;36m<module>\u001b[1;34m\u001b[0m\n\u001b[1;32m----> 1\u001b[1;33m \u001b[0mcheck_alignment\u001b[0m\u001b[1;33m(\u001b[0m\u001b[0mG1\u001b[0m\u001b[1;33m,\u001b[0m \u001b[0mG2\u001b[0m\u001b[1;33m)\u001b[0m\u001b[1;33m\u001b[0m\u001b[1;33m\u001b[0m\u001b[0m\n\u001b[0m",
      "\u001b[1;32m<ipython-input-165-5a0d8941803f>\u001b[0m in \u001b[0;36mcheck_alignment\u001b[1;34m(graph1, graph2)\u001b[0m\n\u001b[0;32m      1\u001b[0m \u001b[1;32mdef\u001b[0m \u001b[0mcheck_alignment\u001b[0m\u001b[1;33m(\u001b[0m\u001b[0mgraph1\u001b[0m\u001b[1;33m,\u001b[0m \u001b[0mgraph2\u001b[0m\u001b[1;33m)\u001b[0m\u001b[1;33m:\u001b[0m\u001b[1;33m\u001b[0m\u001b[1;33m\u001b[0m\u001b[0m\n\u001b[1;32m----> 2\u001b[1;33m     \u001b[1;32mreturn\u001b[0m \u001b[0mcheck_alignByRoot\u001b[0m\u001b[1;33m(\u001b[0m\u001b[0mgraph1\u001b[0m\u001b[1;33m.\u001b[0m\u001b[0mroot\u001b[0m\u001b[1;33m,\u001b[0m \u001b[0mgraph2\u001b[0m\u001b[1;33m.\u001b[0m\u001b[0mroot\u001b[0m\u001b[1;33m)\u001b[0m\u001b[1;33m\u001b[0m\u001b[1;33m\u001b[0m\u001b[0m\n\u001b[0m",
      "\u001b[1;32m<ipython-input-166-d3d27dd354e0>\u001b[0m in \u001b[0;36mcheck_alignByRoot\u001b[1;34m(root1, root2)\u001b[0m\n\u001b[0;32m      1\u001b[0m \u001b[1;32mdef\u001b[0m \u001b[0mcheck_alignByRoot\u001b[0m\u001b[1;33m(\u001b[0m\u001b[0mroot1\u001b[0m\u001b[1;33m,\u001b[0m \u001b[0mroot2\u001b[0m\u001b[1;33m)\u001b[0m\u001b[1;33m:\u001b[0m\u001b[1;33m\u001b[0m\u001b[1;33m\u001b[0m\u001b[0m\n\u001b[0;32m      2\u001b[0m     \u001b[1;32mfor\u001b[0m \u001b[0mcont\u001b[0m \u001b[1;32min\u001b[0m \u001b[1;33m{\u001b[0m\u001b[1;34m\"nsubj\"\u001b[0m\u001b[1;33m,\u001b[0m \u001b[1;34m\"verb\"\u001b[0m\u001b[1;33m,\u001b[0m \u001b[1;34m\"obj\"\u001b[0m\u001b[1;33m}\u001b[0m\u001b[1;33m:\u001b[0m\u001b[1;33m\u001b[0m\u001b[1;33m\u001b[0m\u001b[0m\n\u001b[1;32m----> 3\u001b[1;33m         \u001b[1;32mif\u001b[0m\u001b[1;33m(\u001b[0m\u001b[1;32mnot\u001b[0m\u001b[1;33m(\u001b[0m\u001b[0mcheck_cont\u001b[0m\u001b[1;33m(\u001b[0m\u001b[0mroot1\u001b[0m\u001b[1;33m,\u001b[0m \u001b[0mroot2\u001b[0m\u001b[1;33m,\u001b[0m \u001b[0mcont\u001b[0m\u001b[1;33m)\u001b[0m\u001b[1;33m)\u001b[0m\u001b[1;33m)\u001b[0m\u001b[1;33m:\u001b[0m\u001b[1;33m\u001b[0m\u001b[1;33m\u001b[0m\u001b[0m\n\u001b[0m\u001b[0;32m      4\u001b[0m             \u001b[0mprint\u001b[0m\u001b[1;33m(\u001b[0m\u001b[0mcont\u001b[0m\u001b[1;33m)\u001b[0m\u001b[1;33m\u001b[0m\u001b[1;33m\u001b[0m\u001b[0m\n\u001b[0;32m      5\u001b[0m             \u001b[1;32mreturn\u001b[0m \u001b[1;34m\"UnAligned\"\u001b[0m\u001b[1;33m\u001b[0m\u001b[1;33m\u001b[0m\u001b[0m\n",
      "\u001b[1;32m<ipython-input-167-5af3d73e0b7e>\u001b[0m in \u001b[0;36mcheck_cont\u001b[1;34m(root1, root2, cont)\u001b[0m\n\u001b[0;32m      2\u001b[0m     \u001b[0mcore1\u001b[0m \u001b[1;33m=\u001b[0m \u001b[0mroot1\u001b[0m\u001b[1;33m.\u001b[0m\u001b[0mnexts\u001b[0m\u001b[1;33m[\u001b[0m\u001b[0mcont\u001b[0m\u001b[1;33m]\u001b[0m\u001b[1;33m\u001b[0m\u001b[1;33m\u001b[0m\u001b[0m\n\u001b[0;32m      3\u001b[0m     \u001b[0mcore2\u001b[0m \u001b[1;33m=\u001b[0m \u001b[0mroot2\u001b[0m\u001b[1;33m.\u001b[0m\u001b[0mnexts\u001b[0m\u001b[1;33m[\u001b[0m\u001b[0mcont\u001b[0m\u001b[1;33m]\u001b[0m\u001b[1;33m\u001b[0m\u001b[1;33m\u001b[0m\u001b[0m\n\u001b[1;32m----> 4\u001b[1;33m     \u001b[1;32mreturn\u001b[0m \u001b[0mdepth_check\u001b[0m\u001b[1;33m(\u001b[0m\u001b[0mcore1\u001b[0m\u001b[1;33m,\u001b[0m \u001b[0mcore2\u001b[0m\u001b[1;33m)\u001b[0m\u001b[1;33m\u001b[0m\u001b[1;33m\u001b[0m\u001b[0m\n\u001b[0m",
      "\u001b[1;32m<ipython-input-168-53eaadf8da26>\u001b[0m in \u001b[0;36mdepth_check\u001b[1;34m(node1, node2)\u001b[0m\n\u001b[0;32m      1\u001b[0m \u001b[1;32mdef\u001b[0m \u001b[0mdepth_check\u001b[0m\u001b[1;33m(\u001b[0m\u001b[0mnode1\u001b[0m\u001b[1;33m,\u001b[0m \u001b[0mnode2\u001b[0m\u001b[1;33m)\u001b[0m\u001b[1;33m:\u001b[0m\u001b[1;33m\u001b[0m\u001b[1;33m\u001b[0m\u001b[0m\n\u001b[1;32m----> 2\u001b[1;33m     \u001b[1;32mif\u001b[0m\u001b[1;33m(\u001b[0m\u001b[0mnode1\u001b[0m\u001b[1;33m.\u001b[0m\u001b[0misRoot\u001b[0m \u001b[1;32mand\u001b[0m \u001b[0mnode2\u001b[0m\u001b[1;33m.\u001b[0m\u001b[0misRoot\u001b[0m\u001b[1;33m)\u001b[0m\u001b[1;33m:\u001b[0m\u001b[1;33m\u001b[0m\u001b[1;33m\u001b[0m\u001b[0m\n\u001b[0m\u001b[0;32m      3\u001b[0m         \u001b[1;32mreturn\u001b[0m \u001b[0mcheck_alignByRoot\u001b[0m\u001b[1;33m(\u001b[0m\u001b[0mnode1\u001b[0m\u001b[1;33m,\u001b[0m \u001b[0mnode2\u001b[0m\u001b[1;33m)\u001b[0m\u001b[1;33m\u001b[0m\u001b[1;33m\u001b[0m\u001b[0m\n\u001b[0;32m      4\u001b[0m     \u001b[1;32mif\u001b[0m\u001b[1;33m(\u001b[0m\u001b[0mnode1\u001b[0m\u001b[1;33m.\u001b[0m\u001b[0misRoot\u001b[0m \u001b[1;32mor\u001b[0m \u001b[0mnode2\u001b[0m\u001b[1;33m.\u001b[0m\u001b[0misRoot\u001b[0m\u001b[1;33m)\u001b[0m\u001b[1;33m:\u001b[0m\u001b[1;33m\u001b[0m\u001b[1;33m\u001b[0m\u001b[0m\n\u001b[0;32m      5\u001b[0m         \u001b[1;32mreturn\u001b[0m \u001b[0mcompare_nodeGraph\u001b[0m\u001b[1;33m(\u001b[0m\u001b[0mnode1\u001b[0m\u001b[1;33m,\u001b[0m \u001b[0mnode2\u001b[0m\u001b[1;33m)\u001b[0m\u001b[1;33m\u001b[0m\u001b[1;33m\u001b[0m\u001b[0m\n",
      "\u001b[1;31mAttributeError\u001b[0m: 'set' object has no attribute 'isRoot'"
     ]
    }
   ],
   "source": [
    "check_alignment(G1, G2)"
   ]
  },
  {
   "cell_type": "code",
   "execution_count": 111,
   "metadata": {},
   "outputs": [
    {
     "output_type": "execute_result",
     "data": {
      "text/plain": [
       "{None}"
      ]
     },
     "metadata": {},
     "execution_count": 111
    }
   ],
   "source": [
    "ae = set()\n",
    "def return1(i):\n",
    "    return\n",
    "ae.add(return1(2))\n",
    "ae"
   ]
  },
  {
   "cell_type": "code",
   "execution_count": null,
   "metadata": {},
   "outputs": [],
   "source": []
  },
  {
   "cell_type": "code",
   "execution_count": 251,
   "metadata": {},
   "outputs": [
    {
     "output_type": "execute_result",
     "data": {
      "text/plain": [
       "'hypernym'"
      ]
     },
     "metadata": {},
     "execution_count": 251
    }
   ],
   "source": [
    "find_relation(\"woman\", \"lady\", \"nn\")"
   ]
  },
  {
   "cell_type": "code",
   "execution_count": null,
   "metadata": {},
   "outputs": [],
   "source": []
  },
  {
   "cell_type": "code",
   "execution_count": 252,
   "metadata": {},
   "outputs": [],
   "source": [
    "find_relation(\"people\",\"person\",'nn')"
   ]
  },
  {
   "cell_type": "code",
   "execution_count": 253,
   "metadata": {},
   "outputs": [
    {
     "output_type": "stream",
     "name": "stdout",
     "text": [
      "5\n"
     ]
    }
   ],
   "source": [
    "if(1==0):\n",
    "    t = 3\n",
    "else:\n",
    "    t = 5\n",
    "print(t)"
   ]
  },
  {
   "cell_type": "code",
   "execution_count": 254,
   "metadata": {},
   "outputs": [
    {
     "output_type": "execute_result",
     "data": {
      "text/plain": [
       "True"
      ]
     },
     "metadata": {},
     "execution_count": 254
    }
   ],
   "source": [
    "None == None"
   ]
  },
  {
   "cell_type": "code",
   "execution_count": null,
   "metadata": {},
   "outputs": [],
   "source": []
  }
 ]
}