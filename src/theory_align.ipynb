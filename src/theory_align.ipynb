{
 "cells": [
  {
   "cell_type": "code",
   "execution_count": 271,
   "metadata": {},
   "outputs": [],
   "source": [
    "from Udep2Mono.polarization import PolarizationPipeline\n",
    "import networkx as nx\n",
    "import matplotlib.pyplot as plt\n",
    "import binarytree as bt\n",
    "from wordnet import find_relation, get_word_sets\n",
    "from PIL import Image, ImageDraw\n",
    "from nltk.tree import Tree\n",
    "from nltk.draw import TreeWidget\n",
    "from nltk.draw.util import CanvasFrame\n",
    "from IPython.display import Image, display\n",
    "import json\n",
    "import _pickle as pickle\n",
    "import os\n",
    "import gensim.downloader as api\n"
   ]
  },
  {
   "cell_type": "code",
   "execution_count": 225,
   "metadata": {},
   "outputs": [],
   "source": [
    "#G = Ugraph()\n",
    "nounModifiers = {\"det\", \"nummod\", \"amod\",\"obl:tmod\", \"acl:relcl\", \"nmod\", \"case\",\"nmod:pass\",  \"acl\", \"Prime\"}\n",
    "verbModifiers = {\"advmod\", \"obl\",\"xcomp\",\"advcl\",\"mark\"}\n",
    "nounCategories = {\"compound\"}\n",
    "verbs = {\"VBZ\", \"VBP\", \"VBD\", \"VBG\"}\n",
    "modified = {\"NN\", \"PRP\", \"JJ\", \"VB\"}.union(verbs)\n",
    "modifiers = nounModifiers.union(verbModifiers)\n",
    "offFocus = {\"expl\"}\n",
    "contents = {\"nsubj\",\"obj\",\"cop\",\"compound\",\"conj\", \"cc\", \"aux\",\"nsubj:pass\"}\n",
    "cont_npos = {\"nsubj\":'nn', \"obj\": 'nn', \"cop\": 'vbz', \"verb\": 'vbz'}\n",
    "mark_toProp = {\"+\": {\"hyponym\",\"synonym\"}, \"-\": {\"hypernym\",\"synonym\"}, \"=\": {\"synonym\"}}\n",
    "clause_prop = {\"which\", \"that\", \"who\"}\n",
    "be_verbs = {\"is\", \"am\", \"are\", \"be\"}\n",
    "directions = {0: \"lexical\", 1: \"phrasal\", 2: \"syntatic_variation\", 3: \"implicative\"}"
   ]
  },
  {
   "cell_type": "code",
   "execution_count": 3,
   "metadata": {},
   "outputs": [],
   "source": [
    "#G.add_node(\"ok\",id=1)\n",
    "#G.add_node(\"fine\")"
   ]
  },
  {
   "cell_type": "code",
   "execution_count": 303,
   "metadata": {},
   "outputs": [],
   "source": [
    "#nx.draw(G, with_labels=True)\n",
    "sentenceset = [\"This are 2 specially cool dog food\", \"Animal cut fresh meat carefully every month\"]\n",
    "test1 = [\"A lady cuts some meat\", \"A woman cuts some meat\"]\n",
    "testWhich = [\"a lady who is beautiful drives a car that is old \", \"A beautiful woman drives a old car\"]\n",
    "testAnd = [\"A girl eats an pear and an orange\", \"A girl makes and eats an apple\", \"A girl and a boy are carefully writing homework\"]\n",
    "testWith = [\"A girl carries the bag with a tie\", \"A girl with a costume eats an apple\", \"A boy shocks the dog under the roof\"]\n",
    "testThere = [\"There is a girl with a bag\", \"Here is the homework that I just wrote\", \"This is the pizza that I just ordered\"]\n",
    "testExtract = [\"The beautiful girl who is wearing a bowtie and sitting on the chair eats a pretty pear\", \"The pretty woman wearing a bowtie eats a pear\", \"The beautiful girl eats a pear that has beautiful marks\"]\n",
    "test2 = [\"A dog is eating food\", \"A dog is blue\"] \n",
    "testToComp = [\"The person who is beautiful swims to exercise\", \"The person studys at noon to take an exam\", \"The pretty woman wearing a bowtie eats a pear to take an exercise\"]\n",
    "#det order\n",
    "#add word/modifier\n",
    "#\"and\" in connection "
   ]
  },
  {
   "cell_type": "code",
   "execution_count": 5,
   "metadata": {},
   "outputs": [],
   "source": [
    "arrows = {\n",
    "    \"+\": \"\\u2191\",\n",
    "    \"-\": \"\\u2193\",\n",
    "    \"=\": \"=\",\n",
    "    \"0\": \"\"\n",
    "}\n",
    "def annotation2string(annotation):\n",
    "    annotated = list(annotation['annotated'].popkeys())\n",
    "    def compose_token(word):\n",
    "        if '-' in word[0]:\n",
    "            orig = word[0].split('-')\n",
    "            return ' '.join([x + arrows[word[2]] for x in orig])\n",
    "        else:\n",
    "            return word[0] + arrows[word[2]]\n",
    "    annotated_sent = ' '.join([compose_token(x) for x in annotated])\n",
    "    return annotated_sent"
   ]
  },
  {
   "cell_type": "code",
   "execution_count": 325,
   "metadata": {},
   "outputs": [
    {
     "name": "stdout",
     "output_type": "stream",
     "text": [
      "['[nsubj↑  [det=  [DT  the↑]  [acl:relcl=  [nsubj=  [WP  who=]  [cop=  [VBZ  is=]  [JJ  beautiful=]]]  [NN  person=]]]  [xcomp↑  [mark↑  [TO  to↑]  [VB  exercise↑]]  [VBZ  swims↑]]]', '[nsubj↑  [det=  [DT  the↑]  [NN  person=]]  [advcl↑  [mark↑  [TO  to↑]  [obj↑  [det↑  [DT  an↑]  [NN  exam↑]]  [VB  take↑]]]  [obl↑  [case↑  [IN  at↑]  [NN  noon↑]]  [VBZ  studys↑]]]]', '[nsubj↑  [det=  [DT  the↑]  [acl=  [obj=  [det=  [DT  a=]  [NN  bowtie=]]  [VBG  wearing=]]  [amod=  [JJ  pretty=]  [NN  woman=]]]]  [advcl↑  [mark↑  [TO  to↑]  [obj↑  [det↑  [DT  an↑]  [NN  exercise↑]]  [VB  take↑]]]  [obj↑  [det↑  [DT  a↑]  [NN  pear↑]]  [VBZ  eats↑]]]]']\n"
     ]
    }
   ],
   "source": [
    "pipeline = PolarizationPipeline(verbose = 1)\n",
    "results = []\n",
    "results_tree = []\n",
    "for sent in testToComp:\n",
    "    tree = pipeline.single_polarization(sent)[\"polarized_tree\"]\n",
    "    results_tree.append(tree)\n",
    "    results.append(pipeline.postprocess(tree,\"\"))\n",
    "print(results)"
   ]
  },
  {
   "cell_type": "code",
   "execution_count": 283,
   "metadata": {},
   "outputs": [],
   "source": [
    "class Unode:\n",
    "    def __init__(self,prop,word,npos, mark):\n",
    "        self.nexts = dict()\n",
    "        self.prop = prop\n",
    "        self.isRoot = False\n",
    "        self.nexts[\"all\"] = set()\n",
    "        self.word = word\n",
    "        self.npos = npos\n",
    "        self.mark = mark\n",
    "        self.phrases = set()\n",
    "        self.pair = -1\n",
    "        self.pairParts = dict()\n",
    "        self.start = -1\n",
    "        self.end = -1\n",
    "        self.nodes = set()\n",
    "    def add_Unode(self, node):\n",
    "        #print(node.prop)\n",
    "        if(self.isRoot):\n",
    "            self.nexts[node.prop].add(node)\n",
    "        else:\n",
    "            self.nexts[\"all\"].add(node)\n",
    "    def addNode(self, node):\n",
    "        self.nodes.add(node)\n",
    "    def getText(self):\n",
    "        if(self.isRoot):\n",
    "            output = \"\"\n",
    "            for cont in [\"nsubj\", \"verb\",\"obj\"]:\n",
    "                for ele in self.nexts[cont]:\n",
    "                    output += ele.getText()\n",
    "                    output += \" \"\n",
    "            return output.strip()\n",
    "        else:\n",
    "            if(self.nexts[\"all\"] == set()):\n",
    "                return self.word\n",
    "            output = self.word\n",
    "            for element in self.nexts[\"all\"]:\n",
    "                if(element.prop == \"amod\"):\n",
    "                    output = \" \" + output\n",
    "                    output =  element.getText() + output\n",
    "                else:\n",
    "                    output += \" \"\n",
    "                    output +=  element.getText()\n",
    "                \n",
    "            return output\n",
    "    def get_inText(self, index):\n",
    "        connected_info = \"\"\n",
    "        if(self.isRoot):\n",
    "            for key in self.nexts.keys():\n",
    "                if(key != \"all\"):\n",
    "                    print(key)\n",
    "                    for keyItem in self.nexts[key]:\n",
    "                        connected_info += (key + \": \" + keyItem.get_inText(index + 1) + \" \")\n",
    "            return \"{ \" + connected_info + \"}\"\n",
    "        else:\n",
    "            for node in self.nexts[\"all\"]:\n",
    "                if(node != None):\n",
    "                    #print(\"111\")\n",
    "                    connected_info += node.get_inText(index + 1)\n",
    "            return \"{ The \" + str(index) + \" layer\" + \": \" + self.word + connected_info + \"}\"\n",
    "    def get_magicText(self):\n",
    "        connected_info = \"\"\n",
    "        if(self.isRoot):\n",
    "            for key in self.nexts.keys():\n",
    "                component = \"\"\n",
    "                if(key != \"all\"):\n",
    "                    print(key)\n",
    "                    for keyItem in self.nexts[key]:\n",
    "                        component += \" (\" + keyItem.get_magicText() + \")\"\n",
    "                    component = \"(\" + key + \" \" + component + \")\"\n",
    "                connected_info += component\n",
    "            return \"(\" + connected_info + \")\"\n",
    "        else:\n",
    "            for node in self.nexts[\"all\"]:\n",
    "                if(node != None):\n",
    "                    #print(\"111\")\n",
    "                    connected_info +=  \"(\" + node.get_magicText() + \")\"\n",
    "            if(self.nexts[\"all\"] == set()):\n",
    "                if(self.pair != -1):\n",
    "                    return self.word + str(self.pair)\n",
    "                return self.word\n",
    "            if(self.pair != -1):\n",
    "                    return self.word + str(self.pair) + connected_info\n",
    "            return  self.word + connected_info\n",
    "    def addNum(self,num):\n",
    "        self.pair = num\n",
    "    def addPart(self, newNode, type1):\n",
    "        if(type1 not in self.pairParts):\n",
    "            self.pairParts[type1] = set()\n",
    "        self.pairParts[type1].add(newNode)\n",
    "    def getParts(self):\n",
    "        ### return verb-obj subParts now\n",
    "        return self.pairParts[\"obj\"]"
   ]
  },
  {
   "cell_type": "code",
   "execution_count": 9,
   "metadata": {},
   "outputs": [],
   "source": [
    "class PairCounter:\n",
    "    def __init__(self, initial = 0):\n",
    "        self.nsubj = initial \n",
    "        self.obj = initial\n",
    "    def incrementN(self):\n",
    "        self.nsubj += 1\n",
    "    def incrementO(self):\n",
    "        self.obj += 1"
   ]
  },
  {
   "cell_type": "code",
   "execution_count": 282,
   "metadata": {},
   "outputs": [],
   "source": [
    "class Ugraph:\n",
    "    def __init__(self, rootNode):\n",
    "        self.root = rootNode\n",
    "        self.root.isRoot = True\n",
    "        self.root.nexts.pop(\"all\",None)\n",
    "        for main in {\"nsubj\", \"obj\", \"verb\"}:\n",
    "            self.root.nexts[main] = set()\n",
    "        self.nodes = set()\n",
    "        self.contentSet = set()\n",
    "        self.chunks = set()\n",
    "        self.Pairs = dict()\n",
    "        self.Pairs[\"nsubj\"] = dict()\n",
    "        self.Pairs[\"obj\"] = dict()\n",
    "    def add_node(self,node):\n",
    "        self.nodes.add(node)\n",
    "        self.root.addNode(node)\n",
    "    def add_edge(self, node1, node2):\n",
    "        if(node1.isRoot):\n",
    "            self.contentSet.add(node2.word)\n",
    "        node1.add_Unode(node2)\n",
    "    def contains(self, word_assigned):\n",
    "        return word_assigned in self.contentSet\n",
    "    def get_magicText(self):\n",
    "        return self.root.get_magicText()\n",
    "    def addPair(self, newNode, num,type1):\n",
    "        newNode.addNum(num)\n",
    "        if(num not in self.Pairs[type1]):\n",
    "            self.Pairs[type1][num] = [None]\n",
    "        if(newNode.prop == \"verb\"):\n",
    "            self.Pairs[type1][num][0] = newNode\n",
    "        else:\n",
    "            self.Pairs[type1][num].append(newNode)\n",
    "        if(len(self.Pairs[type1][num]) > 1 and self.Pairs[type1][num][0] is not None):\n",
    "            if(newNode.prop == \"verb\"):\n",
    "                self.Pairs[type1][num][0].addPart(self.Pairs[type1][num][-1],\"obj\")\n",
    "            else:\n",
    "                self.Pairs[type1][num][0].addPart(newNode, \"obj\")"
   ]
  },
  {
   "cell_type": "code",
   "execution_count": 11,
   "metadata": {},
   "outputs": [],
   "source": [
    "def print_as_graph(tree):\n",
    "    G = nx.DiGraph()\n",
    "    construct_treeGraph(tree,G)\n",
    "    #G.add_node(\"this\",id=2)\n",
    "    nx.draw_planar(G, with_labels=True)"
   ]
  },
  {
   "cell_type": "code",
   "execution_count": 12,
   "metadata": {},
   "outputs": [],
   "source": [
    "def print_tree_simple(tree):\n",
    "    if(tree == \"N\"):\n",
    "        return bt.Node(\"Not a Tree\")\n",
    "    root = bt.Node(tree.val)\n",
    "    construct_tree(tree, root)\n",
    "    print(root)"
   ]
  },
  {
   "cell_type": "code",
   "execution_count": 13,
   "metadata": {},
   "outputs": [],
   "source": [
    "def construct_treeGraph(tree,G):\n",
    "    if(tree == \"N\"):\n",
    "        return\n",
    "    else:\n",
    "        if(tree.left != \"N\"):\n",
    "            \n",
    "            G.add_node(tree.left.val,id=1)\n",
    "            G.add_edge(tree.val, tree.left.val)\n",
    "            construct_treeGraph(tree.left,G)\n",
    "        if(tree.right != \"N\"):\n",
    "            #print(tree.right.npos==None)\n",
    "            G.add_node(tree.right.val,id=1)\n",
    "            G.add_edge(tree.val, tree.right.val)\n",
    "            construct_treeGraph(tree.right,G)"
   ]
  },
  {
   "cell_type": "code",
   "execution_count": 14,
   "metadata": {},
   "outputs": [],
   "source": [
    "def construct_tree(tree, subtree):\n",
    "    if(tree == \"N\"):\n",
    "        return\n",
    "    if(tree.left != \"N\"):\n",
    "        subtree.left = bt.Node(tree.left.val)\n",
    "        construct_tree(tree.left, subtree.left)\n",
    "    if(tree.right != \"N\"):\n",
    "        subtree.right = bt.Node(tree.right.val)\n",
    "        construct_tree(tree.right, subtree.right)\n",
    "    "
   ]
  },
  {
   "cell_type": "code",
   "execution_count": 15,
   "metadata": {},
   "outputs": [],
   "source": [
    "def jupyter_draw_nltk_tree(tree):\n",
    "    cf = CanvasFrame()\n",
    "    tc = TreeWidget(cf.canvas(), tree)\n",
    "    tc['node_font'] = 'arial 14 bold'\n",
    "    tc['leaf_font'] = 'arial 14'\n",
    "    tc['node_color'] = '#005990'\n",
    "    tc['leaf_color'] = '#3F8F57'\n",
    "    tc['line_color'] = '#175252'\n",
    "    cf.add_widget(tc, 20, 20)\n",
    "    cf.print_to_file('../data/tree_img/tree.ps')\n",
    "    cf.destroy()\n",
    "    os.system('magick convert ../data/tree_img/tree.ps ../data/tree_img/tree.png')\n",
    "    display(Image(filename='../data/tree_img/tree.png'))"
   ]
  },
  {
   "cell_type": "code",
   "execution_count": 16,
   "metadata": {},
   "outputs": [],
   "source": [
    "def visualize_tree(tree):\n",
    "    btree = Tree.fromstring(tree.replace('[', '(').replace(']', ')'))\n",
    "    jupyter_draw_nltk_tree(btree)"
   ]
  },
  {
   "cell_type": "code",
   "execution_count": 327,
   "metadata": {},
   "outputs": [
    {
     "data": {
      "image/png": "[encoded data removed]",
      "text/plain": [
       "<IPython.core.display.Image object>"
      ]
     },
     "metadata": {},
     "output_type": "display_data"
    }
   ],
   "source": [
    "#print_as_graph(results[0][4])\n",
    "visualize_tree(results[1])\n",
    "#print_tree_simple(results[0][4])"
   ]
  },
  {
   "cell_type": "code",
   "execution_count": 18,
   "metadata": {},
   "outputs": [],
   "source": [
    "def draw_graph():\n",
    "    output = Image.new(\"RGB\", (500, 500), (255,255,255))\n",
    "    draw = ImageDraw.Draw(output)\n",
    "    #draw.ellipse([100,100,200,200])\n",
    "    draw.multiline_text((100, 100), \"aaabbb\\nword\", fill=(0,0,0))\n",
    "    output.show()"
   ]
  },
  {
   "cell_type": "code",
   "execution_count": 19,
   "metadata": {},
   "outputs": [],
   "source": [
    "#draw_graph()"
   ]
  },
  {
   "cell_type": "code",
   "execution_count": 20,
   "metadata": {},
   "outputs": [],
   "source": [
    "class graph_Info():\n",
    "    def __init__(self,graph,crucials):\n",
    "        self.graph = graph\n",
    "        self.crucials = crucials"
   ]
  },
  {
   "cell_type": "code",
   "execution_count": 21,
   "metadata": {},
   "outputs": [],
   "source": [
    "def mono2Graph(sent_info):\n",
    "    G = Ugraph(Unode(\"root\", \"Root\",\"r00t\",\"=\"))\n",
    "    #extract_NOV(sent_info, G)\n",
    "    #print(G.root.nexts)\n",
    "    #print(sent_info)\n",
    "    counter = PairCounter()\n",
    "    mono2Graph_recur(sent_info, G, set(),\"verb\",counter) ### root directly assigned for test here\n",
    "    return G"
   ]
  },
  {
   "cell_type": "code",
   "execution_count": 22,
   "metadata": {},
   "outputs": [],
   "source": [
    "def printUgraph_inText(Ugraph):\n",
    "    print(Ugraph.root.get_inText(1))"
   ]
  },
  {
   "cell_type": "code",
   "execution_count": 25,
   "metadata": {},
   "outputs": [
    {
     "name": "stdout",
     "output_type": "stream",
     "text": [
      "False\n",
      "verb\n",
      "nsubj\n",
      "obj\n",
      "{ verb: { The 2 layer: eats} verb: { The 2 layer: makes} nsubj: { The 2 layer: girl{ The 3 layer: a}} obj: { The 2 layer: apple{ The 3 layer: an}} }\n",
      "6\n",
      "apple222\n",
      "a222\n",
      "makes222\n",
      "an222\n",
      "eats222\n",
      "girl222\n",
      "dict_keys(['verb', 'nsubj', 'obj'])\n"
     ]
    }
   ],
   "source": [
    "G = mono2Graph(results_tree[1])\n",
    "print(results_tree[0] == None)\n",
    "printUgraph_inText(G)\n",
    "print(len(G.nodes))\n",
    "for node_p in G.nodes:\n",
    "    print(node_p.word+ \"222\")\n",
    "print(G.root.nexts.keys())"
   ]
  },
  {
   "cell_type": "code",
   "execution_count": null,
   "metadata": {},
   "outputs": [],
   "source": [
    "# def extract_NOV(sent, G):\n",
    "#     if(sent == \"N\"):\n",
    "#         return\n",
    "#     #print(sent.npos)\n",
    "#     if((sent.val in contents or sent.npos in verbs) and not(sent.val in G.root.nexts.keys())):\n",
    "#         print(sent.npos)\n",
    "#         if sent.npos in verbs and sent.parent.val not in {\"cop\"}:\n",
    "#             tempNode = Unode(\"verb\", sent.val)\n",
    "#         else:\n",
    "#             if (sent != \"N\"):\n",
    "#                 print(sent.val)\n",
    "#             else:\n",
    "#                 print(sent)\n",
    "#             currentNode = sent.left\n",
    "#             while(currentNode.right != \"N\"):\n",
    "#                 currentNode = currentNode.right\n",
    "#             tempNode = Unode(sent.val,currentNode.val)\n",
    "#             G.add_node(tempNode)\n",
    "#             G.add_edge(G.root, tempNode)\n",
    "#             if(sent.val == \"cop\"):\n",
    "#                 currentNode = sent.right\n",
    "#                 while(currentNode.right != \"N\"):\n",
    "#                     if(currentNode.val == \"compound\"):\n",
    "#                         tempNode1 = Unode(\"obj\",currentNode.left.val + \" \" + currentNode.right.val)\n",
    "#                         G.add_node(tempNode1)\n",
    "#                         G.add_edge(G.root, tempNode1)\n",
    "#                         return\n",
    "#                     currentNode = currentNode.right\n",
    "#                 tempNode1 = Unode(sent.val,currentNode.val)\n",
    "#                 G.add_node(tempNode1)\n",
    "#                 G.add_edge(G.root, tempNode1)\n",
    "        \n",
    "#     #if(sent.val == \"obj\"):\n",
    "#         #extract_NOV(sent.left, G)\n",
    "#     extract_NOV(sent.right, G)"
   ]
  },
  {
   "cell_type": "code",
   "execution_count": 274,
   "metadata": {},
   "outputs": [],
   "source": [
    "def mono2Graph_recur(sent_tree, G, mods, pos = None, counter = -1):\n",
    "    needleft = True\n",
    "    needright = True\n",
    "    if(sent_tree is None):\n",
    "        \n",
    "        return\n",
    "    #print(sent_tree.val)\n",
    "    # \n",
    "    #if(sent_tree.nposif(sent_tree.val == \"compound\"):\n",
    "    #         compound_out = sent_tree.left.val+\" \" + sent_tree.right.val\n",
    "    #         G.add_node(compound_out)\n",
    "    #         G.add_edge(root,compound_out)\n",
    "    #         #ls.append(compound_out)\n",
    "            \n",
    "    #         return != None):\n",
    "        #print(sent_tree.val + \" \" + sent_tree.parent.val)\n",
    "        # if((sent_tree.npos in modified and sent_tree.npos != \"JJ\") or (sent_tree.parent!= \"N\" and sent_tree.parent.val == \"nsubj\")):\n",
    "        #     ls.append(sent_tree.val)\n",
    "        #     #G.add_node(sent_tree.val)\n",
    "        #     G.add_node(sent_tree.parent.val,name=sent_tree.val)\n",
    "        #     G.add_edge(root, sent_tree.parent.val)\n",
    "        #     #G.add_edge(sent_tree.parent.val, sent_tree.val)\n",
    "    #    print(\"\")\n",
    "    else:\n",
    "        #print(sent_tree.val)\n",
    "        if(any(list(map(lambda x: sent_tree.val is not None and x in sent_tree.val, list(modifiers))))):\n",
    "            if(\"acl\" in sent_tree.val):\n",
    "                G_prime = mono2Graph(sent_tree.left)\n",
    "                mods.add(G_prime.root)\n",
    "            else:\n",
    "                left_result = mono2Graph_recur(sent_tree.left, G, set(), sent_tree.val,counter)\n",
    "                if(left_result is not None):\n",
    "                    mods.add(left_result)\n",
    "            #print(\"000000000\")\n",
    "            #for item_print in mods:\n",
    "            #    if(item_print!=None):\n",
    "            #        print(item_print.word)\n",
    "            #print(\"000000000\")\n",
    "            return mono2Graph_recur(sent_tree.right, G, mods, pos,counter)            \n",
    "        else:\n",
    "            if ((sent_tree.left is None and sent_tree.right is None) or sent_tree.val == \"compound\" ):\n",
    "                    if(sent_tree.val == 'and'):\n",
    "                        return\n",
    "                    if(sent_tree.val == \"compound\"):\n",
    "                        newNode = Unode(pos, sent_tree.left.val + \"-\" + sent_tree.right.val,\n",
    "                                        sent_tree.pos, sent_tree.mark)\n",
    "                        newNode.start = sent_tree.left.id\n",
    "                        newNode.end = sent_tree.right.id\n",
    "                        if(pos in contents or pos == \"verb\"):\n",
    "                                G.add_edge(G.root,newNode)\n",
    "                                if(pos != \"nsubj\"):\n",
    "                                    G.addPair(newNode, counter.obj,\"obj\")\n",
    "                        for node in mods:\n",
    "                                G.add_edge(newNode, node)\n",
    "                        return newNode\n",
    "                    newNode = Unode(pos, sent_tree.val, sent_tree.pos, sent_tree.mark)\n",
    "                    newNode.start = sent_tree.id\n",
    "                    newNode.end = sent_tree.id\n",
    "                    G.add_node(newNode)\n",
    "                    if (any(list(map(lambda x : sent_tree.pos is not None and x in sent_tree.pos, list(modified)))) \n",
    "                                                        or any(list(map(lambda x: pos is not None and x in pos, list(contents))))\n",
    "                                                            or pos == \"verb\"):\n",
    "                        if(pos in contents or pos == \"verb\"):\n",
    "                            # if(pos in G.root.nexts.keys()):\n",
    "                            #     print(G.root.nexts.keys())\n",
    "                            #     print(pos)\n",
    "                            #     print(\"Error occured in concentrating contents\")\n",
    "                            # else:\n",
    "                                G.add_edge(G.root,newNode)\n",
    "                                if(pos != \"nsubj\"):\n",
    "                                    G.addPair(newNode, counter.obj,\"obj\")\n",
    "                                    if(pos == \"verb\"):\n",
    "                                        counter.incrementO()\n",
    "                        for node in mods:\n",
    "                            #if(G.contains(sent_tree.val)):\n",
    "                                # loc = \"\"\n",
    "                                # if(sent_tree.npos in verbs):\n",
    "                                #     loc = \"verb\"\n",
    "                                # else:\n",
    "                                #     for key_cont in G.root.nexts.keys():\n",
    "                                #         if(key_cont != \"all\"):\n",
    "                                #             if(G.root.nexts[key_cont].word == sent_tree.val):\n",
    "                                #                 loc = key_cont\n",
    "                                #                 break\n",
    "                                G.add_edge(newNode, node)\n",
    "                        return newNode\n",
    "                    else:\n",
    "                        mods.add(newNode)\n",
    "                        return newNode\n",
    "            else: \n",
    "                if(any(list(map(lambda x: sent_tree.val is not None and x in sent_tree.val, list(contents))))):\n",
    "                    pos_left = sent_tree.val\n",
    "                    pos_right = pos\n",
    "                    if(\"nsubj\" in sent_tree.val):\n",
    "                        pos_right = \"verb\"\n",
    "                        pos_left = sent_tree.val[0:5]\n",
    "                    if(\"cop\" in sent_tree.val):\n",
    "                        pos_left = \"verb\"\n",
    "                        pos_right = \"obj\"\n",
    "                    if('conj' in sent_tree.val):\n",
    "                        mono2Graph_recur(sent_tree.left, G, set(), pos,counter)\n",
    "                        \n",
    "                        mono2Graph_recur(sent_tree.right, G, mods, pos,counter)\n",
    "                    elif(\"aux\" in sent_tree.val):\n",
    "                        mono2Graph_recur(sent_tree.right, G, mods, \"verb\",counter)\n",
    "                    elif(\"obj\" in sent_tree.val and pos != \"verb\"):\n",
    "                        right_result = mono2Graph_recur(sent_tree.right, G, set(), \"Prime\",counter)\n",
    "                        if(right_result is not None):\n",
    "                            mods.add(right_result)\n",
    "                        mono2Graph_recur(sent_tree.left, G, mods, pos_left, counter)\n",
    "                    else:\n",
    "                        mono2Graph_recur(sent_tree.left, G,set(),pos_left,counter)\n",
    "                        mono2Graph_recur(sent_tree.right, G, mods, pos_right,counter)\n",
    "                elif(any(list(map(lambda x: sent_tree.val is not None and x in sent_tree.val, list(offFocus))))):\n",
    "                    mono2Graph_recur(sent_tree.right, G, mods, pos,counter)\n",
    "    #if(needleft):\n",
    "    #    mono2Graph_recur(sent_tree.left, G, mods)\n",
    "    #if(needright):\n",
    "    #    mono2Graph_recur(sent_tree.right, G, mods)"
   ]
  },
  {
   "cell_type": "code",
   "execution_count": null,
   "metadata": {},
   "outputs": [],
   "source": [
    "#def mono2Graph_categorize(sent_tree, G, root):\n",
    "    "
   ]
  },
  {
   "cell_type": "code",
   "execution_count": null,
   "metadata": {},
   "outputs": [],
   "source": [
    "# def find_nearest_belongTo(sent_tree, G, content_mark):\n",
    "#     if(sent_tree == \"N\"):\n",
    "#         print(\"Seems to have a parsing or binarization error\")\n",
    "#         return \"\", -2\n",
    "#     if(sent_tree.npos == None):\n",
    "#         if(sent_tree.val == \"compound\"):\n",
    "#             comp_node = sent_tree.left.val + \" \" + sent_tree.right.val\n",
    "#             if(comp_node in G.['dict'].keys()):\n",
    "#                 print(comp_node)\n",
    "#                 #G.nodes[\"C1\"]['dict'].update({comp_node: content_mark})\n",
    "\n",
    "#             return sent_tree, 2\n",
    "#         return find_nearest_belongTo(sent_tree.right,G,content_mark)\n",
    "\n",
    "#     elif (sent_tree.npos in modified or sent_tree.val in {\"this\", \"these\", \"there\", \"that\"} ):\n",
    "#         if(sent_tree.parent.val in contents):\n",
    "#             key = sent_tree.val\n",
    "#             #print(sent_tree.val)\n",
    "#             G.nodes[\"C1\"]['dict'].update({key: sent_tree.parent.val})\n",
    "#         return sent_tree, 1\n",
    "#     else: \n",
    "#         print(sent_tree.val)\n",
    "#         return \"\", -1"
   ]
  },
  {
   "cell_type": "code",
   "execution_count": 26,
   "metadata": {},
   "outputs": [],
   "source": [
    "#graph_out1 = mono2Graph(results[0])\n",
    "#graph_out2 = mono2Graph(results[0])\n",
    "#print(graph_out2.graph.nodes['obl:tmod'])\n",
    "#nx.draw(graph_out2.graph, with_labels=True,center=\"C1\")"
   ]
  },
  {
   "cell_type": "code",
   "execution_count": 27,
   "metadata": {},
   "outputs": [
    {
     "data": {
      "text/plain": [
       "False"
      ]
     },
     "execution_count": 27,
     "metadata": {},
     "output_type": "execute_result"
    }
   ],
   "source": [
    "\"compound\" == (\"a\" or \"compound\" )"
   ]
  },
  {
   "cell_type": "code",
   "execution_count": 234,
   "metadata": {},
   "outputs": [
    {
     "name": "stdout",
     "output_type": "stream",
     "text": [
      "verb\n",
      "nsubj\n",
      "obj\n",
      "{ verb: { The 2 layer: swims{ The 3 layer: exercise{ The 4 layer: to}}} nsubj: { The 2 layer: person{ The 3 layer: the}} }\n",
      "verb\n",
      "nsubj\n",
      "obj\n",
      "{ verb: { The 2 layer: studys{ The 3 layer: noon{ The 4 layer: at}}} nsubj: { The 2 layer: person{ The 3 layer: the}} obj: { The 2 layer: exam{ The 3 layer: to}{ The 3 layer: take}{ The 3 layer: an}} }\n",
      "verb\n",
      "nsubj\n",
      "obj\n"
     ]
    },
    {
     "data": {
      "image/png": "[encoded data removed]",
      "text/plain": [
       "<IPython.core.display.Image object>"
      ]
     },
     "metadata": {},
     "output_type": "display_data"
    },
    {
     "name": "stdout",
     "output_type": "stream",
     "text": [
      "verb\n",
      "nsubj\n",
      "obj\n"
     ]
    },
    {
     "data": {
      "image/png": "[encoded data removed]",
      "text/plain": [
       "<IPython.core.display.Image object>"
      ]
     },
     "metadata": {},
     "output_type": "display_data"
    },
    {
     "name": "stdout",
     "output_type": "stream",
     "text": [
      "dict_keys(['verb', 'nsubj', 'obj'])\n"
     ]
    }
   ],
   "source": [
    "G1 = mono2Graph(results_tree[0])\n",
    "G2 = mono2Graph(results_tree[1])\n",
    "#print(results_tree[0].left)\n",
    "#print(results_tree[0].left.left is None)\n",
    "printUgraph_inText(G1)\n",
    "printUgraph_inText(G2)\n",
    "jupyter_draw_nltk_tree(Tree.fromstring(G1.get_magicText()))\n",
    "jupyter_draw_nltk_tree(Tree.fromstring(G2.get_magicText()))\n",
    "print(G.root.nexts.keys())"
   ]
  },
  {
   "cell_type": "code",
   "execution_count": 29,
   "metadata": {},
   "outputs": [],
   "source": [
    "def check_alignment(graph1, graph2):\n",
    "    return check_alignByRoot(graph1.root, graph2.root)"
   ]
  },
  {
   "cell_type": "code",
   "execution_count": 30,
   "metadata": {},
   "outputs": [],
   "source": [
    "def check_alignByRoot(root1, root2):\n",
    "    for cont in {\"nsubj\", \"verb\", \"obj\"}:\n",
    "        if(not(check_cont(root1, root2, cont))):\n",
    "            print(cont)\n",
    "            return \"UnAligned\"\n",
    "    return \"Aligned\"  "
   ]
  },
  {
   "cell_type": "code",
   "execution_count": 31,
   "metadata": {},
   "outputs": [],
   "source": [
    "def check_cont(root1, root2, cont):\n",
    "    core1 = root1.nexts[cont]\n",
    "    core2 = root2.nexts[cont]\n",
    "    return depth_check(core1, core2)\n"
   ]
  },
  {
   "cell_type": "code",
   "execution_count": 32,
   "metadata": {},
   "outputs": [],
   "source": [
    "def depth_check(node1, node2):\n",
    "    if(node1.isRoot and node2.isRoot):\n",
    "        return check_alignByRoot(node1, node2)\n",
    "    if(node1.isRoot or node2.isRoot):\n",
    "        return compare_nodeGraph(node1, node2)\n",
    "    if(node1.pos != node2.pos and not(node1.pos in verbs and node2.pos in verbs)): \n",
    "        #currently on lexical level of comparison\n",
    "        print(1)\n",
    "        return False\n",
    "    # if(len(node1.nexts[\"all\"]) != len(node2.nexts[\"all\"])):\n",
    "    #     #currently only caring about equal numebr of qualifiers\n",
    "    #     print(2)\n",
    "    #     return False\n",
    "    if(node1.mark != node2.mark):\n",
    "        #currently only caring about same mark\n",
    "        print(\"node with\" + \" \" + node1.word + \" \" + node1.mark)\n",
    "        print(\"node with\" + \" \" + node2.word + \" \" + node2.mark)\n",
    "        print(3)\n",
    "        return False\n",
    "    if((find_relation(node1.word, node2.word, node1.pos) not in mark_toProp[node1.mark]) and node1.word != node2.word):\n",
    "        print(\"node with\" + \" \" + node1.word + \" \" + node1.mark)\n",
    "        print(\"node with\" + \" \" + node2.word + \" \" + node2.mark)\n",
    "        print(find_relation(node1.word, node2.word, node1.pos))\n",
    "        print(4)\n",
    "        return False\n",
    "    for next1 in node1.nexts[\"all\"]:\n",
    "        corr_found = False\n",
    "        for next2 in node2.nexts[\"all\"]:\n",
    "            if(next1.word == \"Root\"):\n",
    "                print(next2.word)\n",
    "            if(depth_check(next1, next2)):\n",
    "                corr_found = True\n",
    "                break\n",
    "        if(not(corr_found)):\n",
    "            print(5)\n",
    "            print(next1.word)\n",
    "            return False\n",
    "    return True"
   ]
  },
  {
   "cell_type": "code",
   "execution_count": 158,
   "metadata": {
    "scrolled": false,
    "tags": []
   },
   "outputs": [
    {
     "name": "stdout",
     "output_type": "stream",
     "text": [
      "A group of friends are riding the current in a raft\n",
      "This group of people is practicing water safety and wearing preservers\n"
     ]
    },
    {
     "data": {
      "image/png": "[encoded data removed]",
      "text/plain": [
       "<IPython.core.display.Image object>"
      ]
     },
     "metadata": {},
     "output_type": "display_data"
    },
    {
     "data": {
      "image/png": "[encoded data removed]",
      "text/plain": [
       "<IPython.core.display.Image object>"
      ]
     },
     "metadata": {},
     "output_type": "display_data"
    },
    {
     "name": "stdout",
     "output_type": "stream",
     "text": [
      "verb\n",
      "nsubj\n",
      "obj\n",
      "((verb  (riding0(raft(a)(in))))(nsubj  (group(friends(of))(a)))(obj  (current0(the))))\n",
      "verb\n",
      "nsubj\n",
      "obj\n",
      "((verb  (wearing0) (practicing1))(nsubj  (group(this)(people(of))))(obj  (water-safety1) (preservers0)))\n",
      "verb\n",
      "nsubj\n",
      "obj\n"
     ]
    },
    {
     "data": {
      "image/png": "[encoded data removed]",
      "text/plain": [
       "<IPython.core.display.Image object>"
      ]
     },
     "metadata": {},
     "output_type": "display_data"
    },
    {
     "name": "stdout",
     "output_type": "stream",
     "text": [
      "verb\n",
      "nsubj\n",
      "obj\n"
     ]
    },
    {
     "data": {
      "image/png": "[encoded data removed]",
      "text/plain": [
       "<IPython.core.display.Image object>"
      ]
     },
     "metadata": {},
     "output_type": "display_data"
    },
    {
     "name": "stdout",
     "output_type": "stream",
     "text": [
      "verb\n",
      "nsubj\n",
      "obj\n",
      "{ verb: { The 2 layer: riding{ The 3 layer: raft{ The 4 layer: a}{ The 4 layer: in}}} nsubj: { The 2 layer: group{ The 3 layer: friends{ The 4 layer: of}}{ The 3 layer: a}} obj: { The 2 layer: current{ The 3 layer: the}} }\n",
      "verb\n",
      "nsubj\n",
      "obj\n",
      "{ verb: { The 2 layer: wearing} verb: { The 2 layer: practicing} nsubj: { The 2 layer: group{ The 3 layer: this}{ The 3 layer: people{ The 4 layer: of}}} obj: { The 2 layer: water-safety} obj: { The 2 layer: preservers} }\n"
     ]
    },
    {
     "data": {
      "text/plain": [
       "<function TextIOWrapper.close()>"
      ]
     },
     "execution_count": 158,
     "metadata": {},
     "output_type": "execute_result"
    }
   ],
   "source": [
    "file = open(\"../data/SICK/train.txt\", \"r\")\n",
    "lines = file.readlines()\n",
    "indexStart = 0\n",
    "output = []\n",
    "fileOut = open(\"./sickEntailment.txt\", \"w\")\n",
    "fileOut1 = open(\"./sickContradiction.txt\", \"w\")\n",
    "pipeline = PolarizationPipeline(verbose = 1)\n",
    "# results = []\n",
    "# results_tree = []\n",
    "# for sent in testExtract:\n",
    "#     tree = pipeline.single_polarization(sent)[\"polarized_tree\"]\n",
    "#     results_tree.append(tree)\n",
    "#     results.append(pipeline.postprocess(tree,\"\"))\n",
    "# print(results)\n",
    "i = 1\n",
    "testNum = 65\n",
    "for line in lines:\n",
    "    if(i==testNum):\n",
    "        # if(indexStart < 1):\n",
    "        #     indexStart = indexStart + 1\n",
    "        # else:\n",
    "        argArr = line.split(\"\\t\")\n",
    "        if(1):#argArr[4]==\"ENTAILMENT\\n\"):\n",
    "            #output.append(learn_variation(argArr[1], argArr[2], argArr[3], argArr[4][0:len(argArr[4])-2]))\n",
    "            print(argArr[1])\n",
    "            print(argArr[2])\n",
    "            tree1 = pipeline.single_polarization(argArr[1])[\"polarized_tree\"]\n",
    "            tree2 = pipeline.single_polarization(argArr[2])[\"polarized_tree\"]\n",
    "            visualize_tree(pipeline.postprocess(tree1,\"\"))\n",
    "            visualize_tree(pipeline.postprocess(tree2,\"\"))\n",
    "            graph1 = mono2Graph(tree1)\n",
    "            graph2 = mono2Graph(tree2)\n",
    "            print(graph1.get_magicText())\n",
    "            print(graph2.get_magicText())\n",
    "            jupyter_draw_nltk_tree(Tree.fromstring(graph1.get_magicText()))\n",
    "            jupyter_draw_nltk_tree(Tree.fromstring(graph2.get_magicText()))\n",
    "            printUgraph_inText(graph1)\n",
    "            printUgraph_inText(graph2)\n",
    "                \n",
    "            fileOut.write(line)\n",
    "        if(argArr[4] == \"CONTRADICTION\\n\"):\n",
    "            fileOut1.write(line)\n",
    "        \n",
    "    elif(i>testNum): \n",
    "        break\n",
    "    i+=1\n",
    "#print(output)\n",
    "file.close\n",
    "fileOut.close\n",
    "fileOut1.close"
   ]
  },
  {
   "cell_type": "code",
   "execution_count": 34,
   "metadata": {},
   "outputs": [],
   "source": [
    "def compare_nodeGraph(node, node2):\n",
    "    if(node.isRoot):\n",
    "        root = node\n",
    "        wordNode = node2\n",
    "    else:\n",
    "        root = node2\n",
    "        wordNode = node\n",
    "    if(root.nexts[\"verb\"].word in be_verbs):\n",
    "        \n",
    "        for adjs in {root.nexts[\"obj\"]}:\n",
    "            if(depth_check(wordNode, adjs)):\n",
    "                return True\n",
    "        return False"
   ]
  },
  {
   "cell_type": "code",
   "execution_count": 35,
   "metadata": {},
   "outputs": [],
   "source": [
    "def check_branch(node1, node2, label = \"all\"):\n",
    "    if(node1.word != node2.word or len(node1.nexts) != len(node2.nexts)):\n",
    "        return False\n",
    "    toRemove = set()\n",
    "    for next1 in node1.nexts[label]:\n",
    "        cor = False\n",
    "        for next2 in node2.nexts[label]:\n",
    "                if(next1.word == next2.word and check_branch(next1, next2)):\n",
    "                    cor = True\n",
    "                    node2.nexts[label].remove(next2)\n",
    "                    break\n",
    "        if(cor):\n",
    "            toRemove.add(next1)\n",
    "    #print(list(k.word for k in toRemove))\n",
    "    #print(list(k.word for k in node2.nexts[label]))\n",
    "    for item in toRemove:\n",
    "        node1.nexts[label].discard(item)\n",
    "    #node1.nexts[label] = node1.nexts[label]-toRemove\n",
    "    if(node1.nexts[label] == set() and node2.nexts[label] == set()):\n",
    "        return True\n",
    "    else:\n",
    "        \n",
    "        return False\n",
    "                    "
   ]
  },
  {
   "cell_type": "code",
   "execution_count": 36,
   "metadata": {},
   "outputs": [],
   "source": [
    "def extract_syntatic_var(node1, node2):\n",
    "   if (node2 == None):\n",
    "       return node1.getText(),-1\n",
    "   if (node1 == None):\n",
    "       return -1, node2.getText()\n",
    "   if(node1.nexts[\"all\"] == set() or node2.nexts[\"all\"] == set()):\n",
    "       return -1, -1\n",
    "   return node1.getText(), node2.getText()"
   ]
  },
  {
   "cell_type": "code",
   "execution_count": 37,
   "metadata": {},
   "outputs": [],
   "source": [
    "def learn_variation(sent1, sent2, score, rel):\n",
    "    graph1 = mono2Graph(sent1)\n",
    "    graph2 = mono2Graph(sent2)\n",
    "    printUgraph_inText(graph1)\n",
    "    printUgraph_inText(graph2)\n",
    "    root1 = graph1.root\n",
    "    root2 = graph2.root\n",
    "    for cont in root1.nexts.keys():\n",
    "        check_branch(root1, root2, cont)\n",
    "        fileOut = open(\"./\" + cont + \"SyntacticVar\" + \".txt\", \"w\")\n",
    "        list_ref1 = list(root1.nexts[cont])\n",
    "        list_ref2 = list(root2.nexts[cont])\n",
    "        size_iter = max(len(list_ref1), len(list_ref2))\n",
    "        line1 = dict()\n",
    "        line2 = dict()\n",
    "        for i in range(size_iter):\n",
    "            \n",
    "            result1, result2 = extract_syntatic_var(list_ref1[i] if i < len(list_ref1) else None, list_ref2[i] if i < len(list_ref2) else None)\n",
    "            if(result1 != -1):\n",
    "                if(list_ref1[i].word not in line1.keys()):\n",
    "                    line1[list_ref1[i].word] = set()\n",
    "                line1[list_ref1[i].word].add(result1)\n",
    "            if(result2 != -1):\n",
    "                if(list_ref2[i].word not in line2.keys()):\n",
    "                    line2[list_ref2[i].word] = set()\n",
    "                line2[list_ref2[i].word].add(result2)\n",
    "        print(line1,file=fileOut)\n",
    "        print(\"\\t\",file=fileOut)\n",
    "        print(line2,file=fileOut)\n",
    "        print(\"\\n\",file=fileOut)\n",
    "    printUgraph_inText(graph1)\n",
    "    printUgraph_inText(graph2)\n",
    "    return 2\n",
    "#Problem with \"and\" in main cores alignment\n",
    "#Problem with aligning different forms of the same word (i.e eat/eats, apple/apples, a/an)"
   ]
  },
  {
   "cell_type": "code",
   "execution_count": 38,
   "metadata": {},
   "outputs": [],
   "source": [
    "# def det_branch(graph1, graph2, label = \"all\"):\n",
    "#     for\n",
    "        "
   ]
  },
  {
   "cell_type": "code",
   "execution_count": 245,
   "metadata": {},
   "outputs": [],
   "source": [
    "def insert_byOrder(nodeList, totalList):\n",
    "    index = 0\n",
    "    for i in range(len(totalList)):\n",
    "        if(nodeList[-1].end < totalList[i][0].start):\n",
    "            break\n",
    "        index += 1\n",
    "    totalList.insert(index,nodeList)\n",
    "    return index"
   ]
  },
  {
   "cell_type": "code",
   "execution_count": null,
   "metadata": {},
   "outputs": [],
   "source": []
  },
  {
   "cell_type": "code",
   "execution_count": 246,
   "metadata": {},
   "outputs": [
    {
     "data": {
      "text/plain": [
       "[3]"
      ]
     },
     "execution_count": 246,
     "metadata": {},
     "output_type": "execute_result"
    }
   ],
   "source": [
    "A = [3]\n",
    "A[-1]\n",
    "A.insert(1,[3,5])\n",
    "A[0:1]"
   ]
  },
  {
   "cell_type": "code",
   "execution_count": 258,
   "metadata": {},
   "outputs": [],
   "source": [
    "def check_nodesForChunk(nodeList, center, total):\n",
    "    size = len(nodeList)\n",
    "    splitpos = [0,size]\n",
    "    for j in range(size -1):\n",
    "        if(nodeList[j][-1].end + 1 != nodeList[j+1][0].start):\n",
    "            if(j < center):\n",
    "                if(j >= splitpos[0]):\n",
    "                    splitpos[0] = j\n",
    "            else:\n",
    "                if((j+1) < splitpos[1]):\n",
    "                    splitpos[1] = j+1\n",
    "    outList = nodeList[splitpos[0]:splitpos[1]]\n",
    "    newList = []\n",
    "    for k in range(len(outList)):\n",
    "        for node in outList[k]:\n",
    "            newList.append(node)\n",
    "    total.append(newList)\n",
    "    return newList"
   ]
  },
  {
   "cell_type": "code",
   "execution_count": null,
   "metadata": {},
   "outputs": [],
   "source": []
  },
  {
   "cell_type": "code",
   "execution_count": 288,
   "metadata": {},
   "outputs": [],
   "source": [
    "def construct_sentence(root):\n",
    "    listNodes = list(root.nodes)\n",
    "    output = []\n",
    "    for k in range(len(root.nodes)):\n",
    "        index = 0\n",
    "        for i in range(len(output)):\n",
    "            if(listNodes[k].end < output[i].start):\n",
    "                break\n",
    "            index += 1\n",
    "        output.insert(index,listNodes[k])\n",
    "    return output"
   ]
  },
  {
   "cell_type": "code",
   "execution_count": 289,
   "metadata": {},
   "outputs": [],
   "source": [
    "def chunk_from_nodes(node, results):\n",
    "    if(node.isRoot):\n",
    "        make_chunks(node, results)\n",
    "        #considering chunks from clause unrelated to main clause now\n",
    "        output = construct_sentence(node)\n",
    "        results.append(output)\n",
    "        return output\n",
    "    if(node.nexts[\"all\"] == set()):\n",
    "        return [node]\n",
    "    ##sorting goes:\n",
    "    tempList = []\n",
    "    for nodeItem in node.nexts[\"all\"]:\n",
    "        result = chunk_from_nodes(nodeItem, results)\n",
    "        if(result is not None):\n",
    "            insert_byOrder(result, tempList)\n",
    "    center = insert_byOrder([node],tempList)\n",
    "    return check_nodesForChunk(tempList, center, results)\n",
    "    \n",
    "    "
   ]
  },
  {
   "cell_type": "code",
   "execution_count": 262,
   "metadata": {},
   "outputs": [],
   "source": [
    "def make_chunks(graph_or_root, results):\n",
    "    if(type(graph_or_root) is Ugraph):\n",
    "        root = graph_or_root.root\n",
    "    else:\n",
    "        root = graph_or_root\n",
    "    for cont in root.nexts.keys():\n",
    "        for contNode in root.nexts[cont]:\n",
    "            chunk_from_nodes(contNode, results)\n",
    "    outList = []\n",
    "    for nodeList in results:\n",
    "        tempStr = \"\"\n",
    "        for node in nodeList:\n",
    "            tempStr += node.word\n",
    "            tempStr += \" \"\n",
    "        outList.append(tempStr.rstrip())\n",
    "    return outList"
   ]
  },
  {
   "cell_type": "code",
   "execution_count": 305,
   "metadata": {
    "scrolled": false
   },
   "outputs": [
    {
     "name": "stdout",
     "output_type": "stream",
     "text": [
      "['a bowtie', 'wearing a bowtie', 'the pretty woman wearing a bowtie', 'to take an exercise', 'a pear']\n"
     ]
    },
    {
     "data": {
      "image/png": "[encoded data removed]",
      "text/plain": [
       "<IPython.core.display.Image object>"
      ]
     },
     "metadata": {},
     "output_type": "display_data"
    },
    {
     "name": "stdout",
     "output_type": "stream",
     "text": [
      "13\n",
      "10\n",
      "verb\n",
      "nsubj\n",
      "verb\n",
      "nsubj\n",
      "obj\n",
      "obj\n"
     ]
    },
    {
     "data": {
      "image/png": "[encoded data removed]",
      "text/plain": [
       "<IPython.core.display.Image object>"
      ]
     },
     "metadata": {},
     "output_type": "display_data"
    }
   ],
   "source": [
    "results = []\n",
    "gh1 = mono2Graph(results_tree[2])\n",
    "print(make_chunks(gh1, results))\n",
    "visualize_tree(pipeline.postprocess(results_tree[2],\"\"))\n",
    "print(results_tree[1].right.right.right.key)\n",
    "print(results_tree[1].right.right.left.left.key)\n",
    "\n",
    "jupyter_draw_nltk_tree(Tree.fromstring(gh1.get_magicText()))"
   ]
  },
  {
   "cell_type": "code",
   "execution_count": null,
   "metadata": {},
   "outputs": [],
   "source": [
    "print(\"s\" + None + \"test\")"
   ]
  },
  {
   "cell_type": "code",
   "execution_count": null,
   "metadata": {},
   "outputs": [],
   "source": [
    "def chunk_extract(graph1):\n",
    "    "
   ]
  },
  {
   "cell_type": "code",
   "execution_count": null,
   "metadata": {},
   "outputs": [],
   "source": [
    "test111 = [1,2,3]\n",
    "test222 = dict()\n",
    "test222[\"app\"] = [1,5]\n",
    "test222.toString()\n",
    "print(test222)\n",
    "#test111[4]\n",
    "print(0 if 1>0 else 1)"
   ]
  },
  {
   "cell_type": "code",
   "execution_count": null,
   "metadata": {},
   "outputs": [],
   "source": []
  },
  {
   "cell_type": "code",
   "execution_count": null,
   "metadata": {},
   "outputs": [],
   "source": [
    "learn_variation(results_tree[0], results_tree[2], 4.0, \"entailment\")"
   ]
  },
  {
   "cell_type": "code",
   "execution_count": 313,
   "metadata": {},
   "outputs": [],
   "source": [
    "def process_branch(node1, node2, label = \"all\"):\n",
    "    if(node1.isRoot == True and node2.isRoot == True and label == \"all\"):\n",
    "            noun,potentialNouns = process_branch(node1, node2, \"nsubj\")\n",
    "            verb,potentialVerbs = process_branch(node1, node2, \"verb\")\n",
    "            obj,potentialObjs = process_branch(node1, node2, \"obj\")\n",
    "            nodes = [node1, node2]\n",
    "            for i in range(2):\n",
    "                for toRmverb in potentialVerbs:\n",
    "                    for toRmobj in potentialObjs:\n",
    "                        if(toRmverb[i].pair == toRmobj[i].pair and toRmverb[i].pair != -1):\n",
    "                            nodes[i].nexts[\"verb\"].remove(toRmverb[i])\n",
    "                            nodes[i].nexts[\"obj\"].remove(toRmobj[i])\n",
    "            return noun and verb and obj, None\n",
    "    if(node1.isRoot != node2.isRoot):\n",
    "        print(\"Node relating in process_branch() breaks\")\n",
    "        return False,None\n",
    "    toRemove = set()\n",
    "    toRemoveContentWords = []\n",
    "    for next1 in node1.nexts[label]:\n",
    "        cor = False\n",
    "        \n",
    "        for next2 in node2.nexts[label]:\n",
    "                ###alignment of roots lacking\n",
    "                if((next1.isRoot == next2.isRoot) and (next1.isRoot or w2v_model.similarity(next1.word,next2.word) > 0.8)):\n",
    "                    tempBool, tempOut = process_branch(next1, next2)\n",
    "                    if(tempBool):\n",
    "                        if(label != \"all\"):\n",
    "\n",
    "                            toRemoveContentWords.append([next1,next2])\n",
    "                            break\n",
    "                        cor = True\n",
    "                        node2.nexts[label].remove(next2)\n",
    "                        break\n",
    "        if(cor):\n",
    "            toRemove.add(next1)\n",
    "    #print(list(k.word for k in toRemove))\n",
    "    #print(list(k.word for k in node2.nexts[label]))\n",
    "    for item in toRemove:\n",
    "        \n",
    "        node1.nexts[label].discard(item)\n",
    "    #node1.nexts[label] = node1.nexts[label]-toRemove\n",
    "    if(node1.nexts[label] == set() and node2.nexts[label] == set()):\n",
    "        return True,toRemoveContentWords\n",
    "    else:\n",
    "        \n",
    "        return False,toRemoveContentWords"
   ]
  },
  {
   "cell_type": "code",
   "execution_count": 293,
   "metadata": {},
   "outputs": [],
   "source": [
    "def getRootNodes(node):\n",
    "    output = set()\n",
    "    for root in node.nexts[\"all\"]:\n",
    "        if(root.isRoot):\n",
    "            output.add(root)\n",
    "    return output"
   ]
  },
  {
   "cell_type": "code",
   "execution_count": 294,
   "metadata": {},
   "outputs": [],
   "source": [
    "def check_differenceOld(node1, node2, ranks):\n",
    "    #indexs: 0->lexical 1->phrasal 2->syntatic variation 3->implicative\n",
    "    if(not node1.isRoot and not node2.isRoot):\n",
    "        roots1 = getRootNodes(node1)\n",
    "        roots2 = getRootNodes(node2)\n",
    "        rootPassed = set()\n",
    "        for root1 in roots1:\n",
    "            for root2 in roots2:\n",
    "                outRank = control_direct(root1, root2)[1]\n",
    "                ranks += outRank\n",
    "                node2.nexts[\"all\"].remove(root2)\n",
    "                rootPassed.add(root1)\n",
    "                break\n",
    "        for passedRoot in rootPassed:\n",
    "            roots1.remove(passedRoot)\n",
    "    \n",
    "    for nextNode1 in node1.nexts[\"all\"]:\n",
    "        \n",
    "        related = []\n",
    "        \n",
    "        if(node2.nexts[\"all\"] == set()):\n",
    "            if(nextNode1.isRoot):\n",
    "                ranks[2] += 1\n",
    "            else:\n",
    "                ranks[nextNode1.nexts[\"all\"] != set()] += 1\n",
    "            continue\n",
    "        for nextNode2 in node2.nexts[\"all\"]:\n",
    "            #print(nextNode2.nexts)\n",
    "            if_related = False\n",
    "            if(nextNode1.isRoot != nextNode2.isRoot):\n",
    "                if_related = True\n",
    "                ranks[2] += 1\n",
    "                break\n",
    "            if(nextNode1.nexts[\"all\"] == set() and nextNode2.nexts[\"all\"] == set()):\n",
    "               \n",
    "                if_related = True\n",
    "                if(nextNode1.word == nextNode2.word):\n",
    "                    ranks[0] += 1\n",
    "                break\n",
    "            related.append(nextNode2)\n",
    "        if(if_related):\n",
    "            node2.nexts[\"all\"].remove(nextNode2)\n",
    "            related = []\n",
    "        if(related != []):\n",
    "            alignedNode = related[0]\n",
    "            if(nextNode1.nexts[\"all\"] == set()):\n",
    "                ranks[2] += 1\n",
    "            else:\n",
    "                if(related[0].nexts[\"all\"] == set()):\n",
    "                    ranks[2] += 1\n",
    "                else:\n",
    "                    next_set = [0] * 4\n",
    "                    check_difference(nextNode1, alignedNode, next_set)\n",
    "                    sum = sum(next_set)\n",
    "                    if(sum > 1):\n",
    "                        if(nextNode1.word != alignedNode.word):\n",
    "                            ranks[2] += 1\n",
    "                        else:\n",
    "                            ranks[1] += 1\n",
    "                    elif((sum == 1) != (nextNode1.word != alignedNode.word)):\n",
    "                        ranks[0] += 1\n",
    "                    elif(sum ==1):\n",
    "                        ranks[1] += 1 ##or simply ranks[0] += 2\n",
    "                    else:\n",
    "                        print(\"Error in check_difference because of process_branch\")\n",
    "                node2.nexts[\"all\"].remove(related[0])\n",
    "    if(node2.nexts[\"all\"] != set()):\n",
    "        for node2_left in node2.nexts[\"all\"]:\n",
    "            if(node2_left.isRoot):\n",
    "                ranks[2] += 1\n",
    "            else:\n",
    "                ranks[node2_left.nexts[\"all\"] != set()] += 1\n",
    "        \n"
   ]
  },
  {
   "cell_type": "code",
   "execution_count": 295,
   "metadata": {},
   "outputs": [],
   "source": [
    "def cal_sim_nodes(node1, node2, prop = 1.0):\n",
    "    #node1,node2 both sets or both nodes\n",
    "    ###not considering root with root case\n",
    "    if(type(node1) is not set and type(node2) is not set and (node1.isRoot or node2.isRoot)):\n",
    "        return 0\n",
    "    if(type(node1) is set):\n",
    "        set1 = node1\n",
    "    else:\n",
    "        set1 = node1.nexts[\"all\"]\n",
    "    if(type(node2) is set):\n",
    "        set2 = node2\n",
    "    else:\n",
    "        set2 = node2.nexts[\"all\"]\n",
    "    if(set1 == set() or set2 == set()):\n",
    "        if(type(node1) is not set):\n",
    "            return prop * w2v_model.similarity(node1.word, node2.word)\n",
    "        return 0\n",
    "    nextSizes = min(len(set1), len(set2))\n",
    "    tracked = set()\n",
    "    outputRank = 0\n",
    "    for nodeNext1 in set1:\n",
    "        tempMax = [None, 0]\n",
    "        for nodeNext2 in set2:\n",
    "            if nodeNext2 not in tracked:\n",
    "                rank = cal_sim_nodes(nodeNext1, nodeNext2, prop*0.4/nextSizes)\n",
    "                if(rank >= tempMax[1]):\n",
    "                    tempMax[0] = nodeNext2\n",
    "                    tempMax[1] = rank\n",
    "        if(tempMax[0] is None):\n",
    "            break\n",
    "        tracked.add(tempMax[0])\n",
    "        outputRank += tempMax[1]\n",
    "    if(type(node1) is set):\n",
    "        return outputRank\n",
    "    return 0.6*prop*w2v_model.similarity(node1.word, node2.word) + outputRank\n",
    "        \n",
    "        "
   ]
  },
  {
   "cell_type": "code",
   "execution_count": 321,
   "metadata": {},
   "outputs": [],
   "source": [
    "def check_difference(node1, node2, ranks,pos = \"all\"):\n",
    "    #indexs: 0->lexical 1->phrasal 2->syntatic variation 3->implicative\n",
    "    #currently not experted on how a node might be aligned to a root node\n",
    "    if(not node1.isRoot and not node2.isRoot):\n",
    "        roots1 = getRootNodes(node1)\n",
    "        roots2 = getRootNodes(node2)\n",
    "        rootPassed = set()\n",
    "        rootPassed1 = set()\n",
    "        for root1 in roots1:\n",
    "            tempMaxRoot = [None, 0]\n",
    "            for root2 in roots2:\n",
    "                if(root2 not in rootPassed):\n",
    "                    rank3 = cal_sim_nodes(root1, root2)\n",
    "                    if(rank3 >= tempMaxRoot[1]):\n",
    "                        tempMaxRoot[0] = root2\n",
    "                        tempMaxRoot[1] = rank3\n",
    "            if(tempMaxRoot[0] is not None):\n",
    "                rootPassed.add(tempMaxRoot[0])\n",
    "                outRank = control_direct(root1, root2)[1]\n",
    "                for i in range(len(outRank)):\n",
    "                    ranks[i] += outRank[i]\n",
    "            else:\n",
    "                rootPassed1.add(root1)\n",
    "                break\n",
    "            rootPassed1.add(root1)\n",
    "        for passedRoot in rootPassed:\n",
    "            print(pos)\n",
    "            print(list({itemTemp.word:1 for itemTemp in node1.nexts[pos]}))\n",
    "            print(passedRoot.word)\n",
    "            node2.nexts[pos].remove(passedRoot)\n",
    "        for root1 in rootPassed1:\n",
    "            node1.nexts[pos].remove(root1)\n",
    "    \n",
    "    nextSizes = min(len(node1.nexts[pos]), len(node2.nexts[pos]))\n",
    "    tracked = set()\n",
    "    \n",
    "    for nextNode1 in node1.nexts[pos]:\n",
    "        \n",
    "        related = []\n",
    "        if(nextNode1.isRoot):\n",
    "            continue\n",
    "        if(node2.nexts[pos] == set()):\n",
    "            if(nextNode1.isRoot):\n",
    "                ranks[2] += 1\n",
    "            else:\n",
    "                ranks[1] += 1\n",
    "            continue\n",
    "        tempMax = [None, 0]\n",
    "        for nextNode2 in node2.nexts[pos]:\n",
    "            if nextNode2 not in tracked and not nextNode2.isRoot:\n",
    "                rank = cal_sim_nodes(nextNode1, nextNode2, 0.4/nextSizes)\n",
    "                if(rank >= tempMax[1]):\n",
    "                    tempMax[0] = nextNode2\n",
    "                    tempMax[1] = rank\n",
    "        if(tempMax[0] is None):\n",
    "            ###not mapping node and root node here\n",
    "            \n",
    "            for nodeRoot in node2.nexts[pos]:\n",
    "                if(nodeRoot not in trakced):\n",
    "                    root2 = nodeRoot\n",
    "                    break\n",
    "            ranks[2] += 1\n",
    "            tracked.add(root2)\n",
    "            break\n",
    "        tracked.add(tempMax[0])\n",
    "        alignedNode = tempMax[0]\n",
    "        \n",
    "        if(nextNode1.nexts[\"all\"] == set()):\n",
    "            ranks[alignedNode.nexts[\"all\"] != set()] += 1\n",
    "            \n",
    "        else:\n",
    "            if(alignedNode.nexts[\"all\"] == set()):\n",
    "                ranks[nextNode1.nexts[\"all\"] != set()] += 1                    \n",
    "            else:\n",
    "                next_set = [0] * 4\n",
    "                check_difference(nextNode1, alignedNode, next_set)\n",
    "                #if(nextNode1.word == \"woman\"):\n",
    "\n",
    "                    #print(\"At node with word(woman): \")\n",
    "                    #print(len(node1.nexts[pos]))\n",
    "                    #print(next_set)\n",
    "                    #print(len(node2.nexts[pos]))\n",
    "                sumOut = sum(next_set)\n",
    "                if(sumOut > 1):\n",
    "                    if(nextNode1.word != alignedNode.word):\n",
    "                        ##node words not equal and descendents some are different\n",
    "                        ranks[2] += 1\n",
    "                    else:\n",
    "                        ranks[1] += 1\n",
    "                elif((next_set[0] == 1 and nextNode1.word == alignedNode.word) or \n",
    "                    (sumOut == 0 and nextNode1.word != alignedNode.word)):\n",
    "                    ranks[0] += 1\n",
    "                elif(sumOut ==1):\n",
    "                    ranks[1] += 1 ##or simply ranks[0] += 2\n",
    "                else:\n",
    "                    print(sumOut)\n",
    "                    print(nextNode1.word)\n",
    "                    print(alignedNode.word)\n",
    "                    \n",
    "                    print(\"Error in check_difference because of process_branch\")\n",
    "        \n",
    "    if(len(node2.nexts[pos]) != len(tracked)):\n",
    "        for node2_left in node2.nexts[pos]:\n",
    "            if(node2_left not in tracked):\n",
    "                if(node2_left.isRoot):\n",
    "                    ranks[2] += 1\n",
    "                else:\n",
    "                    ranks[1] += 1"
   ]
  },
  {
   "cell_type": "code",
   "execution_count": 306,
   "metadata": {},
   "outputs": [],
   "source": [
    "def control_direct(sent1, sent2, isRoot = True):\n",
    "    if(not(isRoot)):\n",
    "        graph1 = mono2Graph(sent1)  \n",
    "        graph2 = mono2Graph(sent2)\n",
    "        root1 = graph1.root\n",
    "        root2 = graph2.root\n",
    "    else:\n",
    "        root1 = sent1\n",
    "        root2 = sent2\n",
    "        \n",
    "    diffs = [0] * 4\n",
    "    process_branch(root1, root2)\n",
    "    check_difference(root1, root2, diffs, \"nsubj\")\n",
    "    \n",
    "    tracked = set()\n",
    "    for verbNode1 in root1.nexts[\"verb\"]:         \n",
    "        tempMax = [None, 0]\n",
    "        for verbNode2 in root2.nexts[\"verb\"]:\n",
    "            if verbNode2 not in tracked:\n",
    "                print(verbNode1.word)\n",
    "                print(verbNode2.word)\n",
    "                rank = cal_sim_nodes(verbNode1, verbNode2, 0.6) + cal_sim_nodes(verbNode1.getParts(), verbNode2.getParts(), 0.4)\n",
    "                if(rank >= tempMax[1]):\n",
    "                    tempMax[0] = verbNode2\n",
    "                    tempMax[1] = rank\n",
    "        if(tempMax[0] is None):\n",
    "            if(verbNode1.isRoot):\n",
    "                diffs[2] += 1\n",
    "            else:\n",
    "                diffs[1] += 1\n",
    "            continue\n",
    "        tracked.add(tempMax[0])\n",
    "        check_difference(verbNode1, tempMax[0], diffs)\n",
    "        ###only check the first obj node with verb now\n",
    "        if(verbNode1.getParts() != set() and verbNode2.getParts() != set()):\n",
    "            check_difference(next(iter(verbNode1.getParts())), next(iter(tempMax[0].getParts())), diffs)\n",
    "            ##print(\"AfterObj:\")\n",
    "            ##print(diffs)\n",
    "    if(len(root2.nexts[\"verb\"]) != len(tracked)):\n",
    "        for node2_left in root2.nexts[\"verb\"]:\n",
    "            if(node2_left not in tracked):\n",
    "                if(node2_left.isRoot):\n",
    "                    diffs[2] += 1\n",
    "                else:\n",
    "                    diffs[1] += 1\n",
    "    return [directions[diffs.index(max(diffs))] ,diffs]"
   ]
  },
  {
   "cell_type": "code",
   "execution_count": null,
   "metadata": {},
   "outputs": [],
   "source": [
    "for i in range(3):\n",
    "   test = 1\n",
    "print(test) "
   ]
  },
  {
   "cell_type": "code",
   "execution_count": 298,
   "metadata": {},
   "outputs": [],
   "source": [
    "w2v_model = api.load(\"glove-wiki-gigaword-50\")"
   ]
  },
  {
   "cell_type": "code",
   "execution_count": 308,
   "metadata": {},
   "outputs": [
    {
     "data": {
      "text/plain": [
       "0.906528"
      ]
     },
     "execution_count": 308,
     "metadata": {},
     "output_type": "execute_result"
    }
   ],
   "source": [
    "w2v_model.similarity(\"girl\", \"woman\")"
   ]
  },
  {
   "cell_type": "code",
   "execution_count": 320,
   "metadata": {
    "scrolled": false
   },
   "outputs": [
    {
     "name": "stdout",
     "output_type": "stream",
     "text": [
      "The beautiful girl who is wearing a bowtie and sitting on the chair eats a pretty pear\n",
      "The pretty woman wearing a bowtie eats a pear\n",
      "0.88336843\n"
     ]
    },
    {
     "data": {
      "image/png": "[encoded data removed]",
      "text/plain": [
       "<IPython.core.display.Image object>"
      ]
     },
     "metadata": {},
     "output_type": "display_data"
    },
    {
     "data": {
      "image/png": "[encoded data removed]",
      "text/plain": [
       "<IPython.core.display.Image object>"
      ]
     },
     "metadata": {},
     "output_type": "display_data"
    },
    {
     "name": "stdout",
     "output_type": "stream",
     "text": [
      "verb\n",
      "nsubj\n",
      "verb\n",
      "nsubj\n",
      "obj\n",
      "obj\n"
     ]
    },
    {
     "data": {
      "image/png": "[encoded data removed]",
      "text/plain": [
       "<IPython.core.display.Image object>"
      ]
     },
     "metadata": {},
     "output_type": "display_data"
    },
    {
     "name": "stdout",
     "output_type": "stream",
     "text": [
      "verb\n",
      "nsubj\n",
      "verb\n",
      "nsubj\n",
      "obj\n",
      "obj\n"
     ]
    },
    {
     "data": {
      "image/png": "[encoded data removed]",
      "text/plain": [
       "<IPython.core.display.Image object>"
      ]
     },
     "metadata": {},
     "output_type": "display_data"
    },
    {
     "name": "stdout",
     "output_type": "stream",
     "text": [
      "RESULT:\n",
      "all\n",
      "['Root', 'beautiful']\n",
      "Root\n",
      "At node with word(woman): \n",
      "eats\n",
      "eats\n",
      "[0, 1, 1, 0]\n",
      "ABOVE IS RESULT\n"
     ]
    }
   ],
   "source": [
    "#print(control_direct(results_tree[0], results_tree[1],False))\n",
    "print(testExtract[0])\n",
    "print(testExtract[1])\n",
    "\n",
    "\n",
    "print(w2v_model.similarity('car','vehicle'))\n",
    "\n",
    "tree1 = pipeline.single_polarization(testExtract[0])[\"polarized_tree\"]\n",
    "tree2 = pipeline.single_polarization(testExtract[1])[\"polarized_tree\"]\n",
    "jupyter_draw_nltk_tree(Tree.fromstring(pipeline.postprocess(tree1,\"\").replace('[', '(').replace(']', ')')))\n",
    "jupyter_draw_nltk_tree(Tree.fromstring(pipeline.postprocess(tree2,\"\").replace('[', '(').replace(']', ')')))\n",
    "g1 = mono2Graph(tree1)\n",
    "g2 = mono2Graph(tree2)\n",
    "process_branch(g1.root,g2.root)\n",
    "jupyter_draw_nltk_tree(Tree.fromstring(g1.get_magicText()))\n",
    "jupyter_draw_nltk_tree(Tree.fromstring(g2.get_magicText()))\n",
    "print(\"RESULT:\")\n",
    "print(control_direct(tree1, tree2,False)[1])\n",
    "print(\"ABOVE IS RESULT\")\n",
    "\n"
   ]
  },
  {
   "cell_type": "code",
   "execution_count": null,
   "metadata": {},
   "outputs": [],
   "source": [
    "print(w2v_model.similarity(\"fruit\", \"banana\"))\n",
    "print(w2v_model.similarity( \"apple\", \"banana\"))\n",
    "w2v_model.similarity(\"fruit\",\"apple\")"
   ]
  },
  {
   "cell_type": "code",
   "execution_count": null,
   "metadata": {},
   "outputs": [],
   "source": [
    "dict1 = {1:\"2\"}\n",
    "dict1[1]"
   ]
  },
  {
   "cell_type": "code",
   "execution_count": null,
   "metadata": {},
   "outputs": [],
   "source": [
    "A = {2,4}\n",
    "print(i for i in A)\n",
    "B = [3,5]\n",
    "B[1!=0] += 1\n",
    "print(B)"
   ]
  },
  {
   "cell_type": "code",
   "execution_count": null,
   "metadata": {},
   "outputs": [],
   "source": [
    "list({None, 5})"
   ]
  },
  {
   "cell_type": "code",
   "execution_count": null,
   "metadata": {},
   "outputs": [],
   "source": []
  },
  {
   "cell_type": "code",
   "execution_count": null,
   "metadata": {},
   "outputs": [],
   "source": [
    "test1 = Unode(\"root\", \"root\", \"root\", \"root\")\n",
    "testSet = set()\n",
    "testSet.add(test1)\n",
    "testSet.remove(test1)\n",
    "testSet"
   ]
  },
  {
   "cell_type": "code",
   "execution_count": null,
   "metadata": {},
   "outputs": [],
   "source": [
    "#get_word_sets(\"car\",\"hypernym\")"
   ]
  },
  {
   "cell_type": "code",
   "execution_count": null,
   "metadata": {
    "scrolled": true
   },
   "outputs": [],
   "source": [
    "check_alignment(G1, G2)"
   ]
  },
  {
   "cell_type": "code",
   "execution_count": null,
   "metadata": {},
   "outputs": [],
   "source": [
    "ae = set()\n",
    "def return1(i):\n",
    "    return\n",
    "ae.add(return1(2))\n",
    "ae"
   ]
  },
  {
   "cell_type": "code",
   "execution_count": null,
   "metadata": {},
   "outputs": [],
   "source": []
  },
  {
   "cell_type": "code",
   "execution_count": null,
   "metadata": {},
   "outputs": [],
   "source": [
    "find_relation(\"woman\", \"lady\", \"nn\")"
   ]
  },
  {
   "cell_type": "code",
   "execution_count": null,
   "metadata": {},
   "outputs": [],
   "source": []
  },
  {
   "cell_type": "code",
   "execution_count": null,
   "metadata": {},
   "outputs": [],
   "source": [
    "find_relation(\"people\",\"person\",'nn')"
   ]
  },
  {
   "cell_type": "code",
   "execution_count": null,
   "metadata": {},
   "outputs": [],
   "source": [
    "if(1==0):\n",
    "    t = 3\n",
    "else:\n",
    "    t = 5\n",
    "print(t)"
   ]
  },
  {
   "cell_type": "code",
   "execution_count": null,
   "metadata": {},
   "outputs": [],
   "source": [
    "None == None"
   ]
  },
  {
   "cell_type": "code",
   "execution_count": null,
   "metadata": {},
   "outputs": [],
   "source": []
  }
 ],
 "metadata": {
  "kernelspec": {
   "display_name": "Python 3",
   "language": "python",
   "name": "python3"
  },
  "language_info": {
   "codemirror_mode": {
    "name": "ipython",
    "version": 3
   },
   "file_extension": ".py",
   "mimetype": "text/x-python",
   "name": "python",
   "nbconvert_exporter": "python",
   "pygments_lexer": "ipython3",
   "version": "3.7.6"
  }
 },
 "nbformat": 4,
 "nbformat_minor": 2
}
