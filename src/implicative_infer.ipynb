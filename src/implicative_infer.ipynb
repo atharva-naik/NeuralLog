{
 "metadata": {
  "language_info": {
   "codemirror_mode": {
    "name": "ipython",
    "version": 3
   },
   "file_extension": ".py",
   "mimetype": "text/x-python",
   "name": "python",
   "nbconvert_exporter": "python",
   "pygments_lexer": "ipython3",
   "version": "3.7.9-final"
  },
  "orig_nbformat": 2,
  "kernelspec": {
   "name": "python3",
   "display_name": "Python 3",
   "language": "python"
  }
 },
 "nbformat": 4,
 "nbformat_minor": 2,
 "cells": [
  {
   "cell_type": "code",
   "execution_count": 1,
   "metadata": {},
   "outputs": [
    {
     "output_type": "stream",
     "name": "stderr",
     "text": [
      "2020-12-21 22:07:44 INFO: Loading these models for language: en (English):\n",
      "=========================\n",
      "| Processor | Package   |\n",
      "-------------------------\n",
      "| tokenize  | gum       |\n",
      "| pos       | gum       |\n",
      "| lemma     | gum       |\n",
      "| depparse  | gum       |\n",
      "| ner       | ontonotes |\n",
      "=========================\n",
      "\n",
      "2020-12-21 22:07:44 INFO: Use device: gpu\n",
      "2020-12-21 22:07:44 INFO: Loading: tokenize\n",
      "2020-12-21 22:07:48 INFO: Loading: pos\n",
      "2020-12-21 22:07:50 INFO: Loading: lemma\n",
      "2020-12-21 22:07:50 INFO: Loading: depparse\n",
      "2020-12-21 22:07:52 INFO: Loading: ner\n",
      "2020-12-21 22:07:53 INFO: Done loading processors!\n"
     ]
    }
   ],
   "source": [
    "from database import *\n",
    "from pattern.en import conjugate, lemma, lexeme, PAST, SG, PRESENT\n",
    "\n",
    "from Udep2Mono.binarization import BinaryDependencyTree\n",
    "from Udep2Mono import polarization\n",
    "from Udep2Mono.util import btreeToList\n",
    "from copy import deepcopy"
   ]
  },
  {
   "cell_type": "code",
   "execution_count": 2,
   "metadata": {},
   "outputs": [],
   "source": [
    "class ImplicativeGenerator:\n",
    "    def __init__(self, length, kb, tree):\n",
    "        self.kb = kb\n",
    "        self.treeLog = []\n",
    "        self.polarLog = []\n",
    "        self.deptree = tree\n",
    "        self.length = length\n",
    "\n",
    "    def find_verbs(self, postags):\n",
    "        verbs = []\n",
    "        for word in postags:\n",
    "            if 'VB' in postags[word][1]:\n",
    "                verbs.append((word, postags[word][0]))\n",
    "        return verbs\n",
    "    \n",
    "    def fix_tense(self, verb, pos):\n",
    "        if pos == \"VBD\":\n",
    "            return conjugate(verb=verb, tense=PAST, person=1)\n",
    "        elif pos == \"VBZ\":\n",
    "            return conjugate(verb=verb, tense=PRESENT, person=3)\n",
    "        else:\n",
    "            return verb\n",
    "\n",
    "    def search(self):\n",
    "        #verbs = self.find_verbs(postags)\n",
    "        self.generate(self.deptree)\n",
    "\n",
    "    \n",
    "    def save_tree(self, tree=None):\n",
    "        if tree is not None:\n",
    "            generated, _, _, _ = btreeToList(tree, self.length, {}, 0)\n",
    "        else:\n",
    "            generated, _, _, _ = btreeToList(self.deptree, self.length, {}, 0)\n",
    "        generated = '[%s]' % ', '.join(map(str, generated)).replace(\"'\", \"\")\n",
    "        generated = generated.replace(\",\", \"\")\n",
    "        print(\"New tree: \", generated)\n",
    "\n",
    "        if tree is not None:\n",
    "            return deepcopy(self.deptree)\n",
    "        else:\n",
    "            return deepcopy(self.deptree)\n",
    "\n",
    "    def generate(self, tree):\n",
    "        if tree.val in [\"ccomp\", \"xcomp\"]:\n",
    "            backup = deepcopy(tree)\n",
    "\n",
    "            verb = conjugate(verb=tree.right.val, tense=PRESENT, person=1)\n",
    "            pos = tree.right.npos\n",
    "\n",
    "            impl_signs = self.kb.find({\"Verb\": verb})\n",
    "            if impl_signs:\n",
    "                sign = impl_signs[0]['Signature'].split('/')\n",
    "                if sign[0] == \"+\" and sign[1] == \"+\":\n",
    "                    self.treeLog.append(self.save_tree(tree.left.right))\n",
    "                elif sign[0] == \"+\" and sign[1] == \"-\":\n",
    "                    tree.val = tree.left.right.val\n",
    "                    tree.mark = tree.left.right.mark\n",
    "                    tree.id = tree.left.right.id\n",
    "                    tree.right = tree.left.right.right\n",
    "                    tree.right.val = self.fix_tense(tree.right.val, pos)\n",
    "                    tree.left = tree.left.right.left\n",
    "                    \n",
    "                    self.treeLog.append(self.save_tree())\n",
    "\n",
    "                    tree.val = backup.val\n",
    "                    tree.mark = backup.mark\n",
    "                    tree.id = backup.id\n",
    "                    tree.left = deepcopy(backup.left)\n",
    "                    tree.right = deepcopy(backup.right)\n",
    "        else:\n",
    "            if tree.left != \"N\":\n",
    "                self.generate(tree.left)\n",
    "\n",
    "            if tree.right != \"N\":\n",
    "                self.generate(tree.right)       "
   ]
  },
  {
   "cell_type": "code",
   "execution_count": 3,
   "metadata": {},
   "outputs": [
    {
     "output_type": "stream",
     "name": "stderr",
     "text": [
      "100%|██████████| 3/3 [00:01<00:00,  2.82it/s]\n",
      "New tree:  [nsubj↑ [PRP i↑] [obj↑ [nmod:poss↑ [PRP$ my↑] [NN homework↑]] [VB finished↑]]]\n",
      "New tree:  [nsubj↑ [det= [DT this=] [NN apple=]] [cop↑ [VBZ is↑] [JJ good↑]]]\n",
      "New tree:  [nsubj↑ [nmod:poss= [PRP$ my↑] [NN homework↑]] [cop↑ [VBZ is↑] [JJ hard↑]]]\n",
      "\n"
     ]
    }
   ],
   "source": [
    "#from Udep2Mono.dependency_parse import dependencyParse\n",
    "#tree, postags, words = dependencyParse(\"All dogs eat food\", parser=\"stanza\")[0]\n",
    "\n",
    "sentences = [\"I managed to finish my homework\", \n",
    "             \"I recognized that this apple is good\",\n",
    "             \"I realized that my homework is hard\"]\n",
    "annotations, _ = polarization.run_polarize_pipeline(\n",
    "    sentences, verbose=2, parser=\"stanza\")\n",
    "print()\n",
    "for annotation in annotations:\n",
    "    annotated, original, polarized, postags, polarized_tree = annotation\n",
    "    impgenerator = ImplicativeGenerator(len(original), db.implicative, polarized_tree)\n",
    "    impgenerator.search()  "
   ]
  },
  {
   "cell_type": "code",
   "execution_count": null,
   "metadata": {},
   "outputs": [],
   "source": []
  }
 ]
}