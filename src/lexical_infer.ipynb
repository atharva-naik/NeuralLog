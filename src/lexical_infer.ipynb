{
 "cells": [
  {
   "cell_type": "code",
   "execution_count": 4,
   "metadata": {},
   "outputs": [
    {
     "ename": "ModuleNotFoundError",
     "evalue": "No module named 'torchtext'",
     "output_type": "error",
     "traceback": [
      "\u001b[0;31m---------------------------------------------------------------------------\u001b[0m",
      "\u001b[0;31mModuleNotFoundError\u001b[0m                       Traceback (most recent call last)",
      "\u001b[0;32m<ipython-input-4-3e966be9083c>\u001b[0m in \u001b[0;36m<module>\u001b[0;34m\u001b[0m\n\u001b[1;32m      1\u001b[0m \u001b[0;32mfrom\u001b[0m \u001b[0mpymongo\u001b[0m \u001b[0;32mimport\u001b[0m \u001b[0mMongoClient\u001b[0m\u001b[0;34m\u001b[0m\u001b[0;34m\u001b[0m\u001b[0m\n\u001b[0;32m----> 2\u001b[0;31m \u001b[0;32mfrom\u001b[0m \u001b[0mwordnet\u001b[0m \u001b[0;32mimport\u001b[0m \u001b[0;34m*\u001b[0m\u001b[0;34m\u001b[0m\u001b[0;34m\u001b[0m\u001b[0m\n\u001b[0m\u001b[1;32m      3\u001b[0m \u001b[0;32mfrom\u001b[0m \u001b[0mUdep2Mono\u001b[0m\u001b[0;34m.\u001b[0m\u001b[0mbinarization\u001b[0m \u001b[0;32mimport\u001b[0m \u001b[0mBinaryDependencyTree\u001b[0m\u001b[0;34m\u001b[0m\u001b[0;34m\u001b[0m\u001b[0m\n\u001b[1;32m      4\u001b[0m \u001b[0;32mfrom\u001b[0m \u001b[0mUdep2Mono\u001b[0m \u001b[0;32mimport\u001b[0m \u001b[0mpolarization\u001b[0m\u001b[0;34m\u001b[0m\u001b[0;34m\u001b[0m\u001b[0m\n\u001b[1;32m      5\u001b[0m \u001b[0;32mfrom\u001b[0m \u001b[0mUdep2Mono\u001b[0m\u001b[0;34m.\u001b[0m\u001b[0mutil\u001b[0m \u001b[0;32mimport\u001b[0m \u001b[0mbtreeToList\u001b[0m\u001b[0;34m\u001b[0m\u001b[0;34m\u001b[0m\u001b[0m\n",
      "\u001b[0;32m~/Desktop/UdepLog/src/wordnet.py\u001b[0m in \u001b[0;36m<module>\u001b[0;34m\u001b[0m\n\u001b[1;32m      6\u001b[0m \u001b[0;34m\u001b[0m\u001b[0m\n\u001b[1;32m      7\u001b[0m \u001b[0;32mimport\u001b[0m \u001b[0mtorch\u001b[0m\u001b[0;34m\u001b[0m\u001b[0;34m\u001b[0m\u001b[0m\n\u001b[0;32m----> 8\u001b[0;31m \u001b[0;32mimport\u001b[0m \u001b[0mtorchtext\u001b[0m\u001b[0;34m.\u001b[0m\u001b[0mvocab\u001b[0m \u001b[0;32mas\u001b[0m \u001b[0mvocab\u001b[0m\u001b[0;34m\u001b[0m\u001b[0;34m\u001b[0m\u001b[0m\n\u001b[0m\u001b[1;32m      9\u001b[0m \u001b[0;32mfrom\u001b[0m \u001b[0mnltk\u001b[0m\u001b[0;34m.\u001b[0m\u001b[0mcorpus\u001b[0m \u001b[0;32mimport\u001b[0m \u001b[0mwordnet\u001b[0m\u001b[0;34m\u001b[0m\u001b[0;34m\u001b[0m\u001b[0m\n\u001b[1;32m     10\u001b[0m \u001b[0;34m\u001b[0m\u001b[0m\n",
      "\u001b[0;31mModuleNotFoundError\u001b[0m: No module named 'torchtext'"
     ]
    }
   ],
   "source": [
    "from pymongo import MongoClient\n",
    "from wordnet import *\n",
    "from Udep2Mono.binarization import BinaryDependencyTree\n",
    "from Udep2Mono import polarization\n",
    "from Udep2Mono.util import btreeToList\n",
    "from Udep2Mono.util import det_mark, det_type\n",
    "from copy import deepcopy\n",
    "from pattern.en import pluralize, singularize\n",
    "\n",
    "client = MongoClient('localhost', 27017)\n",
    "db = client.UdepLog\n",
    "quantifier = db.quantifier"
   ]
  },
  {
   "cell_type": "code",
   "execution_count": 52,
   "metadata": {},
   "outputs": [
    {
     "data": {
      "text/plain": [
       "{'_id': ObjectId('5fd18789c624d91cdd508dfe'),\n",
       " 'word': 'several',\n",
       " '>': ['every', 'all', 'each', 'most', 'many', 'num'],\n",
       " '<': ['some', 'a', 'an', 'one', 'at-least-several'],\n",
       " '=': ['a few', 'several-of-the'],\n",
       " '!': []}"
      ]
     },
     "execution_count": 52,
     "metadata": {},
     "output_type": "execute_result"
    }
   ],
   "source": [
    "quantifier.find({\"word\": \"several\"})[0]"
   ]
  },
  {
   "cell_type": "code",
   "execution_count": 1,
   "metadata": {},
   "outputs": [],
   "source": [
    "class LexicalGenerator:\n",
    "    def __init__(self):\n",
    "        self.deptree = None\n",
    "        self.hypothesis = \"\"\n",
    "        self.length = 0\n",
    "        self.treeLog = []\n",
    "        self.polarLog = []\n",
    "        self.replacementLog = []\n",
    "        self.key_tokens = [\n",
    "            'NN','NNS','NNP','NNPS','VBD',\n",
    "            'VBG','VBN','VBZ','VB']\n",
    "\n",
    "    def deptree_generate(self, length, tree):\n",
    "        self.deptree = tree\n",
    "        self.length = length\n",
    "        self.generate(self.deptree)\n",
    "\n",
    "    def generate(self, tree):\n",
    "        if tree.npos is not None: \n",
    "            if tree.npos in self.key_tokens:\n",
    "                backup = tree.val\n",
    "                hyper = [] \n",
    "                hypo = [] \n",
    "                syn = [] \n",
    "                ant = []\n",
    "\n",
    "                hyper, hypo, syn, ant = get_word_sets(\n",
    "                    singularize(tree.val), tree.npos.lower())\n",
    "\n",
    "                for word in syn:\n",
    "                    if word in self.hypothesis:\n",
    "                        tree.val = word\n",
    "                        self.treeLog.append(self.save_tree())\n",
    "                        self.replacementLog.append(\n",
    "                            \"{} => {}\".format(backup, word))\n",
    "                tree.val = backup\n",
    "\n",
    "                for word in ant:\n",
    "                    if word in self.hypothesis:\n",
    "                        tree.val = word\n",
    "                        self.treeLog.append(self.save_tree())\n",
    "                        self.replacementLog.append(\n",
    "                            \"{} => {}\".format(backup, word))\n",
    "                tree.val = backup\n",
    "\n",
    "                if tree.mark == \"+\":                \n",
    "                    for word in hyper:\n",
    "                        if word in self.hypothesis:\n",
    "                            tree.val = word\n",
    "                            self.treeLog.append(self.save_tree())\n",
    "                            self.replacementLog.append(\n",
    "                            \"{} => {}\".format(backup, word))\n",
    "                    tree.val = backup\n",
    "\n",
    "                if tree.mark == \"-\":\n",
    "                    for word in hypo:\n",
    "                        if word in self.hypothesis:\n",
    "                            tree.val = word\n",
    "                            self.treeLog.append(self.save_tree())\n",
    "                            self.replacementLog.append(\n",
    "                            \"{} => {}\".format(backup, word))\n",
    "                    tree.val = backup\n",
    "            \n",
    "        elif tree.val == \"det\":\n",
    "            backup = tree.left.val\n",
    "            backup_mark = tree.right.mark\n",
    "            kb = quantifier.find({\"word\": tree.left.val.lower()})[0]\n",
    "\n",
    "            for word in kb[\"=\"]:\n",
    "                tree.left.val = word\n",
    "                detType = det_type(tree.left.val)\n",
    "                if detType is None:\n",
    "                    detType = \"det:exist\"\n",
    "                detMark = det_mark[detType]\n",
    "                tree.left.mark = detMark[1]\n",
    "                self.treeLog.append(self.save_tree())\n",
    "                self.replacementLog.append(\n",
    "                    \"{} => {}\".format(backup, word))\n",
    "            tree.left.val = backup\n",
    "            tree.left.mark = backup_mark\n",
    "\n",
    "            if tree.left.mark == \"+\":\n",
    "                for word in kb[\"<\"]:\n",
    "                    if word in self.hypothesis:\n",
    "                        tree.left.val = word\n",
    "                        detType = det_type(tree.left.val)\n",
    "                        if detType is None:\n",
    "                            detType = \"det:exist\"\n",
    "                        detMark = det_mark[detType]\n",
    "                        tree.left.mark = detMark[1]\n",
    "                        self.treeLog.append(self.save_tree())\n",
    "                        self.replacementLog.append(\n",
    "                            \"{} => {}\".format(backup, word))\n",
    "                tree.left.val = backup\n",
    "                tree.left.mark = backup_mark\n",
    "            \n",
    "            if tree.left.mark == \"-\":\n",
    "                for word in kb[\">\"]:\n",
    "                    if word in self.hypothesis:\n",
    "                        tree.val = word\n",
    "                        if detType is None:\n",
    "                            detType = \"det:exist\"\n",
    "                        detMark = det_mark[detType]\n",
    "                        tree.left.mark = detMark[1]\n",
    "                        self.treeLog.append(self.save_tree())\n",
    "                        self.replacementLog.append(\n",
    "                            \"{} => {}\".format(backup, word))\n",
    "                tree.left.val = backup\n",
    "                tree.left.mark = backup_mark\n",
    "        \n",
    "        if tree.left != \"N\":\n",
    "            self.generate(tree.left)\n",
    "        if tree.right != \"N\":\n",
    "            self.generate(tree.right)\n",
    "\n",
    "    def save_tree(self, tree=None):\n",
    "        if tree is not None:\n",
    "            generated, _, _, _ = btreeToList(tree, self.length, {}, 0)\n",
    "        else:\n",
    "            generated, _, _, _ = btreeToList(self.deptree, self.length, {}, 0)\n",
    "        generated = '[%s]' % ', '.join(\n",
    "            map(str, generated)).replace(\"'\", \"\")\n",
    "        generated = generated.replace(\",\", \"\")\n",
    "        #print(\"New tree: \", generated)\n",
    "\n",
    "        if tree is not None:\n",
    "            return deepcopy(self.deptree)\n",
    "        else:\n",
    "            return deepcopy(self.deptree)"
   ]
  },
  {
   "cell_type": "code",
   "execution_count": 2,
   "metadata": {
    "tags": []
   },
   "outputs": [
    {
     "ename": "NameError",
     "evalue": "name 'polarization' is not defined",
     "output_type": "error",
     "traceback": [
      "\u001b[0;31m---------------------------------------------------------------------------\u001b[0m",
      "\u001b[0;31mNameError\u001b[0m                                 Traceback (most recent call last)",
      "\u001b[0;32m<ipython-input-2-84137d3dc2dd>\u001b[0m in \u001b[0;36m<module>\u001b[0;34m\u001b[0m\n\u001b[1;32m      1\u001b[0m \u001b[0msentences\u001b[0m \u001b[0;34m=\u001b[0m \u001b[0;34m[\u001b[0m\u001b[0;34m\"Some flowers are beautiful\"\u001b[0m\u001b[0;34m]\u001b[0m\u001b[0;34m\u001b[0m\u001b[0;34m\u001b[0m\u001b[0m\n\u001b[1;32m      2\u001b[0m \u001b[0mhypothesis\u001b[0m \u001b[0;34m=\u001b[0m \u001b[0;34m\"Some flowering plant are beautiful\"\u001b[0m\u001b[0;34m\u001b[0m\u001b[0;34m\u001b[0m\u001b[0m\n\u001b[0;32m----> 3\u001b[0;31m annotations, _ = polarization.run_polarize_pipeline(\n\u001b[0m\u001b[1;32m      4\u001b[0m     sentences, verbose=2, parser=\"stanza\")\n\u001b[1;32m      5\u001b[0m \u001b[0;34m\u001b[0m\u001b[0m\n",
      "\u001b[0;31mNameError\u001b[0m: name 'polarization' is not defined"
     ]
    }
   ],
   "source": [
    "sentences = [\"Some flowers are beautiful\"]\n",
    "hypothesis = \"Some flowering plant are beautiful\"\n",
    "annotations, _ = polarization.run_polarize_pipeline(\n",
    "    sentences, verbose=2, parser=\"stanza\")\n",
    "\n",
    "lexicalGenerator = LexicalGenerator()\n",
    "for annotation in annotations:\n",
    "    annotated, original, polarized, postags, polarized_tree = annotation\n",
    "    print('\\n' + annotated)\n",
    "    lexicalGenerator.hypothesis = hypothesis\n",
    "    lexicalGenerator.deptree_generate(len(original), polarized_tree)\n",
    "    for record in lexicalGenerator.replacementLog:\n",
    "        print(record)"
   ]
  },
  {
   "cell_type": "code",
   "execution_count": null,
   "metadata": {},
   "outputs": [],
   "source": []
  },
  {
   "cell_type": "code",
   "execution_count": null,
   "metadata": {},
   "outputs": [],
   "source": []
  }
 ],
 "metadata": {
  "kernelspec": {
   "display_name": "Python 3",
   "language": "python",
   "name": "python3"
  },
  "language_info": {
   "codemirror_mode": {
    "name": "ipython",
    "version": 3
   },
   "file_extension": ".py",
   "mimetype": "text/x-python",
   "name": "python",
   "nbconvert_exporter": "python",
   "pygments_lexer": "ipython3",
   "version": "3.8.5"
  }
 },
 "nbformat": 4,
 "nbformat_minor": 4
}
