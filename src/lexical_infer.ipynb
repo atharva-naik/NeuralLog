{
 "cells": [
  {
   "cell_type": "code",
   "execution_count": 1,
   "metadata": {},
   "outputs": [
    {
     "output_type": "stream",
     "name": "stderr",
     "text": [
      "2021-02-14 01:15:26 INFO: Loading these models for language: en (English):\n",
      "=========================\n",
      "| Processor | Package   |\n",
      "-------------------------\n",
      "| tokenize  | ewt       |\n",
      "| pos       | ewt       |\n",
      "| lemma     | ewt       |\n",
      "| depparse  | ewt       |\n",
      "| sentiment | sstplus   |\n",
      "| ner       | ontonotes |\n",
      "=========================\n",
      "\n",
      "2021-02-14 01:15:26 INFO: Use device: gpu\n",
      "2021-02-14 01:15:26 INFO: Loading: tokenize\n",
      "2021-02-14 01:15:31 INFO: Loading: pos\n",
      "2021-02-14 01:15:33 INFO: Loading: lemma\n",
      "2021-02-14 01:15:33 INFO: Loading: depparse\n",
      "2021-02-14 01:15:34 INFO: Loading: sentiment\n",
      "2021-02-14 01:15:36 INFO: Loading: ner\n",
      "2021-02-14 01:15:37 INFO: Done loading processors!\n"
     ]
    }
   ],
   "source": [
    "import json\n",
    "from wordnet import *\n",
    "from copy import deepcopy\n",
    "from pattern.en import pluralize, singularize\n",
    "\n",
    "from Udep2Mono.binarization import BinaryDependencyTree\n",
    "from Udep2Mono.polarization import PolarizationPipeline\n",
    "from Udep2Mono.util import det_mark, det_type"
   ]
  },
  {
   "source": [
    "## Lexical Knowledge based Lexical Replacement"
   ],
   "cell_type": "markdown",
   "metadata": {}
  },
  {
   "cell_type": "code",
   "execution_count": 3,
   "metadata": {},
   "outputs": [],
   "source": [
    "class LexicalGenerator:\n",
    "    def __init__(self):\n",
    "        self.deptree = None\n",
    "        self.hypothesis = \"\"\n",
    "        self.treeLog = []\n",
    "        self.polarLog = []\n",
    "        self.replacementLog = []\n",
    "        self.key_tokens = [\n",
    "            'NN','NNS','NNP','NNPS','VBD',\n",
    "            'VBG','VBN','VBZ','VB']\n",
    "\n",
    "        self.quantifiers = {}\n",
    "        with open('quantifier.json', 'r') as quants:\n",
    "             quantifier_data = json.load(quants)\n",
    "             for quantifier in quantifier_data:\n",
    "                 self.quantifiers[quantifier['word']] = quantifier\n",
    "\n",
    "    def deptree_generate(self, tree):\n",
    "        self.deptree = tree\n",
    "        self.generate(self.deptree)\n",
    "\n",
    "    def generate(self, tree):\n",
    "        if tree is None:\n",
    "            return\n",
    "        if tree.pos is not None: \n",
    "            if tree.pos in self.key_tokens:\n",
    "                backup = tree.val\n",
    "                \n",
    "                hyper = [] \n",
    "                hypo = [] \n",
    "                syn = [] \n",
    "                ant = []\n",
    "\n",
    "                hyper, hypo, syn, ant = get_word_sets(\n",
    "                    singularize(tree.val), tree.pos.lower())\n",
    "\n",
    "                print(hyper)\n",
    "                print(hypo)\n",
    "                print(syn)\n",
    "\n",
    "                for word in syn:\n",
    "                    if word in self.hypothesis:\n",
    "                        tree.val = word\n",
    "                        self.treeLog.append(self.save_tree())\n",
    "                        self.replacementLog.append(\n",
    "                            \"{} => {}\".format(backup, word))\n",
    "                tree.val = backup\n",
    "\n",
    "                for word in ant:\n",
    "                    if word in self.hypothesis:\n",
    "                        tree.val = word\n",
    "                        self.treeLog.append(self.save_tree())\n",
    "                        self.replacementLog.append(\n",
    "                            \"{} => {}\".format(backup, word))\n",
    "                tree.val = backup\n",
    "\n",
    "                if tree.mark == \"+\":                \n",
    "                    for word in hyper:\n",
    "                        if word in self.hypothesis:\n",
    "                            tree.val = word\n",
    "                            self.treeLog.append(self.save_tree())\n",
    "                            self.replacementLog.append(\n",
    "                            \"{} => {}\".format(backup, word))\n",
    "                    tree.val = backup\n",
    "\n",
    "                if tree.mark == \"-\":\n",
    "                    for word in hypo:\n",
    "                        if word in self.hypothesis:\n",
    "                            tree.val = word\n",
    "                            self.treeLog.append(self.save_tree())\n",
    "                            self.replacementLog.append(\n",
    "                            \"{} => {}\".format(backup, word))\n",
    "                    tree.val = backup\n",
    "            \n",
    "        elif tree.val == \"det\":\n",
    "            backup = tree.left.val\n",
    "            backup_mark = tree.right.mark\n",
    "            kb = self.quantifiers[tree.left.val.lower()]\n",
    "\n",
    "            for word in kb[\"=\"]:\n",
    "                tree.left.val = word\n",
    "                detType = det_type(tree.left.val)\n",
    "                if detType is None:\n",
    "                    detType = \"det:exist\"\n",
    "                tree.left.mark = det_mark[detType]\n",
    "                self.treeLog.append(self.save_tree())\n",
    "                self.replacementLog.append(\n",
    "                    \"{} => {}\".format(backup, word))\n",
    "            tree.left.val = backup\n",
    "            tree.left.mark = backup_mark\n",
    "\n",
    "            if tree.left.mark == \"+\":\n",
    "                for word in kb[\"<\"]:\n",
    "                    if word in self.hypothesis:\n",
    "                        tree.left.val = word\n",
    "                        detType = det_type(tree.left.val)\n",
    "                        if detType is None:\n",
    "                            detType = \"det:exist\"\n",
    "                        tree.left.mark = det_mark[detType]\n",
    "                        self.treeLog.append(self.save_tree())\n",
    "                        self.replacementLog.append(\n",
    "                            \"{} => {}\".format(backup, word))\n",
    "                tree.left.val = backup\n",
    "                tree.left.mark = backup_mark\n",
    "            \n",
    "            if tree.left.mark == \"-\":\n",
    "                for word in kb[\">\"]:\n",
    "                    if word in self.hypothesis:\n",
    "                        tree.val = word\n",
    "                        if detType is None:\n",
    "                            detType = \"det:exist\"\n",
    "                        tree.left.mark = det_mark[detType]\n",
    "                        self.treeLog.append(self.save_tree())\n",
    "                        self.replacementLog.append(\n",
    "                            \"{} => {}\".format(backup, word))\n",
    "                tree.left.val = backup\n",
    "                tree.left.mark = backup_mark\n",
    "        \n",
    "        if tree.left != \"N\":\n",
    "            self.generate(tree.left)\n",
    "        if tree.right != \"N\":\n",
    "            self.generate(tree.right)\n",
    "\n",
    "    def save_tree(self):\n",
    "        return deepcopy(self.deptree)"
   ]
  },
  {
   "cell_type": "code",
   "execution_count": 4,
   "metadata": {
    "tags": []
   },
   "outputs": [
    {
     "output_type": "stream",
     "name": "stdout",
     "text": [
      "\n",
      "Polarization Complete\n",
      "================\n",
      "Init Premise:  Some flowers are beautiful\n",
      "some => a\n",
      "some => an\n",
      "some => one\n",
      "flowers => flower\n",
      "flowers => flowering plant\n",
      "================\n",
      "Init Premise:  A cheetah is chasing its prey across a field\n",
      "some => a\n",
      "some => an\n",
      "some => one\n",
      "flowers => flower\n",
      "flowers => flowering plant\n",
      "a => some\n",
      "a => an\n",
      "a => one\n",
      "cheetah => cheetah\n",
      "a => some\n",
      "a => an\n",
      "a => one\n",
      "s => s\n",
      "prey => prey\n",
      "is => be\n",
      "is => be\n",
      "================\n",
      "Init Premise:  The person is dicing up a pepper which is orange\n",
      "some => a\n",
      "some => an\n",
      "some => one\n",
      "flowers => flower\n",
      "flowers => flowering plant\n",
      "a => some\n",
      "a => an\n",
      "a => one\n",
      "cheetah => cheetah\n",
      "a => some\n",
      "a => an\n",
      "a => one\n",
      "s => s\n",
      "prey => prey\n",
      "is => be\n",
      "is => be\n",
      "the => a\n",
      "the => an\n",
      "the => one\n",
      "person => person\n",
      "is => be\n",
      "is => be\n",
      "a => some\n",
      "a => an\n",
      "a => one\n",
      "is => be\n",
      "is => be\n",
      "pepper => pepper\n",
      "dicing => dice\n",
      "================\n",
      "Init Premise:  A man is playing the guitar loudly\n",
      "some => a\n",
      "some => an\n",
      "some => one\n",
      "flowers => flower\n",
      "flowers => flowering plant\n",
      "a => some\n",
      "a => an\n",
      "a => one\n",
      "cheetah => cheetah\n",
      "a => some\n",
      "a => an\n",
      "a => one\n",
      "s => s\n",
      "prey => prey\n",
      "is => be\n",
      "is => be\n",
      "the => a\n",
      "the => an\n",
      "the => one\n",
      "person => person\n",
      "is => be\n",
      "is => be\n",
      "a => some\n",
      "a => an\n",
      "a => one\n",
      "is => be\n",
      "is => be\n",
      "pepper => pepper\n",
      "dicing => dice\n",
      "a => some\n",
      "a => an\n",
      "a => one\n",
      "man => adult\n",
      "the => a\n",
      "the => an\n",
      "the => one\n",
      "guitar => guitar\n",
      "playing => play\n",
      "playing => playing\n",
      "playing => play\n"
     ]
    }
   ],
   "source": [
    "sentences = [\"Some flowers are beautiful\", \n",
    "             \"A cheetah is chasing its prey across a field\", \n",
    "             \"The person is dicing up a pepper which is orange\",\n",
    "             \"A man is playing the guitar loudly\",\n",
    "             ]\n",
    "hypotheses = [\"Some flowering plant are beautiful\",\n",
    "              \"A cheetah is quickly running behind its prey\",\n",
    "              \"An orange pepper is being diced up by a person\",\n",
    "              \"The adult is playing the guitar loudly\",\n",
    "              ]\n",
    "pipeline = PolarizationPipeline(sentences, verbose=0, parser=\"stanza\")\n",
    "\n",
    "annotations = []\n",
    "for sentence in sentences:\n",
    "    annotation = pipeline.single_polarization(sentence)\n",
    "    annotations.append(annotation)\n",
    "\n",
    "print(\"\\nPolarization Complete\")\n",
    "\n",
    "lexicalGenerator = LexicalGenerator()\n",
    "for annotation, hypothesis in zip(annotations, hypotheses):\n",
    "    print(\"================\")\n",
    "    print(\"Init Premise: \", annotation['original'])\n",
    "    lexicalGenerator.hypothesis = hypothesis\n",
    "    lexicalGenerator.deptree_generate(annotation['polarized_tree'])\n",
    "    for record in lexicalGenerator.replacementLog:\n",
    "        print(record) "
   ]
  },
  {
   "source": [
    "## Word Embedding Based Lexical Replacement"
   ],
   "cell_type": "markdown",
   "metadata": {}
  },
  {
   "cell_type": "code",
   "execution_count": 6,
   "metadata": {},
   "outputs": [],
   "source": [
    "import gensim.downloader as api\n",
    "w2v_model = api.load(\"glove-wiki-gigaword-50\")"
   ]
  },
  {
   "cell_type": "code",
   "execution_count": 17,
   "metadata": {},
   "outputs": [
    {
     "output_type": "execute_result",
     "data": {
      "text/plain": [
       "[('developing', 0.9081553220748901),\n",
       " ('improve', 0.8416248559951782),\n",
       " ('enhance', 0.8136858344078064),\n",
       " ('ways', 0.8106333613395691),\n",
       " ('developed', 0.8090812563896179),\n",
       " ('development', 0.8060052990913391),\n",
       " ('focus', 0.8003764152526855),\n",
       " ('enable', 0.7990560531616211),\n",
       " ('create', 0.7961971759796143),\n",
       " ('promote', 0.7936440110206604)]"
      ]
     },
     "metadata": {},
     "execution_count": 17
    }
   ],
   "source": [
    "w2v_model.most_similar('develop')"
   ]
  },
  {
   "cell_type": "code",
   "execution_count": 27,
   "metadata": {},
   "outputs": [
    {
     "output_type": "execute_result",
     "data": {
      "text/plain": [
       "0.7095756"
      ]
     },
     "metadata": {},
     "execution_count": 27
    }
   ],
   "source": [
    "w2v_model.similarity('virus', 'bacteria')"
   ]
  },
  {
   "cell_type": "code",
   "execution_count": 18,
   "metadata": {},
   "outputs": [
    {
     "output_type": "execute_result",
     "data": {
      "text/plain": [
       "['Scientist', 'developed', 'new', 'anti', 'virus', 'vaccine']"
      ]
     },
     "metadata": {},
     "execution_count": 18
    }
   ],
   "source": [
    "from nltk.corpus import stopwords\n",
    "stop_words = stopwords.words('english')\n",
    "[w for w in ['Scientist', 'developed', 'a', 'new', 'anti', 'virus', 'vaccine'] if w not in stop_words]"
   ]
  },
  {
   "cell_type": "code",
   "execution_count": null,
   "metadata": {},
   "outputs": [],
   "source": []
  }
 ],
 "metadata": {
  "kernelspec": {
   "display_name": "Python 3",
   "language": "python",
   "name": "python3"
  },
  "language_info": {
   "codemirror_mode": {
    "name": "ipython",
    "version": 3
   },
   "file_extension": ".py",
   "mimetype": "text/x-python",
   "name": "python",
   "nbconvert_exporter": "python",
   "pygments_lexer": "ipython3",
   "version": "3.7.9-final"
  }
 },
 "nbformat": 4,
 "nbformat_minor": 4
}