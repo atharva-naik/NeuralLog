{
 "metadata": {
  "language_info": {
   "codemirror_mode": {
    "name": "ipython",
    "version": 3
   },
   "file_extension": ".py",
   "mimetype": "text/x-python",
   "name": "python",
   "nbconvert_exporter": "python",
   "pygments_lexer": "ipython3",
   "version": "3.7.6-final"
  },
  "orig_nbformat": 2,
  "kernelspec": {
   "name": "python3",
   "display_name": "Python 3"
  }
 },
 "nbformat": 4,
 "nbformat_minor": 2,
 "cells": [
  {
   "cell_type": "code",
   "execution_count": 1,
   "metadata": {},
   "outputs": [],
   "source": [
    "import spacy\n",
    "import itertools\n",
    "\n",
    "from nltk.corpus import wordnet\n",
    "#from pattern.en import wordnet"
   ]
  },
  {
   "cell_type": "code",
   "execution_count": 40,
   "metadata": {},
   "outputs": [],
   "source": [
    "def find_relation(word1, word2, pos):\n",
    "    hyper, hypo, syn, ant = get_word_sets(word2, pos)\n",
    "\n",
    "    #print(\"hypernyms:\", hyper)\n",
    "    #print(\"hyponyms:\", hypo)\n",
    "    #print(\"synonyms:\", syn)\n",
    "    #print(\"antonyms:\", ant)\n",
    "\n",
    "    if word1 in hyper:\n",
    "        return 'hypernym'  # word1 > word2\n",
    "    elif word1 in hypo:\n",
    "        return 'hyponym'  # word1 < word2\n",
    "    elif word1 in syn:\n",
    "        return 'synonym'\n",
    "    elif word1 in ant:\n",
    "        return 'antonym'\n",
    "    return None"
   ]
  },
  {
   "cell_type": "code",
   "execution_count": 41,
   "metadata": {},
   "outputs": [],
   "source": [
    "import json\n",
    "import requests\n",
    "import urllib.request\n",
    "\n",
    "class ConceptNet:\n",
    "    def __init__(self):\n",
    "        self.url = \"http://api.conceptnet.io/\"\n",
    "\n",
    "    def lookup(self, lang, term, verbose):\n",
    "        url_to_search = self.url + \"c/\" + lang + \"/\" + term\n",
    "        data = urllib.request.urlopen(url_to_search)\n",
    "        json_data = json.load(data)\n",
    "        if verbose:\n",
    "            print(url_to_search)\n",
    "            for edge in json_data[\"edges\"]:\n",
    "                print(\"--------------\")\n",
    "                print(edge['end']['label'])\n",
    "                print(edge['rel']['label'])\n",
    "\n",
    "    def relation(self, concept, rel='IsA'):\n",
    "        hypernyms = set([])\n",
    "        url_to_search = self.url + \"query?start=/c/en/\" + concept + \"&rel=/r/\" + rel + \"&limit=1000\"\n",
    "        data = urllib.request.urlopen(url_to_search)\n",
    "        json_data = json.load(data)\n",
    "        for edge in json_data[\"edges\"]:\n",
    "            hypernyms.add(edge['end']['label'])\n",
    "\n",
    "        url_to_search = self.url + \"query?end=/c/en/\" + concept + \"&rel=/r/\" + rel + \"&limit=1000\"\n",
    "        data = urllib.request.urlopen(url_to_search)\n",
    "        json_data = json.load(data)\n",
    "        hyponyms = set([])\n",
    "        for edge in json_data[\"edges\"]:\n",
    "            hyponyms.add(edge['start']['label'])\n",
    "        \n",
    "        return hypernyms, hyponyms"
   ]
  },
  {
   "cell_type": "code",
   "execution_count": 42,
   "metadata": {},
   "outputs": [],
   "source": [
    "def get_word_sets(word, pos): \n",
    "    synonyms = set([]) \n",
    "    antonyms = set([]) \n",
    "    hypernyms = set([])\n",
    "    hyponyms = set([])\n",
    "  \n",
    "    for syn in wordnet.synsets(word): \n",
    "        for x in syn.hypernyms():\n",
    "            for l in x.lemmas():\n",
    "                hypernyms.add(l.name().replace('_', ' '))\n",
    "        for x in syn.hyponyms():\n",
    "            for l in x.lemmas():\n",
    "                hyponyms.add(l.name().replace('_', ' '))\n",
    "        for l in syn.lemmas(): \n",
    "            synonyms.add(l.name().replace('_', ' ')) \n",
    "            if l.antonyms(): \n",
    "                antonyms.add(l.antonyms()[0].name().replace('_', ' '))  \n",
    "    \n",
    "    conceptNet = ConceptNet()\n",
    "    hyper, hypo = conceptNet.relation(word)\n",
    "    hypernyms = hypernyms.union(hyper)\n",
    "    hyponyms = hyponyms.union(hypo)\n",
    "\n",
    "    return hypernyms, hyponyms, synonyms, antonyms"
   ]
  },
  {
   "cell_type": "code",
   "execution_count": 43,
   "metadata": {},
   "outputs": [
    {
     "output_type": "stream",
     "name": "stdout",
     "text": [
      "hypernym\n"
     ]
    }
   ],
   "source": [
    "relation = find_relation('animal', 'bird', 'nn')\n",
    "print(relation)"
   ]
  },
  {
   "cell_type": "code",
   "execution_count": null,
   "metadata": {},
   "outputs": [],
   "source": []
  },
  {
   "cell_type": "code",
   "execution_count": null,
   "metadata": {},
   "outputs": [],
   "source": []
  }
 ]
}