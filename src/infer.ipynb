{
 "metadata": {
  "language_info": {
   "codemirror_mode": {
    "name": "ipython",
    "version": 3
   },
   "file_extension": ".py",
   "mimetype": "text/x-python",
   "name": "python",
   "nbconvert_exporter": "python",
   "pygments_lexer": "ipython3",
   "version": "3.7.6-final"
  },
  "orig_nbformat": 2,
  "kernelspec": {
   "name": "python3",
   "display_name": "Python 3"
  }
 },
 "nbformat": 4,
 "nbformat_minor": 2,
 "cells": [
  {
   "cell_type": "code",
   "execution_count": 11,
   "metadata": {},
   "outputs": [
    {
     "output_type": "stream",
     "name": "stderr",
     "text": [
      "2020-12-05 03:27:53 INFO: Loading these models for language: en (English):\n",
      "=========================\n",
      "| Processor | Package   |\n",
      "-------------------------\n",
      "| tokenize  | gum       |\n",
      "| pos       | gum       |\n",
      "| lemma     | gum       |\n",
      "| depparse  | gum       |\n",
      "| sentiment | sstplus   |\n",
      "| ner       | ontonotes |\n",
      "=========================\n",
      "\n",
      "2020-12-05 03:27:53 INFO: Use device: gpu\n",
      "2020-12-05 03:27:53 INFO: Loading: tokenize\n",
      "2020-12-05 03:27:56 INFO: Loading: pos\n",
      "2020-12-05 03:27:57 INFO: Loading: lemma\n",
      "2020-12-05 03:27:57 INFO: Loading: depparse\n",
      "2020-12-05 03:27:58 INFO: Loading: sentiment\n",
      "2020-12-05 03:27:59 INFO: Loading: ner\n",
      "2020-12-05 03:28:00 INFO: Done loading processors!\n"
     ]
    }
   ],
   "source": [
    "from polarization import run_polarize_pipeline\n",
    "from util import btreeToList\n",
    "from infer_util import btreeToLength, listToString\n",
    "#from infer_util import listToString\n",
    "updateWordCategory = {\"NN\", \"JJ\", \"VBZ\", \"RB\"}\n",
    "relationDictionary = [\"<\", \">\", \"A\", \"U\", \"|\", \"#\"]\n",
    "replaced_words = {\n",
    "    \"out of\": \"out-of\",\n",
    "    \"none of the\": \"none-of-the\",\n",
    "    \"all of the\": \"all-of-the\",\n",
    "    \"some of the\": \"some-of-the\",\n",
    "    \"most of the\": \"most-of-the\",\n",
    "    \"many of the\": \"many-of-the\",\n",
    "    \"several of the\": \"several-of-the\",\n",
    "    \"some but not all\": \"some-but-not-all\"\n",
    "}"
   ]
  },
  {
   "cell_type": "code",
   "execution_count": 12,
   "metadata": {},
   "outputs": [],
   "source": [
    "sentence_set = [\"Every dog that hates a monkey is a heavy cat\", \"Every dog runs fast\"]"
   ]
  },
  {
   "cell_type": "code",
   "execution_count": 13,
   "metadata": {},
   "outputs": [
    {
     "output_type": "stream",
     "name": "stderr",
     "text": [
      "100%|██████████| 2/2 [00:00<00:00,  3.95it/s]Every dog that hates a monkey is a heavy cat\n",
      "\n"
     ]
    }
   ],
   "source": [
    "result = run_polarize_pipeline(sentence_set)[0]"
   ]
  },
  {
   "cell_type": "code",
   "execution_count": 14,
   "metadata": {},
   "outputs": [
    {
     "output_type": "stream",
     "name": "stdout",
     "text": [
      "[nsubj↑ [det↓ [DT every↑] [NN dog↓]] [advmod↑ [RB fast↑] [VBZ runs↑]]]\n"
     ]
    }
   ],
   "source": [
    "for parse_out in result:\n",
    "    print(parse_out[2])"
   ]
  },
  {
   "cell_type": "code",
   "execution_count": 15,
   "metadata": {},
   "outputs": [],
   "source": [
    "class Sent_Info:\n",
    "    def __init__(self, content = \"\"):\n",
    "        self.content = content\n",
    "        self.markForm = None\n",
    "        self.treeForm = None\n",
    "        self.categoryForm = None\n",
    "        #mark_sent()\n",
    "    def mark_sent(self):\n",
    "        if (self.content != \"\"):\n",
    "            temp = run_polarize_pipeline([self.content])[0][0]\n",
    "            self.markForm = temp[0]\n",
    "            set_arg = []\n",
    "            #self.treeForm = string_form_list(temp[2].split(\" \"), set_arg, 0,0)\n",
    "            self.treeForm = temp[4]\n",
    "            print(temp)\n",
    "            #print(set_arg)\n",
    "            self.categoryForm = temp[3]\n",
    "        else:\n",
    "            print(\"Should given some string\")            \n"
   ]
  },
  {
   "cell_type": "code",
   "execution_count": 16,
   "metadata": {},
   "outputs": [],
   "source": [
    "def prepare_info(info_set, sentences):\n",
    "    for sent in sentences:\n",
    "        info = Sent_Info(sent)\n",
    "        info.mark_sent()\n",
    "        info_set.add(info)\n"
   ]
  },
  {
   "cell_type": "code",
   "execution_count": 17,
   "metadata": {},
   "outputs": [
    {
     "output_type": "stream",
     "name": "stderr",
     "text": [
      "100%|██████████| 1/1 [00:00<00:00,  8.50it/s]\n",
      "  0%|          | 0/1 [00:00<?, ?it/s]('every↑ dog↓ that↓ hates= a= monkey= is↑ a↑ heavy↑ cat↑', 'Every dog that hates a monkey is a heavy cat', '[nsubj↑ [det↓ [DT every↑] [acl:relcl↓ [nsubj↓ [WDT that↓] [obj= [det= [DT a=] [NN monkey=]] [VBZ hates=]]] [NN dog↓]]] [cop↑ [VBZ is↑] [det↑ [DT a↑] [amod↑ [JJ heavy↑] [NN cat↑]]]]]', [(1, 'DT'), (3, 'WDT'), (2, 'NN'), (6, 'NN'), (4, 'VBZ'), (5, 'DT'), (7, 'VBZ'), (8, 'DT'), (9, 'JJ'), (10, 'NN')], <binarization.BinaryDependencyTree object at 0x00000210604C1B08>)\n",
      "100%|██████████| 1/1 [00:00<00:00, 15.19it/s]('every↑ dog↓ runs↑ fast↑', 'Every dog runs fast', '[nsubj↑ [det↓ [DT every↑] [NN dog↓]] [advmod↑ [RB fast↑] [VBZ runs↑]]]', [(1, 'DT'), (2, 'NN'), (4, 'RB'), (3, 'VBZ')], <binarization.BinaryDependencyTree object at 0x00000210604CA9C8>)\n",
      "\n"
     ]
    }
   ],
   "source": [
    "info_set = set()\n",
    "prepare_info(info_set, sentence_set)"
   ]
  },
  {
   "cell_type": "code",
   "execution_count": 18,
   "metadata": {},
   "outputs": [
    {
     "output_type": "execute_result",
     "data": {
      "text/plain": [
       "'def string_form_list(str_list, output, current_layer, target_layer):\\n    if(str_list == []):\\n        return output\\n    print(\"First element is\" + str_list[0] + \"With current layer \" + str(current_layer) + \"and Target layer \" + str(target_layer))\\n    print(output)\\n    if(str_list[0][0] == \\'[\\'):\\n        if(current_layer==target_layer):\\n            output.append(string_form_list(str_list[1:], [str_list[0][1:]], current_layer+1, target_layer+1))\\n            print(\"second line\")\\n            print(\"second line input is:\")\\n            print(str_list[1:])\\n            string_form_list(str_list[1:], output, current_layer+1, target_layer)\\n        else:\\n            string_form_list(str_list[1:], output, current_layer+1, target_layer)\\n    elif (str_list[0][len(str_list[0])-1] == \\']\\'):\\n        \\n        if(current_layer == target_layer):\\n            output.append(str_list[0][:(len(str_list[0])-1)])\\n            print(\"layer_output is\")\\n            print(output)\\n            print(\"\\n\")\\n            return output\\n        else:\\n            string_form_list(str_list[1:], output, current_layer-1, target_layer)\\n\\n    elif(current_layer==target_layer):\\n        output.append(str_list[0])\\n        string_form_list(str_list[1:], output, current_layer, target_layer)\\n    else:\\n        string_form_list(str_list[1:], output, current_layer, target_layer)'"
      ]
     },
     "metadata": {},
     "execution_count": 18
    }
   ],
   "source": [
    "'''def string_form_list(str_list, output, current_layer, target_layer):\n",
    "    if(str_list == []):\n",
    "        return output\n",
    "    print(\"First element is\" + str_list[0] + \"With current layer \" + str(current_layer) + \"and Target layer \" + str(target_layer))\n",
    "    print(output)\n",
    "    if(str_list[0][0] == '['):\n",
    "        if(current_layer==target_layer):\n",
    "            output.append(string_form_list(str_list[1:], [str_list[0][1:]], current_layer+1, target_layer+1))\n",
    "            print(\"second line\")\n",
    "            print(\"second line input is:\")\n",
    "            print(str_list[1:])\n",
    "            string_form_list(str_list[1:], output, current_layer+1, target_layer)\n",
    "        else:\n",
    "            string_form_list(str_list[1:], output, current_layer+1, target_layer)\n",
    "    elif (str_list[0][len(str_list[0])-1] == ']'):\n",
    "        \n",
    "        if(current_layer == target_layer):\n",
    "            output.append(str_list[0][:(len(str_list[0])-1)])\n",
    "            print(\"layer_output is\")\n",
    "            print(output)\n",
    "            print(\"\\n\")\n",
    "            return output\n",
    "        else:\n",
    "            string_form_list(str_list[1:], output, current_layer-1, target_layer)\n",
    "\n",
    "    elif(current_layer==target_layer):\n",
    "        output.append(str_list[0])\n",
    "        string_form_list(str_list[1:], output, current_layer, target_layer)\n",
    "    else:\n",
    "        string_form_list(str_list[1:], output, current_layer, target_layer)'''\n"
   ]
  },
  {
   "cell_type": "code",
   "execution_count": 19,
   "metadata": {},
   "outputs": [
    {
     "output_type": "stream",
     "name": "stdout",
     "text": [
      "[1, [2]]\n"
     ]
    }
   ],
   "source": [
    "list1 = [1]\n",
    "list2 = [2]\n",
    "list1.append(list2)\n",
    "print(list1)"
   ]
  },
  {
   "cell_type": "code",
   "execution_count": 33,
   "metadata": {},
   "outputs": [],
   "source": [
    "class Pattern:\n",
    "    def __init__(self, left, right, relation = 0):\n",
    "        self.left = left\n",
    "        self.right = right\n",
    "        self.relation = relation\n",
    "    def prettyPrint(self):\n",
    "        leftSide, _, _, _ = btreeToList(self.left, btreeToLength(self.left), replaced_words)\n",
    "        rightSide, _, _, _ = btreeToList(self.right, btreeToLength(self.right), replaced_words)\n",
    "        relationMark = relationDictionary[self.relation]\n",
    "        #print(listToString(leftSide))\n",
    "        print(\"This pattern is: \" + listToString(leftSide) +\" \" + relationMark + \" \" + listToString(rightSide))\n",
    "        "
   ]
  },
  {
   "cell_type": "code",
   "execution_count": 34,
   "metadata": {},
   "outputs": [],
   "source": [
    "class Sentence_Base:\n",
    "    def __init__(self):\n",
    "        self.pInfos = {}\n",
    "        self.hInfo = None"
   ]
  },
  {
   "cell_type": "code",
   "execution_count": 35,
   "metadata": {},
   "outputs": [],
   "source": [
    "class Knowledge_Base:\n",
    "    def __init__(self):\n",
    "        self.patterns = set()\n",
    "        self.wordLists = set()\n",
    "        self.functions = {\n",
    "           # \"updateWordList\"\n",
    "        }\n",
    "    def updatewordList(self, sentInfo):\n",
    "        tree = sentInfo.treeForm\n",
    "        #print(tree)\n",
    "        traverse_down_update(tree, self.wordLists, self.checkWordUpdate)\n",
    "    def extractPattern(self, sentInfo):\n",
    "        tree = sentInfo.treeForm\n",
    "        traverse_down_update(tree, self.patterns, self.extract_sub)\n",
    "    def checkWordUpdate(self, tree, baseList):\n",
    "        if tree.npos in updateWordCategory:\n",
    "            baseList.add(tree.val)\n",
    "    def extract_sub(self, tree, patterns):\n",
    "        if tree.val == \"det\" and tree.left.val == \"every\":\n",
    "            self.patterns.add(Pattern(tree.right, tree.parent.right))"
   ]
  },
  {
   "cell_type": "code",
   "execution_count": 36,
   "metadata": {},
   "outputs": [],
   "source": [
    "def traverse_down_update(tree, baseList, func):\n",
    "    if(tree == \"N\"):\n",
    "        return\n",
    "    else:\n",
    "        func(tree, baseList)\n",
    "        traverse_down_update(tree.left, baseList, func)\n",
    "        traverse_down_update(tree.right, baseList, func)"
   ]
  },
  {
   "cell_type": "code",
   "execution_count": 37,
   "metadata": {},
   "outputs": [],
   "source": [
    "k_base = Knowledge_Base()\n",
    "s_base = Sentence_Base()\n",
    "for premise in info_set:\n",
    "    k_base.updatewordList(premise)\n",
    "    k_base.extractPattern(premise)"
   ]
  },
  {
   "cell_type": "code",
   "execution_count": 38,
   "metadata": {},
   "outputs": [
    {
     "output_type": "stream",
     "name": "stdout",
     "text": [
      "This pattern is: [NN dog↓1] < [advmod↑5 [RB fast↑3] [VBZ runs↑4]]\nThis pattern is: [acl:relcl↓9 [nsubj↓7 [WDT that↓1] [obj=6 [det=4 [DT a=2] [NN monkey=3]] [VBZ hates=5]]] [NN dog↓8]] < [cop↑17 [VBZ is↑11] [det↑16 [DT a↑12] [amod↑15 [JJ heavy↑13] [NN cat↑14]]]]\n"
     ]
    }
   ],
   "source": [
    "for pattern in k_base.patterns:\n",
    "    pattern.prettyPrint() "
   ]
  },
  {
   "cell_type": "code",
   "execution_count": null,
   "metadata": {},
   "outputs": [],
   "source": []
  }
 ]
}