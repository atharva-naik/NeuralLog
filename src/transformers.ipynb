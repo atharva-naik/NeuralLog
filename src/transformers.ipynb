{
 "metadata": {
  "language_info": {
   "codemirror_mode": {
    "name": "ipython",
    "version": 3
   },
   "file_extension": ".py",
   "mimetype": "text/x-python",
   "name": "python",
   "nbconvert_exporter": "python",
   "pygments_lexer": "ipython3",
   "version": "3.7.9-final"
  },
  "orig_nbformat": 2,
  "kernelspec": {
   "name": "python3",
   "display_name": "Python 3",
   "language": "python"
  }
 },
 "nbformat": 4,
 "nbformat_minor": 2,
 "cells": [
  {
   "cell_type": "code",
   "execution_count": 1,
   "metadata": {},
   "outputs": [],
   "source": [
    "import torch\n",
    "from transformers import AutoTokenizer, AutoModelForSequenceClassification\n",
    "\n",
    "paraphraseTokenizer = AutoTokenizer.from_pretrained(\n",
    "    \"bert-base-cased-finetuned-mrpc\",cache_dir ='../model/')\n",
    "paraphraseModel = AutoModelForSequenceClassification.from_pretrained(\n",
    "    \"bert-base-cased-finetuned-mrpc\", cache_dir ='../model/',)\n",
    "\n",
    "from sentence_transformers import SentenceTransformer, util\n",
    "sentenceTransformer = SentenceTransformer(\"roberta-base-nli-stsb-mean-tokens\")\n",
    "\n",
    "classes = [\"not paraphrase\", \"is paraphrase\"]\n",
    "\n",
    "def inference_mrpc(seq1s, seq2s):\n",
    "    for i in range(len(seq1s)):\n",
    "        paraphrase = paraphraseTokenizer.encode_plus(\n",
    "            seq1s[i], seq2s[i], return_tensors=\"pt\")\n",
    "        logits = paraphraseModel(**paraphrase)[0]\n",
    "        paraphrase_results = torch.softmax(logits, dim=1).tolist()[0]\n",
    "        print(f\"{classes[1]}: {round(paraphrase_results[1] * 100)}%\")\n",
    "\n",
    "def inference_sts(sentences1, sentences2):\n",
    "    embeddings1 = sentenceTransformer.encode(sentences1, convert_to_tensor=True)\n",
    "    embeddings2 = sentenceTransformer.encode(sentences2, convert_to_tensor=True)\n",
    "    cosine_scores = util.pytorch_cos_sim(embeddings1, embeddings2)\n",
    "    for i in range(len(sentences1)):\n",
    "        print(\"Similarity Score: {:.4f}\".format(cosine_scores[i][i]))"
   ]
  },
  {
   "cell_type": "code",
   "execution_count": 2,
   "metadata": {},
   "outputs": [
    {
     "output_type": "stream",
     "name": "stdout",
     "text": [
      "is paraphrase: 94%\n",
      "is paraphrase: 94%\n",
      "is paraphrase: 94%\n",
      "is paraphrase: 93%\n",
      "Similarity Score: 0.8999\n",
      "Similarity Score: 0.9313\n",
      "Similarity Score: 0.9685\n",
      "Similarity Score: 0.9409\n"
     ]
    }
   ],
   "source": [
    "seq0 = \"I caused him to submit his resignation\"\n",
    "seq1 = \"I caused the submission of his resignation\"\n",
    "seq2 = \"I caused him to submit the resignation\"\n",
    "seq3 = \"I caused the submission of his resignation\"\n",
    "seq4 = \"I caused the submission of the resignation\"\n",
    "seq5 = \"I caused the submission of his resignation\"\n",
    "seq6 = \"cut up an apple\"\n",
    "seq7 = \"cut an apple into piece\"\n",
    "\n",
    "sentences1 = [seq0, seq2, seq4, seq6]\n",
    "sentences2 = [seq1, seq3, seq5, seq7]\n",
    "\n",
    "inference_mrpc(sentences1, sentences2)\n",
    "inference_sts(sentences1, sentences2)"
   ]
  },
  {
   "cell_type": "code",
   "execution_count": null,
   "metadata": {},
   "outputs": [],
   "source": []
  }
 ]
}