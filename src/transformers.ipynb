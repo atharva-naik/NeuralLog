{
 "cells": [
  {
   "cell_type": "code",
   "execution_count": 92,
   "metadata": {},
   "outputs": [
    {
     "name": "stderr",
     "output_type": "stream",
     "text": [
      "Some weights of the model checkpoint at textattack/roberta-base-MRPC were not used when initializing RobertaForSequenceClassification: ['roberta.pooler.dense.weight', 'roberta.pooler.dense.bias']\n",
      "- This IS expected if you are initializing RobertaForSequenceClassification from the checkpoint of a model trained on another task or with another architecture (e.g. initializing a BertForSequenceClassification model from a BertForPreTraining model).\n",
      "- This IS NOT expected if you are initializing RobertaForSequenceClassification from the checkpoint of a model that you expect to be exactly identical (initializing a BertForSequenceClassification model from a BertForSequenceClassification model).\n"
     ]
    }
   ],
   "source": [
    "import torch\n",
    "from transformers import AutoTokenizer, AutoModelForSequenceClassification\n",
    "\n",
    "#paraphraseTokenizer = AutoTokenizer.from_pretrained(\n",
    "    #\"bert-base-cased-finetuned-mrpc\",cache_dir ='../model/')\n",
    "#paraphraseModel = AutoModelForSequenceClassification.from_pretrained(\n",
    "    #\"bert-base-cased-finetuned-mrpc\", cache_dir ='../model/',)\n",
    "    \n",
    "paraphraseTokenizer = AutoTokenizer.from_pretrained(\"textattack/roberta-base-MRPC\")  \n",
    "paraphraseModel = AutoModelForSequenceClassification.from_pretrained(\"textattack/roberta-base-MRPC\")\n",
    "\n",
    "from sentence_transformers import SentenceTransformer, util\n",
    "sentenceTransformer = SentenceTransformer(\"roberta-large-nli-stsb-mean-tokens\")\n",
    "\n",
    "classes = [\"not paraphrase\", \"is paraphrase\"]\n",
    "\n"
   ]
  },
  {
   "cell_type": "code",
   "execution_count": 93,
   "metadata": {},
   "outputs": [],
   "source": [
    "def word_similarity(s1, s2):\n",
    "    num_sim = 0\n",
    "    seq1 = s1.split(\" \")\n",
    "    for w in seq1:\n",
    "        if w in s2:\n",
    "            num_sim += 1\n",
    "    return num_sim / len(seq1)\n",
    "\n",
    "def inference_mrpc(seq1s, seq2s):\n",
    "    for i in range(len(seq1s)):\n",
    "        paraphrase = paraphraseTokenizer.encode_plus(\n",
    "            seq1s[i], seq2s[i], return_tensors=\"pt\")\n",
    "        logits = paraphraseModel(**paraphrase)[0]\n",
    "        paraphrase_results = torch.softmax(logits, dim=1).tolist()[0]\n",
    "        print(f\"{classes[1]}: {round(paraphrase_results[1] * 100)}%\")\n",
    "\n",
    "def inference_sts(sentences1, sentences2):\n",
    "    embeddings1 = sentenceTransformer.encode(sentences1, convert_to_tensor=True)\n",
    "    embeddings2 = sentenceTransformer.encode(sentences2, convert_to_tensor=True)\n",
    "    cosine_scores = util.pytorch_cos_sim(embeddings1, embeddings2)\n",
    "    for i in range(len(sentences1)):\n",
    "        print(\"Similarity Score: {:.4f}\".format(cosine_scores[i][i] * word_similarity(\n",
    "            sentences1[i], sentences2[i])))"
   ]
  },
  {
   "cell_type": "code",
   "execution_count": 96,
   "metadata": {},
   "outputs": [
    {
     "name": "stdout",
     "output_type": "stream",
     "text": [
      "is paraphrase: 100%\n",
      "is paraphrase: 100%\n",
      "is paraphrase: 100%\n",
      "is paraphrase: 99%\n",
      "Similarity Score: 0.5415\n",
      "Similarity Score: 0.5464\n",
      "Similarity Score: 0.9770\n",
      "Similarity Score: 0.6805\n"
     ]
    }
   ],
   "source": [
    "seq0 = \"I caused him to submit his resignation\"\n",
    "seq1 = \"I caused the submission of his resignation\"\n",
    "seq2 = \"I caused him to submit the resignation\"\n",
    "seq3 = \"I caused the submission of his resignation\"\n",
    "seq4 = \"I caused the submission of the resignation\"\n",
    "seq5 = \"I caused the submission of his resignation\"\n",
    "seq6 = \"John ate an apple\"\n",
    "seq7 = \"an apple was eaten by john\"\n",
    "\n",
    "sentences1 = [seq0, seq2, seq4, seq6]\n",
    "sentences2 = [seq1, seq3, seq5, seq7]\n",
    "\n",
    "inference_mrpc(sentences1, sentences2)\n",
    "inference_sts(sentences1, sentences2)"
   ]
  },
  {
   "cell_type": "code",
   "execution_count": null,
   "metadata": {},
   "outputs": [],
   "source": []
  }
 ],
 "metadata": {
  "kernelspec": {
   "display_name": "Python 3",
   "language": "python",
   "name": "python3"
  },
  "language_info": {
   "codemirror_mode": {
    "name": "ipython",
    "version": 3
   },
   "file_extension": ".py",
   "mimetype": "text/x-python",
   "name": "python",
   "nbconvert_exporter": "python",
   "pygments_lexer": "ipython3",
   "version": "3.6.10"
  }
 },
 "nbformat": 4,
 "nbformat_minor": 2
}
