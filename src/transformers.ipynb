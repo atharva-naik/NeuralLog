{
 "cells": [
  {
   "cell_type": "code",
   "execution_count": 120,
   "metadata": {},
   "outputs": [
    {
     "name": "stderr",
     "output_type": "stream",
     "text": [
      "Some weights of the model checkpoint at textattack/roberta-base-MRPC were not used when initializing RobertaForSequenceClassification: ['roberta.pooler.dense.weight', 'roberta.pooler.dense.bias']\n",
      "- This IS expected if you are initializing RobertaForSequenceClassification from the checkpoint of a model trained on another task or with another architecture (e.g. initializing a BertForSequenceClassification model from a BertForPreTraining model).\n",
      "- This IS NOT expected if you are initializing RobertaForSequenceClassification from the checkpoint of a model that you expect to be exactly identical (initializing a BertForSequenceClassification model from a BertForSequenceClassification model).\n"
     ]
    }
   ],
   "source": [
    "import torch\n",
    "from transformers import AutoTokenizer, AutoModelForSequenceClassification,AutoModel\n",
    "\n",
    "roberta_MRPC = \"textattack/roberta-base-MRPC\"\n",
    "bert_MRPC = \"bert-base-cased-finetuned-mrpc\"\n",
    "\n",
    "paraphraseTokenizer = AutoTokenizer.from_pretrained(roberta_MRPC)  \n",
    "paraphraseModel = AutoModelForSequenceClassification.from_pretrained(roberta_MRPC)\n",
    "\n",
    "from sentence_transformers import SentenceTransformer, util\n",
    "sentenceTransformer = SentenceTransformer(\"roberta-large-nli-stsb-mean-tokens\")\n",
    "\n",
    "classes = [\"not paraphrase\", \"is paraphrase\"]"
   ]
  },
  {
   "cell_type": "code",
   "execution_count": 121,
   "metadata": {},
   "outputs": [],
   "source": [
    "def word_similarity(s1, s2):\n",
    "    num_sim = 0\n",
    "    seq1 = s1.split(\" \")\n",
    "    for w in seq1:\n",
    "        if w in s2:\n",
    "            num_sim += 1\n",
    "    return num_sim / len(seq1)\n",
    "\n",
    "def inference_mrpc(seq1s, seq2s):\n",
    "    for i in range(len(seq1s)):\n",
    "        paraphrase = paraphraseTokenizer.encode_plus(\n",
    "            seq1s[i], seq2s[i], return_tensors=\"pt\")\n",
    "        logits = paraphraseModel(**paraphrase)[0]\n",
    "        paraphrase_results = torch.softmax(logits, dim=1).tolist()[0]\n",
    "        print(f\"{classes[1]}: {round(paraphrase_results[1] * 100)}%\")\n",
    "        \n",
    "\n",
    "\n",
    "\n",
    "def inference_sts(seq1s, seq2s):\n",
    "    embeddings1 = sentenceTransformer.encode(seq1s, convert_to_tensor=True)\n",
    "    embeddings2 = sentenceTransformer.encode(seq2s, convert_to_tensor=True)\n",
    "    cosine_scores = util.pytorch_cos_sim(embeddings1, embeddings2)\n",
    "    for i in range(len(seq1s)):\n",
    "        print(\"Similarity Score: {:.4f}\".format(cosine_scores[i][i] * word_similarity(\n",
    "            seq1s[i], seq2s[i])))\n",
    "    #for i in range(len(seq1s)):\n",
    "    #    score = sbert.predict([(seq1s[i]), (seq2s[i])])\n",
    "    #    print(f\"similarity: {round(score * 100, 2)}%\")"
   ]
  },
  {
   "cell_type": "code",
   "execution_count": 122,
   "metadata": {
    "scrolled": true
   },
   "outputs": [
    {
     "name": "stdout",
     "output_type": "stream",
     "text": [
      "is paraphrase: 100%\n",
      "is paraphrase: 100%\n",
      "is paraphrase: 100%\n",
      "is paraphrase: 99%\n",
      "is paraphrase: 99%\n",
      "Similarity Score: 0.5415\n",
      "Similarity Score: 0.5464\n",
      "Similarity Score: 0.9770\n",
      "Similarity Score: 0.6805\n",
      "Similarity Score: 0.4420\n"
     ]
    }
   ],
   "source": [
    "seq0 = \"I caused him to submit his resignation\"\n",
    "seq1 = \"I caused the submission of his resignation\"\n",
    "seq2 = \"I caused him to submit the resignation\"\n",
    "seq3 = \"I caused the submission of his resignation\"\n",
    "seq4 = \"I caused the submission of the resignation\"\n",
    "seq5 = \"I caused the submission of his resignation\"\n",
    "seq6 = \"John ate an apple\"\n",
    "seq7 = \"an apple was eaten by john\"\n",
    "seq8 = \"Egyption hat\"\n",
    "seq9 = \"Egyption headdress\"\n",
    "\n",
    "sentences1 = [seq0, seq2, seq4, seq6, seq8]\n",
    "sentences2 = [seq1, seq3, seq5, seq7, seq9]\n",
    "\n",
    "inference_mrpc(sentences1, sentences2)\n",
    "inference_sts(sentences1, sentences2)"
   ]
  },
  {
   "cell_type": "code",
   "execution_count": 116,
   "metadata": {},
   "outputs": [
    {
     "name": "stdout",
     "output_type": "stream",
     "text": [
      "is paraphrase: 99%\n",
      "Similarity Score: 0.7890\n"
     ]
    }
   ],
   "source": [
    "sentences1 = [\"there is a seated women\"]\n",
    "sentences2 = [\"there is a women sitting\"]\n",
    "\n",
    "inference_mrpc(sentences1, sentences2)\n",
    "inference_sts(sentences1, sentences2)"
   ]
  },
  {
   "cell_type": "code",
   "execution_count": 118,
   "metadata": {},
   "outputs": [
    {
     "name": "stdout",
     "output_type": "stream",
     "text": [
      "is paraphrase: 99%\n",
      "Similarity Score: 0.9588\n"
     ]
    }
   ],
   "source": [
    "sentences1 = [\"a red apple\"]\n",
    "sentences2 = [\"an apple which is red\"]\n",
    "\n",
    "inference_mrpc(sentences1, sentences2)\n",
    "inference_sts(sentences1, sentences2)"
   ]
  },
  {
   "cell_type": "code",
   "execution_count": 126,
   "metadata": {},
   "outputs": [
    {
     "name": "stdout",
     "output_type": "stream",
     "text": [
      "is paraphrase: 69%\n",
      "Similarity Score: 0.0823\n"
     ]
    }
   ],
   "source": [
    "sentences1 = [\"a man is crying\"]\n",
    "sentences2 = [\"a man with a smile\"]\n",
    "\n",
    "inference_mrpc(sentences1, sentences2)\n",
    "inference_sts(sentences1, sentences2)"
   ]
  },
  {
   "cell_type": "code",
   "execution_count": 119,
   "metadata": {},
   "outputs": [
    {
     "name": "stdout",
     "output_type": "stream",
     "text": [
      "is paraphrase: 99%\n",
      "Similarity Score: 0.7147\n"
     ]
    }
   ],
   "source": [
    "sentences1 = [\"a problem is solved\"]\n",
    "sentences2 = [\"resolved a problem\"]\n",
    "\n",
    "inference_mrpc(sentences1, sentences2)\n",
    "inference_sts(sentences1, sentences2)"
   ]
  },
  {
   "cell_type": "code",
   "execution_count": 108,
   "metadata": {},
   "outputs": [
    {
     "name": "stdout",
     "output_type": "stream",
     "text": [
      "is paraphrase: 100%\n",
      "Similarity Score: 0.7243\n"
     ]
    }
   ],
   "source": [
    "\n",
    "sentences1 = [\"enjoying a balloon joyride\"]\n",
    "sentences2 = [\"on a balloon joyride\"]\n",
    "\n",
    "inference_mrpc(sentences1, sentences2)\n",
    "inference_sts(sentences1, sentences2)"
   ]
  },
  {
   "cell_type": "code",
   "execution_count": 102,
   "metadata": {},
   "outputs": [
    {
     "name": "stderr",
     "output_type": "stream",
     "text": [
      "Some weights of the model checkpoint at microsoft/deberta-large were not used when initializing DebertaForSequenceClassification: ['lm_predictions.lm_head.bias', 'lm_predictions.lm_head.dense.weight', 'lm_predictions.lm_head.dense.bias', 'lm_predictions.lm_head.LayerNorm.weight', 'lm_predictions.lm_head.LayerNorm.bias', 'config', 'deberta.embeddings.position_embeddings.weight']\n",
      "- This IS expected if you are initializing DebertaForSequenceClassification from the checkpoint of a model trained on another task or with another architecture (e.g. initializing a BertForSequenceClassification model from a BertForPreTraining model).\n",
      "- This IS NOT expected if you are initializing DebertaForSequenceClassification from the checkpoint of a model that you expect to be exactly identical (initializing a BertForSequenceClassification model from a BertForSequenceClassification model).\n",
      "Some weights of DebertaForSequenceClassification were not initialized from the model checkpoint at microsoft/deberta-large and are newly initialized: ['pooler.dense.weight', 'pooler.dense.bias', 'classifier.weight', 'classifier.bias']\n",
      "You should probably TRAIN this model on a down-stream task to be able to use it for predictions and inference.\n"
     ]
    }
   ],
   "source": [
    "from transformers import DebertaTokenizer, DebertaForSequenceClassification\n",
    "import torch\n",
    "\n",
    "tokenizer = DebertaTokenizer.from_pretrained('microsoft/deberta-large')\n",
    "model = DebertaForSequenceClassification.from_pretrained('microsoft/deberta-large')"
   ]
  },
  {
   "cell_type": "code",
   "execution_count": 79,
   "metadata": {},
   "outputs": [],
   "source": [
    "inputs = tokenizer.encode_plus(\"John ate an apple\", \"an apple was eaten\", return_tensors=\"pt\")\n",
    "labels = torch.tensor([1]).unsqueeze(0)\n",
    "outputs = model(**inputs)\n",
    "logits = outputs.logits"
   ]
  },
  {
   "cell_type": "code",
   "execution_count": 80,
   "metadata": {},
   "outputs": [
    {
     "name": "stdout",
     "output_type": "stream",
     "text": [
      "is paraphrase: 52%\n"
     ]
    }
   ],
   "source": [
    "paraphrase_results = torch.softmax(logits, dim=1).tolist()[0]\n",
    "print(f\"{classes[1]}: {round(paraphrase_results[0] * 100)}%\")"
   ]
  },
  {
   "cell_type": "code",
   "execution_count": null,
   "metadata": {},
   "outputs": [],
   "source": []
  }
 ],
 "metadata": {
  "kernelspec": {
   "display_name": "Python 3",
   "language": "python",
   "name": "python3"
  },
  "language_info": {
   "codemirror_mode": {
    "name": "ipython",
    "version": 3
   },
   "file_extension": ".py",
   "mimetype": "text/x-python",
   "name": "python",
   "nbconvert_exporter": "python",
   "pygments_lexer": "ipython3",
   "version": "3.6.10"
  }
 },
 "nbformat": 4,
 "nbformat_minor": 2
}
