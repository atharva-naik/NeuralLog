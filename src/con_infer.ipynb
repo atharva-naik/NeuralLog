{
 "cells": [
  {
   "cell_type": "code",
   "execution_count": 2,
   "metadata": {},
   "outputs": [
    {
     "name": "stderr",
     "output_type": "stream",
     "text": [
      "2021-03-23 08:20:50 INFO: Loading these models for language: en (English):\n",
      "========================================\n",
      "| Processor | Package                  |\n",
      "----------------------------------------\n",
      "| tokenize  | ../model/e...ize/gum.pt  |\n",
      "| pos       | ../model/en/pos/ewt.pt   |\n",
      "| lemma     | ../model/en/lemma/gum.pt |\n",
      "| depparse  | ../model/e...rse/gum.pt  |\n",
      "========================================\n",
      "\n",
      "2021-03-23 08:20:50 INFO: Use device: cpu\n",
      "2021-03-23 08:20:50 INFO: Loading: tokenize\n",
      "2021-03-23 08:20:50 INFO: Loading: pos\n",
      "2021-03-23 08:20:52 INFO: Loading: lemma\n",
      "2021-03-23 08:20:52 INFO: Loading: depparse\n",
      "2021-03-23 08:20:55 INFO: Done loading processors!\n",
      "2021-03-23 08:20:55 INFO: Loading these models for language: en (English):\n",
      "=======================================\n",
      "| Processor | Package                 |\n",
      "---------------------------------------\n",
      "| tokenize  | ../model/e...ize/gum.pt |\n",
      "=======================================\n",
      "\n",
      "2021-03-23 08:20:55 INFO: Use device: cpu\n",
      "2021-03-23 08:20:55 INFO: Loading: tokenize\n",
      "2021-03-23 08:20:55 INFO: Done loading processors!\n"
     ]
    }
   ],
   "source": [
    "from copy import deepcopy\n",
    "from Udep2Mono.util import btree2list\n",
    "from Udep2Mono.dependency_parse import dependency_parse\n",
    "from Udep2Mono.binarization import BinaryDependencyTree\n",
    "from Udep2Mono.polarization import PolarizationPipeline"
   ]
  },
  {
   "cell_type": "code",
   "execution_count": 3,
   "metadata": {},
   "outputs": [],
   "source": [
    "det_type_words = {\n",
    "    \"det:univ\": [\"all\", \"every\", \"each\", \"any\", \"all-of-the\"],\n",
    "    \"det:exist\": [\"a\", \"an\", \"some\", \"double\", \"triple\", \"some-of-the\", \"al-least\", \"more-than\"],\n",
    "    \"det:limit\": [\"such\", \"both\", \"the\", \"this\", \"that\",\n",
    "                  \"those\", \"these\", \"my\", \"his\", \"her\",\n",
    "                  \"its\", \"either\", \"both\", \"another\"],\n",
    "    \"det:negation\": [\"no\", \"neither\", \"never\", \"none\", \"none-of-the\", \"less-than\", \"at-most\", \"few\"]\n",
    "}"
   ]
  },
  {
   "cell_type": "code",
   "execution_count": 4,
   "metadata": {},
   "outputs": [],
   "source": [
    "import os\n",
    "from nltk.tree import Tree\n",
    "from nltk.draw import TreeWidget\n",
    "from nltk.draw.util import CanvasFrame\n",
    "from IPython.display import Image, display\n",
    "\n",
    "def jupyter_draw_nltk_tree(tree):\n",
    "    cf = CanvasFrame()\n",
    "    tc = TreeWidget(cf.canvas(), tree)\n",
    "    tc['node_font'] = 'arial 14 bold'\n",
    "    tc['leaf_font'] = 'arial 14'\n",
    "    tc['node_color'] = '#005990'\n",
    "    tc['leaf_color'] = '#3F8F57'\n",
    "    tc['line_color'] = '#175252'\n",
    "    cf.add_widget(tc, 20, 20)\n",
    "    os.system('rm -rf ../data/tree.png')\n",
    "    os.system('rm -rf ../data/tree.ps')\n",
    "    cf.print_to_file('../data/tree.ps')\n",
    "    cf.destroy()\n",
    "    os.system('magick convert ../data/tree.ps ../data/tree.png')\n",
    "    display(Image(filename='../data/tree.png'))"
   ]
  },
  {
   "cell_type": "code",
   "execution_count": 5,
   "metadata": {},
   "outputs": [],
   "source": [
    "from pattern.en import pluralize, singularize\n",
    "from copy import copy\n",
    "\n",
    "class ContradictionGenerator:\n",
    "    def __init__(self):\n",
    "        self.deptree = None\n",
    "        self.annotated = None\n",
    "        self.original = None\n",
    "        self.kb = {}\n",
    "        self.tree_log = []\n",
    "        self.sent_log = []\n",
    "        \n",
    "    def deptree_negation_generate(self, tree, annotated, original):\n",
    "        self.tree_log = []\n",
    "        self.sent_log = []\n",
    "        self.deptree = tree\n",
    "        self.original = original  \n",
    "        self.annotated = deepcopy(annotated)\n",
    "        pop_list = list(annotated.popkeys())\n",
    "        unziped = list(zip(*pop_list))\n",
    "\n",
    "        self.sentence = list(unziped[0])\n",
    "        self.word_ids = unziped[3]\n",
    "        self.pos_tags = unziped[1]\n",
    "        self.polarities = unziped[2]\n",
    "        self.beVerb = False\n",
    "        self.nots = 1\n",
    "        self.nsubjs = 0\n",
    "        self.notDet = 1\n",
    "        self.expl = False\n",
    "        \n",
    "        self.generate_not(self.deptree)\n",
    "        self.negate_det(self.deptree)\n",
    "        \n",
    "\n",
    "    def rollback(self, tree, backup):\n",
    "        tree.val = backup.val\n",
    "        tree.left = deepcopy(backup.left)\n",
    "        tree.right = deepcopy(backup.right)\n",
    "        tree.mark = backup.mark\n",
    "        tree.pos = backup.pos\n",
    "        tree.negates = backup.negates\n",
    "        tree.id = backup.id\n",
    "        tree.is_tree = backup.is_tree\n",
    "        tree.is_root = backup.is_root\n",
    "\n",
    "    def negate_det(self, tree):\n",
    "        \n",
    "        if tree.val == \"nsubj\":\n",
    "            self.nsubjs += 1\n",
    "            orig = self.nsubjs\n",
    "            self.negate_det(tree.left)\n",
    "            self.nsubjs = orig\n",
    "            self.negate_det(tree.right)\n",
    "            return\n",
    "        \n",
    "        if tree.val == \"det\" and self.nsubjs == 1:\n",
    "            target = self.down_right(tree.left)\n",
    "            sentence = deepcopy(self.sentence)\n",
    "            if(target.val.lower() in det_type_words[\"det:exist\"]):\n",
    "                sentence[target.id-1] = \"no\"\n",
    "                self.sent_log.append((' ').join(sentence))\n",
    "            elif(target.val.lower() in det_type_words[\"det:negation\"]):\n",
    "                sentence[target.id-1] = \"some\"\n",
    "                self.sent_log.append((' ').join(sentence))\n",
    "            elif(target.val.lower() in  det_type_words[\"det:univ\"] and self.notDet == 1):\n",
    "                sentence.insert(target.id-1, \"not\")\n",
    "                self.notDet -= 1\n",
    "                self.sent_log.append((' ').join(sentence))\n",
    "    \n",
    "  #  \"det:limit\"\n",
    "     \n",
    "        if tree.is_tree:\n",
    "            self.negate_det(tree.left)\n",
    "            self.negate_det(tree.right) \n",
    "    \n",
    "    def down_right(self, tree):\n",
    "        if(tree.right != None):\n",
    "            return self.down_right(tree.right)\n",
    "        return tree\n",
    "    \n",
    "    def add_not(self, tree, modifier):\n",
    "        if(self.nots < 1):\n",
    "            return\n",
    "        if self.beVerb:\n",
    "            index = self.down_right(tree.left).id\n",
    "        elif self.expl:\n",
    "            index = self.down_right(tree).id\n",
    "        else:\n",
    "            index = self.down_right(tree).id-1\n",
    "        sentence = deepcopy(self.sentence)\n",
    "        sentence.insert(index, modifier)\n",
    "        if(\"not\" in modifier):\n",
    "            self.sent_log.append(' '.join(sentence))\n",
    "            self.nots -= 1\n",
    "            \n",
    "\n",
    "\n",
    "    def generate_not(self, tree):\n",
    "        '''if tree.pos is not None:\n",
    "            if \"VB\" in tree.pos:\n",
    "                self.add_modifier_lexical(tree, \"not\", tree.val, tree.id)\n",
    "                self.add_modifier_lexical(tree, \"not\", tree.val, tree.id, 1)'''\n",
    "        if tree.val == \"expl\":\n",
    "            self.expl = True\n",
    "            \n",
    "        if tree.val in [\"aux\", \"cop\"]:\n",
    "            self.beVerb = True\n",
    "            self.add_not(tree, \"not\")\n",
    "        elif tree.val in [\"obj\", \"obl\", \"xcomp\"] and not self.beVerb:\n",
    "            self.add_not(tree, \"do not\")\n",
    "        elif self.expl and tree.val == \"nsubj\":\n",
    "            self.add_not(tree, \"not\")\n",
    "            self.expl = False\n",
    "        \n",
    "        if tree.is_tree:\n",
    "            self.generate_not(tree.left)\n",
    "            self.generate_not(tree.right) \n",
    "\n",
    "    def save_tree(self, isTree):\n",
    "        if isTree:\n",
    "            leaves = self.deptree.sorted_leaves().popkeys()\n",
    "            sentence = ' '.join([x[0] for x in leaves])\n",
    "            self.tree_log.append(self.deptree.copy())\n",
    "            #polarized = pipeline.postprocess(self.deptree, {})\n",
    "            #btreeViz = Tree.fromstring(polarized.replace('[', '(').replace(']', ')'))\n",
    "            #jupyter_draw_nltk_tree(btreeViz) \n",
    "            #leaves = copy(self.deptree).sorted_leaves().popkeys()\n",
    "            #sentence = ' '.join([x[0] for x in leaves]) \n",
    "        else:\n",
    "            annotated_cp = deepcopy(self.annotated)\n",
    "            self.sent_log.append(\n",
    "                ' '.join([word[0] for word in list(annotated_cp.popkeys())]))\n",
    "\n",
    "    def buildTree(self, config):\n",
    "        left = BinaryDependencyTree(\n",
    "            config['mod'], \"N\", \"N\", 1024, \n",
    "            wid=config['lid'], pos=\"JJ\")\n",
    "        right = BinaryDependencyTree(\n",
    "            config['head'], \"N\", \"N\", 1024,\n",
    "            wid=config['rid'], pos=\"NN\")\n",
    "        tree = BinaryDependencyTree(config['rel'], left, right, 1025)\n",
    "        left.mark = config['mark']\n",
    "        right.mark = config['mark']\n",
    "        tree.mark = config['mark']\n",
    "        return tree"
   ]
  },
  {
   "cell_type": "code",
   "execution_count": null,
   "metadata": {},
   "outputs": [],
   "source": []
  },
  {
   "cell_type": "code",
   "execution_count": null,
   "metadata": {},
   "outputs": [],
   "source": []
  },
  {
   "cell_type": "code",
   "execution_count": 7,
   "metadata": {},
   "outputs": [
    {
     "data": {
      "image/png": "[encoded data removed]",
      "text/plain": [
       "<IPython.core.display.Image object>"
      ]
     },
     "metadata": {},
     "output_type": "display_data"
    },
    {
     "name": "stdout",
     "output_type": "stream",
     "text": [
      "['There is not an apple', 'There is no apple']\n"
     ]
    },
    {
     "data": {
      "image/png": "[encoded data removed]",
      "text/plain": [
       "<IPython.core.display.Image object>"
      ]
     },
     "metadata": {},
     "output_type": "display_data"
    },
    {
     "name": "stdout",
     "output_type": "stream",
     "text": [
      "['Every people do not like music', 'not Every people like music']\n"
     ]
    },
    {
     "data": {
      "image/png": "[encoded data removed]",
      "text/plain": [
       "<IPython.core.display.Image object>"
      ]
     },
     "metadata": {},
     "output_type": "display_data"
    },
    {
     "name": "stdout",
     "output_type": "stream",
     "text": [
      "['I am not doing homework']\n"
     ]
    },
    {
     "data": {
      "image/png": "[encoded data removed]",
      "text/plain": [
       "<IPython.core.display.Image object>"
      ]
     },
     "metadata": {},
     "output_type": "display_data"
    },
    {
     "name": "stdout",
     "output_type": "stream",
     "text": [
      "['He do not likes studying']\n"
     ]
    },
    {
     "data": {
      "image/png": "[encoded data removed]",
      "text/plain": [
       "<IPython.core.display.Image object>"
      ]
     },
     "metadata": {},
     "output_type": "display_data"
    },
    {
     "name": "stdout",
     "output_type": "stream",
     "text": [
      "['No apple is not blue', 'some apple is blue']\n"
     ]
    }
   ],
   "source": [
    "sentences = [\"There is an apple\",\"Every people like music\", \"I am doing homework\", \"He likes studying\", \"No apple is blue\"]#, \"There is a sweet apple\",\"There is not a sweet apple\"]    \n",
    "\n",
    "pipeline = PolarizationPipeline(verbose = 0)\n",
    "pg = ContradictionGenerator()\n",
    "\n",
    "for sentence in sentences:\n",
    "    annotation = pipeline.single_polarization(sentence)\n",
    "    tree1 = pipeline.postprocess(annotation[\"polarized_tree\"])\n",
    "    btree = Tree.fromstring(tree1.replace('[', '(').replace(']', ')'))\n",
    "    pg.deptree_negation_generate(annotation[\"polarized_tree\"],annotation[\"annotated\"],annotation[\"original\"])\n",
    "    #tree_visuals.append(svgling.draw_tree(tree1))\n",
    "    jupyter_draw_nltk_tree(btree)\n",
    "    print(pg.sent_log)"
   ]
  },
  {
   "cell_type": "code",
   "execution_count": null,
   "metadata": {},
   "outputs": [],
   "source": [
    "sentences = [\"Some red flowers need light\", \n",
    "             \"Some red and beautiful flowers need light\",\n",
    "             \"All flowers need light and water\", \n",
    "             \"No flowers need bright or warm light\",\n",
    "             \"John can sing and dance\",\n",
    "             \"John ate an apple and finished his homework\",\n",
    "             \"John finished his homework and did not eat an apple\"]\n",
    "\n",
    "upward = [\"Some students sing to celebrate their graduation\",\n",
    "          \"An Irishman won the nobel prize for literature.\",\n",
    "          \"A big poison spider was spanning a web\", \n",
    "          \"A Californian special policeman pulled a car over and spoke to the driver\",\n",
    "          \"A woman is dancing in a cage\", \n",
    "          \"A woman is dancing beautifully in a cage\", \n",
    "          \"People are riding and paddling a raft\", \n",
    "          \"Some delegates finished the survey on time\"]\n",
    "\n",
    "sick_upward = [\"A brown dog is attacking another animal in front of the tall man in pants\",\n",
    "               \"A skilled person is riding a bicycle on one wheel\",\n",
    "               \"Two children are lying in the snow and are drawing angels\"]\n",
    "\n",
    "downward = [\"No spider was spanning a web\",\n",
    "            \"No student finished homework\",\n",
    "            \"I've never flown in an airplane\"]\n",
    "\n",
    "hypothesis = [\"No poison spider was spanning a web\", \n",
    "              \"No student at school finished homework compeletly\",\n",
    "              \"I've never flown in an airplane because i'm afraid.\"] "
   ]
  },
  {
   "cell_type": "code",
   "execution_count": null,
   "metadata": {},
   "outputs": [],
   "source": [
    "MED_upward = []\n",
    "MED_upward_hypo = []\n",
    "MED_downward = []\n",
    "MED_downward_hypo = []\n",
    "\n",
    "with open(\"../data/MED/upward.txt\") as upward_med:\n",
    "    lines = upward_med.readlines()\n",
    "    for i in range(len(lines) // 4):\n",
    "        MED_upward.append(lines[i*4+1])\n",
    "        MED_upward_hypo.append(lines[i*4+2])\n",
    "\n",
    "with open(\"../data/MED/downward.txt\") as donward_med:\n",
    "    lines = donward_med.readlines()\n",
    "    for i in range(len(lines) // 4):\n",
    "        MED_downward.append(lines[i*4+1])\n",
    "        MED_downward_hypo.append(lines[i*4+2])"
   ]
  },
  {
   "cell_type": "code",
   "execution_count": null,
   "metadata": {
    "tags": []
   },
   "outputs": [],
   "source": [
    "from tqdm import tqdm\n",
    "\n",
    "annotations = []\n",
    "with open(\"./generation_log_donward.txt\", 'w') as generate_log:\n",
    "    phrasalGenerator = PhrasalGenerator()\n",
    "    pipeline = PolarizationPipeline(verbose=0)\n",
    "    for i in tqdm(range(len(MED_downward))):\n",
    "        h_parsed, _ = dependency_parse(MED_downward_hypo[i], parser=\"stanza\")\n",
    "        h_tree, _ = pipeline.run_binarization(h_parsed, MED_downward_hypo[i], {})\n",
    "        nn_phrases = dict()\n",
    "        vb_phrases = dict()\n",
    "        collect_modifiers(h_tree, nn_phrases, mod_type=\"NN\")\n",
    "        collect_modifiers(h_tree, vb_phrases, mod_type=\"VB\")\n",
    "        annotation = pipeline.single_polarization(MED_downward[i])\n",
    "        annotation['polarized_tree'].negates = h_tree.negates\n",
    "        \n",
    "        #print(\"\\n====================================\")\n",
    "        generate_log.write(\"\\n====================================\")\n",
    "        \n",
    "        phrasalGenerator.kb = merge(nn_phrases, vb_phrases)\n",
    "        #print(phrasalGenerator.kb)\n",
    "       \n",
    "        #print(\"\\nInit Premise: \" + annotation['original'])\n",
    "        generate_log.write(\"\\nInit Premise: \" + annotation['original'])\n",
    "        generate_log.write(\"\\nHypothesis: \" + MED_downward_hypo[i])\n",
    "        \n",
    "        #polarized = pipeline.postprocess(annotation['polarized_tree'], {})\n",
    "        #btreeViz = Tree.fromstring(polarized.replace('[', '(').replace(']', ')'))\n",
    "        #jupyter_draw_nltk_tree(btreeViz) \n",
    "        \n",
    "        print(annotation['polarized_tree'].negates)\n",
    "        phrasalGenerator.deptree_generate(\n",
    "            annotation['polarized_tree'], \n",
    "            annotation['annotated'], \n",
    "            annotation['original'])\n",
    "\n",
    "        for gen_tree in phrasalGenerator.tree_log:\n",
    "            leaves = gen_tree.sorted_leaves().popkeys()\n",
    "            sentence = ' '.join([x[0] for x in leaves])\n",
    "            #print(\"\\nNext Premise: \" + sentence)\n",
    "            generate_log.write(\"\\nNext Premise: \" + sentence)\n",
    "        \n",
    "        for gen_sent in set(phrasalGenerator.sent_log):\n",
    "            #print(\"\\nNext Premise: \" + gen_sent)\n",
    "            generate_log.write(\"\\nNext Premise: \" + gen_sent)\n"
   ]
  },
  {
   "cell_type": "code",
   "execution_count": null,
   "metadata": {},
   "outputs": [],
   "source": [
    "up = [\"few female committee members are from southern Europe.\"]\n",
    "up_h = [\"Not few female committee members are from southern Europe.\"]\n",
    "\n",
    "annotations = []\n",
    "phrasalGenerator = PhrasalGenerator()\n",
    "pipeline = PolarizationPipeline(verbose=0)\n",
    "for i in range(len(up)):\n",
    "    h_parsed, _ = dependency_parse(up_h[i], parser=\"stanza\")\n",
    "    h_tree, _ = pipeline.run_binarization(h_parsed, up_h[i], {})\n",
    "    nn_phrases = {} \n",
    "    vb_phrases = {} \n",
    "    negates = collect_modifiers(h_tree, nn_phrases, mod_type=\"NN\") + collect_modifiers(h_tree, vb_phrases, mod_type=\"VB\")\n",
    "    annotation = pipeline.single_polarization(up[i])\n",
    "    annotation['polarized_tree'].negates = negates\n",
    "    \n",
    "    print(\"\\n====================================\")\n",
    "    phrasalGenerator.kb = merge(nn_phrases, vb_phrases)\n",
    "    print(phrasalGenerator.kb)\n",
    "    \n",
    "    print(\"\\nInit Premise: \" + annotation['original'])\n",
    "    \n",
    "    polarized = pipeline.postprocess(annotation['polarized_tree'], {})\n",
    "    btree = Tree.fromstring(polarized.replace('[', '(').replace(']', ')'))\n",
    "    jupyter_draw_nltk_tree(btree) \n",
    "    \n",
    "    \n",
    "    \n",
    "    phrasalGenerator.deptree_generate(\n",
    "        annotation['polarized_tree'], \n",
    "        annotation['annotated'], \n",
    "        annotation['original'])\n",
    "\n",
    "    for gen_tree in phrasalGenerator.tree_log:\n",
    "        leaves = gen_tree.sorted_leaves().popkeys()\n",
    "        sentence = ' '.join([x[0] for x in leaves])\n",
    "        print(\"\\nNext Premise: \" + sentence)\n",
    "    \n",
    "    for gen_sent in set(phrasalGenerator.sent_log):\n",
    "        print(\"\\nNext Premise: \" + gen_sent)"
   ]
  },
  {
   "cell_type": "code",
   "execution_count": null,
   "metadata": {},
   "outputs": [],
   "source": [
    "polarized = \"[nsubj  (NOUN  researchers)  (ccomp  (mark  (SCONJ  that)  (nsubj  (acl  (advmod  (ADV  first)  (obl  (case  (ADP  in)  (PROPN  Britain))  (VERB  identified)))  (acl:relcl  (nsubj:pass  (PRON  which)  (aux:pass  (AUX  is)  (xcomp  (mark  (PART  to)  (advmod  (ADV  more)  (cop  (AUX  be)  (ADJ  infectious))))  (VERB  believed))))  (det  (DET  the)  (NOUN  variant))))  (aux  (AUX  could)  (xcomp  (nmod  (case  (ADP  of)  (det  (DET  the)  (NOUN  virus)))  (nmod  (case  (ADP  in)  (det  (DET  this)  (NOUN  country)))  (det  (DET  the)  (amod  (ADJ  dominant)  (NOUN  form)))))  (obl  (case  (ADP  by)  (PROPN  March))  (VERB  become))))))  (aux  (AUX  have)  (obl  (case  (ADP  In)  (compound  (PROPN  United)  (PROPN  States)))  (VERB  warned))))]\""
   ]
  },
  {
   "cell_type": "code",
   "execution_count": null,
   "metadata": {},
   "outputs": [],
   "source": [
    "btreeViz = Tree.fromstring(polarized.replace('[', '(').replace(']', ')'))\n",
    "jupyter_draw_nltk_tree(btreeViz) "
   ]
  },
  {
   "cell_type": "code",
   "execution_count": null,
   "metadata": {},
   "outputs": [],
   "source": []
  }
 ],
 "metadata": {
  "kernelspec": {
   "display_name": "Python 3",
   "language": "python",
   "name": "python3"
  },
  "language_info": {
   "codemirror_mode": {
    "name": "ipython",
    "version": 3
   },
   "file_extension": ".py",
   "mimetype": "text/x-python",
   "name": "python",
   "nbconvert_exporter": "python",
   "pygments_lexer": "ipython3",
   "version": "3.7.10"
  }
 },
 "nbformat": 4,
 "nbformat_minor": 4
}
